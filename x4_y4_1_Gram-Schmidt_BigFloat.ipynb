{
 "cells": [
  {
   "cell_type": "code",
   "execution_count": 1,
   "metadata": {},
   "outputs": [
    {
     "name": "stderr",
     "output_type": "stream",
     "text": [
      "┌ Info: Precompiling GaussQuadrature [d54b0c1a-921d-58e0-8e36-89d8069c0969]\n",
      "└ @ Base loading.jl:1273\n",
      "┌ Info: Precompiling FastGaussQuadrature [442a2c76-b920-505d-bb47-c5924d526838]\n",
      "└ @ Base loading.jl:1273\n"
     ]
    },
    {
     "ename": "ArgumentError",
     "evalue": "ArgumentError: Package GenericSVD not found in current path:\n- Run `import Pkg; Pkg.add(\"GenericSVD\")` to install the GenericSVD package.\n",
     "output_type": "error",
     "traceback": [
      "ArgumentError: Package GenericSVD not found in current path:\n- Run `import Pkg; Pkg.add(\"GenericSVD\")` to install the GenericSVD package.\n",
      "",
      "Stacktrace:",
      " [1] require(::Module, ::Symbol) at ./loading.jl:887",
      " [2] top-level scope at In[1]:1"
     ]
    }
   ],
   "source": [
    "using GaussQuadrature, FastGaussQuadrature, SpecialFunctions, LinearAlgebra, Plots, GenericSVD"
   ]
  },
  {
   "cell_type": "markdown",
   "metadata": {},
   "source": [
    "On the curve $x^4 + y^4 = 1$, use the inner product\n",
    "$$\n",
    "\\langle f, g \\rangle = \\int_{-1}^{1} \\left[ f(x,y)g(x,y) + f(x,-y)g(x,-y)\\right]\\mathrm{d}x, \\qquad y = \\sqrt[4]{1-x^4}.\n",
    "$$\n",
    "Note that $\\langle x^i, y^j \\rangle = 0$ if $i$ or $j$ is odd. For even $i$ and $j$,\n",
    "$$\n",
    "\\langle x^i, y^j \\rangle = 2\\int_{-1}^{1} x^i y^j \\mathrm{d}x = \\frac{(1+(-1)^i)\\Gamma(j/4+1)\\Gamma(i/4 +1/4)}{2\\Gamma(j/4+5/4+i/4)}=\n",
    " \\frac{(1+(-1)^i)}{2}\\mathrm{B}(j/4+1,i/4 +1/4),\n",
    "$$\n",
    "thus we have an explicit expression for the moments in terms of the Beta function.\n",
    "\n",
    "To procede with the Gram-Schmidt procedure, we'll see that we'll have to compute inner products/moments of the form $\\langle x^i, y^j \\rangle$, for $i\\geq 0$ and $j = 0, 2, 4, 6$. Some experimentation suggests that the rate of convergence of Gauss-Legendre quadrature for $\\langle x^i, y^j \\rangle$ is $\\mathcal{O}\\left(n^{-2-j/2}  \\right)$ if $\\text{mod}(j,4) \\neq 0$. Here is an example for the case $j=2$:"
   ]
  },
  {
   "cell_type": "code",
   "execution_count": 2,
   "metadata": {},
   "outputs": [
    {
     "data": {
      "text/plain": [
       "0.0013509225946603193"
      ]
     },
     "execution_count": 2,
     "metadata": {},
     "output_type": "execute_result"
    }
   ],
   "source": [
    "# the exact value of the moment\n",
    "i = 300\n",
    "j = 2\n",
    "exact = (1/2)*(1+(-1)^i)*beta(j/4+1,i/4+1/4)"
   ]
  },
  {
   "cell_type": "code",
   "execution_count": 3,
   "metadata": {},
   "outputs": [
    {
     "ename": "UndefVarError",
     "evalue": "UndefVarError: gausslegendre not defined",
     "output_type": "error",
     "traceback": [
      "UndefVarError: gausslegendre not defined",
      "",
      "Stacktrace:",
      " [1] (::var\"#5#6\")(::Float64) at ./none:0",
      " [2] iterate at ./generator.jl:47 [inlined]",
      " [3] collect(::Base.Generator{Array{Float64,1},var\"#5#6\"}) at ./array.jl:622",
      " [4] top-level scope at util.jl:155",
      " [5] top-level scope at In[3]:4"
     ]
    }
   ],
   "source": [
    "# Gauss-Legendre quadrature\n",
    "f = x-> 2*x.^i.*(1 .-x.^4).^(j/4)\n",
    "nv = round.(exp10.(range(1,stop=7,length=100)))\n",
    "@time errs = [((nodes, weights) = gausslegendre( Int64(k) );abs((dot(weights,f(nodes)) - exact)/exact)) for k = nv];\n",
    "plot(nv,errs;xscale=:log10, yscale=:log10, legend=false, xlabel=\"n\",ylabel=\"relative error\",title=\"Gauss-Legendre quadrature, O(1/n^3) convergence\")"
   ]
  },
  {
   "cell_type": "markdown",
   "metadata": {},
   "source": [
    "Use BigFloat due to the instability of the Gram-Schmidt procedure:"
   ]
  },
  {
   "cell_type": "code",
   "execution_count": 4,
   "metadata": {},
   "outputs": [
    {
     "data": {
      "text/plain": [
       "7.4661089480257510319207163577905373569367315709736641969737147183677352878062050756355226167830488188767599194425939409937239001708322591587321665376314460498752853291066012021919606078872146520888039263701209049459241001183674703264414261690033208304855870308354118489557585138292876737761413032835424e-301"
      ]
     },
     "execution_count": 4,
     "metadata": {},
     "output_type": "execute_result"
    }
   ],
   "source": [
    "digits = 300\n",
    "p = Int64(round(-log(10.0^(-digits))/log(2)+1))\n",
    "setprecision(p)\n",
    "eps(BigFloat)"
   ]
  },
  {
   "cell_type": "code",
   "execution_count": 5,
   "metadata": {},
   "outputs": [
    {
     "ename": "UndefVarError",
     "evalue": "UndefVarError: jacobi not defined",
     "output_type": "error",
     "traceback": [
      "UndefVarError: jacobi not defined",
      "",
      "Stacktrace:",
      " [1] top-level scope at util.jl:155",
      " [2] top-level scope at In[5]:3"
     ]
    }
   ],
   "source": [
    "# Gauss-Legendre nodes\n",
    "n = 2000;\n",
    "@time x, w = jacobi(n,BigFloat(0),BigFloat(0));"
   ]
  },
  {
   "cell_type": "code",
   "execution_count": 6,
   "metadata": {},
   "outputs": [
    {
     "ename": "UndefVarError",
     "evalue": "UndefVarError: x not defined",
     "output_type": "error",
     "traceback": [
      "UndefVarError: x not defined",
      "",
      "Stacktrace:",
      " [1] top-level scope at In[6]:7"
     ]
    }
   ],
   "source": [
    "# Check the accuracy of these quadrature nodes and weights\n",
    "i = BigFloat(300);\n",
    "j = BigFloat(2);\n",
    "exact = (1/2)*(1+(-1)^i)*beta(j/4+1,i/4+1/4)\n",
    "ip(f,g) = 2*dot(w,f.*g)\n",
    "norm(f) = sqrt(ip(f,f))\n",
    "y = (1 .- x.^4).^(0.25)\n",
    "glapprox=ip(x.^i,y.^j)\n",
    "relerr=abs(1-glapprox/exact)"
   ]
  },
  {
   "cell_type": "markdown",
   "metadata": {},
   "source": [
    "The orthonormal polynomials satisfy\n",
    "$$\n",
    "xQ_n = \\left( B_{n-1}^x \\right)^{\\intercal} Q_{n-1} + A_n^x Q_n + B_{n}^xQ_{n+1}, \\qquad Q_n = \\left[ p_n \\:\n",
    "q_n\\: \n",
    "r_n \\:\n",
    "s_n\\: \\right]^{\\intercal}.\n",
    "$$\n",
    "$Q_0$ is a scalar such that\n",
    "$$\n",
    "Q_0 = \\frac{1}{\\| 1 \\|}.\n",
    "$$\n",
    "From the properties of the inner product it follows that\n",
    "$$\n",
    "A_0^x = \\langle xQ_0, Q_0 \\rangle = 0 = \\langle yQ_0, Q_0 \\rangle = A_0^y.\n",
    "$$\n",
    "Thus, \n",
    "$$\n",
    "\\left[ B_0^x Q_1,  B_0^y Q_1 \\right]  = \\left[ xQ_0, yQ_0  \\right].\n",
    "$$\n",
    "Applying the Gram-Schmidt procedure, we find:\n",
    "$$\n",
    "p_1 = \\frac{Q_0}{\\| xQ_0 \\|}x, \\qquad u_1 = yQ_0 - \\langle yQ_0, p_1\\rangle p_1 = yQ_0, \\qquad q_1 = \\frac{u_1}{\\| u_1 \\|} = \\frac{Q_0}{\\| yQ_0 \\|}y.\n",
    "$$\n",
    "Hence, \n",
    "$$\n",
    "B_0^x = \\left[\\| xQ_0 \\| \\quad  0 \\right], \\qquad B_0^y = \\left[0 \\quad \\| yQ_0 \\| \\right]\n",
    "$$"
   ]
  },
  {
   "cell_type": "code",
   "execution_count": 7,
   "metadata": {},
   "outputs": [
    {
     "ename": "UndefVarError",
     "evalue": "UndefVarError: w not defined",
     "output_type": "error",
     "traceback": [
      "UndefVarError: w not defined",
      "",
      "Stacktrace:",
      " [1] ip(::Array{Float64,2}, ::Array{Float64,2}) at ./In[6]:5",
      " [2] norm(::Array{Float64,2}) at ./In[6]:6",
      " [3] top-level scope at In[7]:1"
     ]
    }
   ],
   "source": [
    "Q0 = BigFloat(1)*ones(n,1)/norm(ones(n,1));\n",
    "b0x = [norm(x.*Q0) 0]\n",
    "b0y = [0 norm(y.*Q0)]\n",
    "p1 = Q0/b0x[1,1].*x\n",
    "q1 = Q0/b0y[1,2].*y;\n",
    "b0x"
   ]
  },
  {
   "cell_type": "code",
   "execution_count": 8,
   "metadata": {},
   "outputs": [
    {
     "ename": "UndefVarError",
     "evalue": "UndefVarError: b0y not defined",
     "output_type": "error",
     "traceback": [
      "UndefVarError: b0y not defined",
      "",
      "Stacktrace:",
      " [1] top-level scope at In[8]:1"
     ]
    }
   ],
   "source": [
    "b0y"
   ]
  },
  {
   "cell_type": "markdown",
   "metadata": {},
   "source": [
    "Proceding with the Gram-Schmidt procedure for $n=1$, we find\n",
    "$$\n",
    "A_1^x = \\langle x Q_1 Q_1^{\\intercal} \\rangle =  \\left(\n",
    "\\begin{array}{c c}\n",
    "\\langle xp_1, p_1\\rangle & \\langle xp_1, q_1\\rangle \\\\\n",
    "\\langle xq_1, p_1\\rangle & \\langle xq_1, q_1\\rangle\n",
    "\\end{array}\n",
    "\\right) = \n",
    "\\left(\n",
    "\\begin{array}{c c}\n",
    "0 & 0 \\\\\n",
    "0 & 0\n",
    "\\end{array}\n",
    "\\right) =  \\langle y Q_1 Q_1^{\\intercal} \\rangle = A_1^y,\n",
    "$$\n",
    "because $p_1 \\in \\lbrace x \\rbrace$ and $q_1 \\in \\lbrace y \\rbrace$. We denote $\\text{span}\\lbrace x \\rbrace$ by $\\lbrace x \\rbrace$ for brevity.  Hence,\n",
    "$$\n",
    "xQ_1 - \\left(B_0^x\\right)^{\\intercal}Q_0 = B_1^x Q_2 =\n",
    "\\left(\n",
    "\\begin{array}{c}\n",
    "xp_1 - b_{1,1}^{0,x}Q_0  \\\\\n",
    "xq_1   \n",
    "\\end{array}\n",
    "\\right)\n",
    "=\n",
    "\\left(\n",
    "\\begin{array}{l}\n",
    "u_1 \\in \\lbrace x^2,1 \\rbrace \\\\\n",
    "u_2 \\in \\lbrace xy \\rbrace \n",
    "\\end{array}\n",
    "\\right)\n",
    "$$\n",
    "$$\n",
    "yQ_1 - \\left(B_0^y\\right)^{\\intercal}Q_0 = B_1^y Q_2= \n",
    "\\left(\n",
    "\\begin{array}{c}\n",
    "yp_1   \\\\\n",
    "yq_1 - b_{1,2}^{0,y}Q_0 \n",
    "\\end{array}\n",
    "\\right)\n",
    "= \n",
    "\\left(\n",
    "\\begin{array}{c}\n",
    "u_3   \\in \\lbrace xy \\rbrace \\\\\n",
    "u_4  \\in \\lbrace y^2,1 \\rbrace \n",
    "\\end{array}\n",
    "\\right)\n",
    "$$\n",
    "\\begin{eqnarray}\n",
    "    p_2 &=& \\frac{u_1}{\\| u_1 \\|} \\in \\lbrace x^2, 1 \\rbrace\\\\\n",
    "    v_2 &=& u_2 - \\langle u_2, p_2  \\rangle p_2 = u_2, \\qquad q_2 = \\frac{u_2}{\\| u_2 \\|}  \\in \\lbrace xy \\rbrace\\\\\n",
    "    v_3 &=& u_4 - \\langle u_4, p_2  \\rangle p_2 - \\langle u_4, q_2  \\rangle q_2 = u_4 - \\langle u_4, p_2  \\rangle p_2 , \\qquad r_2 = \\frac{v_3}{\\| v_3 \\|}  \\in \\lbrace y^2, x^2, 1 \\rbrace \\\\\n",
    "    u_3 &=& \\langle u_3, q_2 \\rangle q_2\n",
    "    \\end{eqnarray}\n",
    "\n",
    "$$\n",
    "B_1^x = \\left(\n",
    "\\begin{array}{c c c}\n",
    "\\| u_1 \\| & & 0\\\\\n",
    " & \\| u_2 \\|  & 0 \n",
    "\\end{array}\n",
    "\\right)\n",
    "\\qquad\n",
    "B_1^y = \\left(\n",
    "\\begin{array}{c c c}\n",
    " & \\langle u_3, q_2 \\rangle  & \\\\\n",
    "\\langle u_4, p_2 \\rangle  &   & \\| v_3 \\| \n",
    "\\end{array}\n",
    "\\right)\n",
    "$$"
   ]
  },
  {
   "cell_type": "code",
   "execution_count": 9,
   "metadata": {},
   "outputs": [
    {
     "ename": "UndefVarError",
     "evalue": "UndefVarError: x not defined",
     "output_type": "error",
     "traceback": [
      "UndefVarError: x not defined",
      "",
      "Stacktrace:",
      " [1] top-level scope at In[9]:1"
     ]
    }
   ],
   "source": [
    "u1 = x.*p1 - b0x[1,1]*Q0\n",
    "u2 = x.*q1\n",
    "u3 = y.*p1\n",
    "u4 = y.*q1 - b0y[1,2]*Q0\n",
    "b1x = BigFloat(0)*zeros(2,3); b1y = BigFloat(0)*zeros(2,3)\n",
    "b1x[1,1] = norm(u1)\n",
    "b1x[2,2] = norm(u2)\n",
    "p2 = u1/b1x[1,1]\n",
    "q2 = u2/b1x[2,2]\n",
    "b1y[2,1] = ip(u4,p2)\n",
    "b1y[1,2] = ip(u3,q2)\n",
    "v3 = u4 - b1y[2,1]*p2\n",
    "b1y[2,3] = norm(v3);\n",
    "r2 = v3/b1y[2,3]\n",
    "b1x"
   ]
  },
  {
   "cell_type": "code",
   "execution_count": 10,
   "metadata": {},
   "outputs": [
    {
     "ename": "UndefVarError",
     "evalue": "UndefVarError: b1y not defined",
     "output_type": "error",
     "traceback": [
      "UndefVarError: b1y not defined",
      "",
      "Stacktrace:",
      " [1] top-level scope at In[10]:1"
     ]
    }
   ],
   "source": [
    "b1y"
   ]
  },
  {
   "cell_type": "code",
   "execution_count": 11,
   "metadata": {},
   "outputs": [
    {
     "ename": "UndefVarError",
     "evalue": "UndefVarError: u1 not defined",
     "output_type": "error",
     "traceback": [
      "UndefVarError: u1 not defined",
      "",
      "Stacktrace:",
      " [1] top-level scope at In[11]:1"
     ]
    }
   ],
   "source": [
    "# check the singular values\n",
    "svdvals([u1 u2 u3 u4])"
   ]
  },
  {
   "cell_type": "markdown",
   "metadata": {},
   "source": [
    "For $n=2$,\n",
    "$$\n",
    "A_2^x = \\langle x Q_2 Q_2^{\\intercal} \\rangle =  0 =  \\langle y Q_2 Q_2^{\\intercal} \\rangle = A_2^y,\n",
    "$$\n",
    "$$\n",
    "xQ_2 - \\left(B_1^x\\right)^{\\intercal}Q_1 = B_2^x Q_3 = \\left(\n",
    "\\begin{array}{c}\n",
    "xp_2 - b_{1,1}^{1,x} p_1   \\\\\n",
    "xq_2 - b_{2,2}^{1,x} q_1   \\\\\n",
    "xr_2 \n",
    "\\end{array}\n",
    "\\right)= \\left(\n",
    "\\begin{array}{l}\n",
    "u_1  \\in \\lbrace x^3,x \\rbrace \\\\\n",
    "u_2  \\in \\lbrace x^2y,y \\rbrace \\\\\n",
    "u_3  \\in \\lbrace xy^2,x^3,x \\rbrace\n",
    "\\end{array}\n",
    "\\right)\n",
    "$$\n",
    "$$\n",
    "yQ_2 - \\left(B_1^y\\right)^{\\intercal}Q_1 = B_2^y Q_3 = \\left(\n",
    "\\begin{array}{c}\n",
    "yp_2 - b_{2,1}^{1,y} q_1   \\\\\n",
    "yq_2 - b_{1,2}^{1,y} p_1   \\\\\n",
    "yr_2 - b_{2,3}^{1,y} q_1\n",
    "\\end{array}\n",
    "\\right)= \\left(\n",
    "\\begin{array}{l}\n",
    "u_4  \\in \\lbrace x^2y,y \\rbrace \\\\\n",
    "u_5  \\in \\lbrace xy^2,x \\rbrace \\\\\n",
    "u_6  \\in \\lbrace y^3,x^2y,y \\rbrace\n",
    "\\end{array}\n",
    "\\right)\n",
    "$$\n",
    "\\begin{eqnarray}\n",
    "p_3 &=& \\frac{u_1}{\\| u_1 \\|} \\in \\lbrace x^3, x \\rbrace \\\\\n",
    "q_3 &=& \\frac{u_2}{\\| u_2 \\|} \\in \\lbrace x^2y, y \\rbrace \\\\\n",
    "v_3 &=& u_3 - \\langle u_3, p_3  \\rangle p_3, \\qquad r_3 = \\frac{v_3}{\\| v_3\\|} \\in \\lbrace xy^2,x^3,x \\rbrace\\\\\n",
    "v_4 &=& u_6 - \\langle u_6, q_3 \\rangle q_3, \\qquad s_3 = \\frac{v_4}{\\| v_4 \\|} \\in \\lbrace y^3,x^2y, y  \\rbrace \\\\\n",
    "u_4 &=& \\langle u_4, q_3 \\rangle q_3 + \\langle u_4, s_3  \\rangle s_3 \\\\\n",
    "u_5 &=& \\langle u_5, p_3 \\rangle p_3 + \\langle u_5, r_3  \\rangle r_3\n",
    "\\end{eqnarray}\n",
    "$$\n",
    "B_2^x = \\left(\n",
    "\\begin{array}{c c c c}\n",
    "\\|u_1 \\| & & & 0\\\\\n",
    " & \\| u_2 \\| & & 0\\\\\n",
    " \\langle u_3, p_3 \\rangle &  & \\| v_3 \\| & 0\n",
    "\\end{array}\n",
    "\\right)\n",
    "\\qquad\n",
    "B_2^y = \\left( \n",
    "\\begin{array}{c c c c}\n",
    " & \\langle u_4, q_3 \\rangle & & \\langle u_4, s_3 \\rangle \\\\\n",
    " \\langle u_5, p_3\\rangle & & \\langle u_5, r_3 \\rangle  & \\\\\n",
    " & \\langle u_6, q_3 \\rangle &  & \\| v_4 \\|\n",
    "\\end{array}\n",
    "\\right)\n",
    "$$"
   ]
  },
  {
   "cell_type": "code",
   "execution_count": 12,
   "metadata": {},
   "outputs": [
    {
     "ename": "UndefVarError",
     "evalue": "UndefVarError: x not defined",
     "output_type": "error",
     "traceback": [
      "UndefVarError: x not defined",
      "",
      "Stacktrace:",
      " [1] top-level scope at In[12]:1"
     ]
    }
   ],
   "source": [
    "u1 = x.*p2 - b1x[1,1]*p1\n",
    "u2 = x.*q2 - b1x[2,2]*q1\n",
    "u3 = x.*r2\n",
    "u4 = y.*p2 - b1y[2,1]*q1\n",
    "u5 = y.*q2 - b1y[1,2]*p1\n",
    "u6 = y.*r2 - b1y[2,3]*q1\n",
    "b2x = BigFloat(0)*zeros(3,4); b2y = BigFloat(0)*zeros(3,4)\n",
    "b2x[1,1] = norm(u1)\n",
    "b2x[2,2] = norm(u2)\n",
    "p3 = u1/b2x[1,1]\n",
    "q3 = u2/b2x[2,2]\n",
    "b2x[3,1] = ip(u3,p3)\n",
    "v3 = u3 - b2x[3,1]*p3\n",
    "b2x[3,3] = norm(v3)\n",
    "r3 = v3/b2x[3,3]\n",
    "b2y[3,2] = ip(u6,q3)\n",
    "v4 = u6 - b2y[3,2]*q3\n",
    "b2y[3,4] = norm(v4)\n",
    "s3 = v4/b2y[3,4]\n",
    "b2y[2,1] = ip(u5,p3)\n",
    "b2y[2,3] = ip(u5,r3)\n",
    "b2y[1,2] = ip(u4,q3)\n",
    "b2y[1,4] = ip(u4,s3)\n",
    "b2x"
   ]
  },
  {
   "cell_type": "code",
   "execution_count": 13,
   "metadata": {},
   "outputs": [
    {
     "ename": "UndefVarError",
     "evalue": "UndefVarError: b2y not defined",
     "output_type": "error",
     "traceback": [
      "UndefVarError: b2y not defined",
      "",
      "Stacktrace:",
      " [1] top-level scope at In[13]:1"
     ]
    }
   ],
   "source": [
    "b2y"
   ]
  },
  {
   "cell_type": "code",
   "execution_count": 14,
   "metadata": {},
   "outputs": [
    {
     "ename": "UndefVarError",
     "evalue": "UndefVarError: u1 not defined",
     "output_type": "error",
     "traceback": [
      "UndefVarError: u1 not defined",
      "",
      "Stacktrace:",
      " [1] top-level scope at In[14]:1"
     ]
    }
   ],
   "source": [
    "svdvals([u1 u2 u3 u4 u5 u6])"
   ]
  },
  {
   "cell_type": "markdown",
   "metadata": {},
   "source": [
    "For $n=3$,\n",
    "$$\n",
    "A_3^x = \\langle x Q_3 Q_3^{\\intercal} \\rangle =  0 =  \\langle y Q_3 Q_3^{\\intercal} \\rangle = A_3^y,\n",
    "$$\n",
    "$$\n",
    "xQ_3 - \\left(B_2^x\\right)^{\\intercal}Q_2  = B_3^x Q_4= \\left(\n",
    "\\begin{array}{l}\n",
    "xp_3 - b_{1,1}^{2,x} p_2 - b_{3,1}^{2,x}r_2   \\\\\n",
    "xq_3 - b_{2,2}^{2,x} q_2   \\\\\n",
    "xr_3 - b_{3,3}^{2,x} r_2                    \\\\\n",
    "xs_3                   \n",
    "\\end{array}\n",
    "\\right)= \\left(\n",
    "\\begin{array}{l}\n",
    "u_1  \\in \\lbrace x^4,x^2,y^2,1 \\rbrace \\\\\n",
    "u_2  \\in \\lbrace x^3y,xy \\rbrace \\\\\n",
    "u_3  \\in \\lbrace x^2y^2,x^4,x^2,y^2,1 \\rbrace  \\\\\n",
    "u_4 \\in \\lbrace xy^3, x^3y, xy \\rbrace\n",
    "\\end{array}\n",
    "\\right)\n",
    "$$\n",
    "$$\n",
    "yQ_3 - \\left(B_2^y\\right)^{\\intercal}Q_2  = B_3^y Q_4= \\left(\n",
    "\\begin{array}{l}\n",
    "yp_3 - b_{2,1}^{2,y} q_2     \\\\\n",
    "yq_3 - b_{1,2}^{2,y} p_2 - b_{3,2}^{2,y}r_2   \\\\\n",
    "yr_3 - b_{2,3}^{2,y} q_2                    \\\\\n",
    "ys_3 - b_{1,4}^{2,y} p_2 - b_{3,4}^{2,y}r_2                  \n",
    "\\end{array}\n",
    "\\right)= \\left(\n",
    "\\begin{array}{l}\n",
    "u_5  \\in \\lbrace x^3y,xy \\rbrace \\\\\n",
    "u_6  \\in \\lbrace x^2y^2,y^2,x^2,1 \\rbrace \\\\\n",
    "u_7  \\in \\lbrace xy^3,x^3y,xy \\rbrace  \\\\\n",
    "u_8 \\in \\lbrace y^4, x^2y^2, y^2, x^2, 1 \\rbrace\n",
    "\\end{array}\n",
    "\\right)\n",
    "$$\n",
    "\\begin{eqnarray}\n",
    "p_4 &=& \\frac{u_1}{\\| u_1 \\|} \\in \\lbrace x^4, x^2, y^2, 1 \\rbrace \\\\\n",
    "q_4 &=& \\frac{u_2}{\\| u_2 \\|} \\in \\lbrace x^3y, xy\\rbrace \\\\\n",
    "v_3 &=& u_3 - \\langle u_3, p_4 \\rangle p_4, \\qquad r_4 = \\frac{v_3}{\\| v_3 \\|} \\in \\lbrace x^2y^2, x^4, x^2, y^2, 1  \\rbrace\\\\\n",
    "v_4 &=& u_4 - \\langle u_4, q_4 \\rangle q_4, \\qquad     s_4 = \\frac{v_4}{\\| v_4 \\|}  \\in \\lbrace xy^3, x^3y,xy \\rbrace\n",
    "\\end{eqnarray}\n",
    "$$ B_3^x = \\left( \n",
    "\\begin{array}{c c c c}\n",
    "\\| u_1 \\| &             &   &     \\\\\n",
    "          & \\| u_2 \\|   &   &      \\\\\n",
    "\\langle u_3,p_4 \\rangle &   & \\| v_3 \\| & \\\\\n",
    " & \\langle u_4, q_4 \\rangle &  & \\|v_4 \\|\n",
    "\\end{array}\n",
    "\\right) \\qquad\n",
    "B_3^y = \\left( \n",
    "\\begin{array}{c c c c}\n",
    " & \\langle u_5, q_4\\rangle &    &  \\langle u_5, s_4\\rangle    \\\\\n",
    "\\langle u_6, p_4\\rangle &  & \\langle u_6, r_4\\rangle   &      \\\\\n",
    " & \\langle u_7, q_4\\rangle &    &  \\langle u_7, s_4\\rangle  \\\\\n",
    "\\langle u_8, p_4\\rangle &  & \\langle u_8, r_4\\rangle   &      \\\\\n",
    "\\end{array}\n",
    "\\right)\n",
    "$$"
   ]
  },
  {
   "cell_type": "code",
   "execution_count": 15,
   "metadata": {},
   "outputs": [
    {
     "ename": "UndefVarError",
     "evalue": "UndefVarError: x not defined",
     "output_type": "error",
     "traceback": [
      "UndefVarError: x not defined",
      "",
      "Stacktrace:",
      " [1] top-level scope at In[15]:1"
     ]
    }
   ],
   "source": [
    "u1 = x.*p3 - b2x[1,1]*p2 - b2x[3,1]*r2\n",
    "u2 = x.*q3 - b2x[2,2]*q2\n",
    "u3 = x.*r3 - b2x[3,3]*r2\n",
    "u4 = x.*s3\n",
    "u5 = y.*p3 - b2y[2,1]*q2\n",
    "u6 = y.*q3 - b2y[1,2]*p2 - b2y[3,2]*r2\n",
    "u7 = y.*r3 - b2y[2,3]*q2\n",
    "u8 = y.*s3 - b2y[1,4]*p2 - b2y[3,4]*r2\n",
    "b3x = BigFloat(0)*zeros(4,4); b3y = BigFloat(0)*zeros(4,4)\n",
    "b3x[1,1] = norm(u1)\n",
    "b3x[2,2] = norm(u2)\n",
    "p4 = u1/b3x[1,1]\n",
    "q4 = u2/b3x[2,2]\n",
    "b3x[3,1] = ip(u3,p4)\n",
    "v3 = u3 - b3x[3,1]*p4\n",
    "b3x[3,3] = norm(v3)\n",
    "r4 = v3/b3x[3,3]\n",
    "b3x[4,2] = ip(u4,q4)\n",
    "v4 = u4 - b3x[4,2]*q4\n",
    "b3x[4,4] = norm(v4)\n",
    "s4 = v4/b3x[4,4]\n",
    "b3y[1,2] = ip(u5,q4)\n",
    "b3y[1,4] = ip(u5,s4)\n",
    "b3y[2,1] = ip(u6,p4)\n",
    "b3y[2,3] = ip(u6,r4)\n",
    "b3y[3,2] = ip(u7,q4)\n",
    "b3y[3,4] = ip(u7,s4)\n",
    "b3y[4,1] = ip(u8,p4)\n",
    "b3y[4,3] = ip(u8,r4)\n",
    "b3x"
   ]
  },
  {
   "cell_type": "code",
   "execution_count": 16,
   "metadata": {},
   "outputs": [
    {
     "ename": "UndefVarError",
     "evalue": "UndefVarError: b3y not defined",
     "output_type": "error",
     "traceback": [
      "UndefVarError: b3y not defined",
      "",
      "Stacktrace:",
      " [1] top-level scope at In[16]:1"
     ]
    }
   ],
   "source": [
    "b3y"
   ]
  },
  {
   "cell_type": "code",
   "execution_count": 17,
   "metadata": {},
   "outputs": [
    {
     "ename": "UndefVarError",
     "evalue": "UndefVarError: u1 not defined",
     "output_type": "error",
     "traceback": [
      "UndefVarError: u1 not defined",
      "",
      "Stacktrace:",
      " [1] top-level scope at In[17]:1"
     ]
    }
   ],
   "source": [
    "svdvals([u1 u2 u3 u4 u5 u6 u7 u8])"
   ]
  },
  {
   "cell_type": "markdown",
   "metadata": {},
   "source": [
    "For $n\\geq4$, \n",
    "$$\n",
    "A_n^x = \\langle x Q_n Q_n^{\\intercal} \\rangle =  0 =  \\langle y Q_n Q_n^{\\intercal} \\rangle = A_n^y,\n",
    "$$\n",
    "$$\n",
    "xQ_n - \\left(B_{n-1}^x\\right)^{\\intercal}Q_{n-1}  = B_n^x Q_{n+1}= \\left(\n",
    "\\begin{array}{l}\n",
    "xp_n - b_{1,1}^{n-1,x} p_{n-1} - b_{3,1}^{n-1,x}r_{n-1}   \\\\\n",
    "xq_n - b_{2,2}^{n-1,x} q_{n-1} - b_{4,2}^{n-1,x} s_{n-1}   \\\\\n",
    "xr_n - b_{3,3}^{n-1,x} r_{n-1}                    \\\\\n",
    "xs_n - b_{4,4}^{n-1,x} s_{n-1}                 \n",
    "\\end{array}\n",
    "\\right)= \\left(\n",
    "\\begin{array}{l}\n",
    "u_1  \\\\\n",
    "u_2  \\\\\n",
    "u_3   \\\\\n",
    "u_4 \n",
    "\\end{array}\n",
    "\\right)\n",
    "$$\n",
    "$$\n",
    "yQ_{n} - \\left(B_{n-1}^y\\right)^{\\intercal}Q_{n-1}  = B_n^y Q_{n+1}= \\left(\n",
    "\\begin{array}{l}\n",
    "yp_n - b_{2,1}^{n-1,y} q_{n-1} - b_{4,1}^{n-1,y} s_{n-1}     \\\\\n",
    "yq_n - b_{1,2}^{n-1,y} p_{n-1} - b_{3,2}^{n-1,y}r_{n-1}   \\\\\n",
    "yr_n - b_{2,3}^{n-1,y} q_{n-1} - b_{4,3}^{n-1,y} s_{n-1}                  \\\\\n",
    "ys_n - b_{1,4}^{n-1,y} p_{n-1} - b_{3,4}^{n-1,y}r_{n-1}                \n",
    "\\end{array}\n",
    "\\right)= \\left(\n",
    "\\begin{array}{l}\n",
    "u_5  \\\\\n",
    "u_6   \\\\\n",
    "u_7  \\\\\n",
    "u_8 \n",
    "\\end{array}\n",
    "\\right)\n",
    "$$\n",
    "\\begin{eqnarray}\n",
    "p_{n+1} &=& \\frac{u_1}{\\| u_1 \\|} \\in \\lbrace x^{n+1}, x^{n-1}, x^{n-3}y^2, \\ldots, x^{n+3-2\\lfloor (n+1)/2 \\rfloor}, x^{n+1-2\\lfloor (n+1)/2 \\rfloor}y^2, x^{n+1-2\\lfloor (n+1)/2 \\rfloor}  \\rbrace \\\\\n",
    "q_{n+1} &=& \\frac{u_2}{\\| u_2 \\|} \\in \\lbrace x^{n}y, x^{n-2}y, x^{n-4}y^3, \\ldots, x^{n+2-2\\lfloor n/2 \\rfloor}y, x^{n-2\\lfloor n/2 \\rfloor}y^3, x^{n-2\\lfloor n/2 \\rfloor}y  \\rbrace  \\\\\n",
    "v_3 = u_3 - \\langle u_3, p_{n+1} \\rangle p_{n+1}, \\qquad r_{n+1} &=& \\frac{v_3}{\\| v_3 \\|}  \\in \\lbrace x^{n-1}y^2, x^{n+1}, x^{n-1}, x^{n-3}y^2, \\ldots, x^{n+3-2\\lfloor (n+1)/2 \\rfloor}, x^{n+1-2\\lfloor (n+1)/2 \\rfloor}y^2, x^{n+1-2\\lfloor (n+1)/2 \\rfloor}  \\rbrace\\\\\n",
    "v_4 = u_4 - \\langle u_4, q_{n+1} \\rangle q_{n+1}, \\qquad     s_{n+1} &=& \\frac{v_4}{\\| v_4 \\|} \\in \\lbrace x^{n-2}y^3, x^{n}y, x^{n-2}y, x^{n-4}y^3, \\ldots, x^{n+2-2\\lfloor n/2 \\rfloor}y, x^{n-2\\lfloor n/2 \\rfloor}y^3, x^{n-2\\lfloor n/2 \\rfloor}y  \\rbrace\n",
    "\\end{eqnarray}\n",
    "$$ B_n^x = \\left( \n",
    "\\begin{array}{c c c c}\n",
    "\\| u_1 \\| &             &   &     \\\\\n",
    "          & \\| u_2 \\|   &   &      \\\\\n",
    "\\langle u_3,p_{n+1} \\rangle &   & \\| v_3 \\| & \\\\\n",
    " & \\langle u_4, q_{n+1} \\rangle &  & \\|v_4 \\|\n",
    "\\end{array}\n",
    "\\right) \\qquad\n",
    "B_n^y = \\left( \n",
    "\\begin{array}{c c c c}\n",
    " & \\langle u_5, q_{n+1}\\rangle &    &  \\langle u_5, s_{n+1}\\rangle    \\\\\n",
    "\\langle u_6, p_{n+1}\\rangle &  & \\langle u_6, r_{n+1}\\rangle   &      \\\\\n",
    " & \\langle u_7, q_{n+1}\\rangle &    &  \\langle u_7, s_{n+1}\\rangle  \\\\\n",
    "\\langle u_8, p_{n+1}\\rangle &  & \\langle u_8, r_{n+1}\\rangle   &      \\\\\n",
    "\\end{array}\n",
    "\\right)\n",
    "$$\n"
   ]
  },
  {
   "cell_type": "code",
   "execution_count": 18,
   "metadata": {},
   "outputs": [
    {
     "ename": "UndefVarError",
     "evalue": "UndefVarError: b3x not defined",
     "output_type": "error",
     "traceback": [
      "UndefVarError: b3x not defined",
      "",
      "Stacktrace:",
      " [1] top-level scope at ./In[18]:4"
     ]
    }
   ],
   "source": [
    "@time begin\n",
    "    nmax =500;\n",
    "    bx = BigFloat(0)*zeros(4,4,nmax+1); by = BigFloat(0)*zeros(4,4,nmax+1)\n",
    "    bx[:,:,1] = b3x; by[:,:,1] = b3y; \n",
    "    pn=p4;qn=q4;rn=r4;sn=s4\n",
    "    po=p3;qo=q3;ro=r3;so=s3;\n",
    "    sv5=BigFloat(0)*zeros(nmax,1)\n",
    "    sv4=BigFloat(0)*zeros(nmax,1)\n",
    "    for k = 1:nmax\n",
    "        u1 = x.*pn - bx[1,1,k]*po - bx[3,1,k]*ro\n",
    "        u2 = x.*qn - bx[2,2,k]*qo - bx[4,2,k]*so\n",
    "        u3 = x.*rn - bx[3,3,k]*ro\n",
    "        u4 = x.*sn - bx[4,4,k]*so\n",
    "        u5 = y.*pn - by[2,1,k]*qo - by[4,1,k]*so\n",
    "        u6 = y.*qn - by[1,2,k]*po - by[3,2,k]*ro\n",
    "        u7 = y.*rn - by[2,3,k]*qo - by[4,3,k]*so\n",
    "        u8 = y.*sn - by[1,4,k]*po - by[3,4,k]*ro\n",
    "        bx[1,1,k+1] = norm(u1)\n",
    "        bx[2,2,k+1] = norm(u2)\n",
    "        pn1 = u1/bx[1,1,k+1]\n",
    "        qn1 = u2/bx[2,2,k+1]\n",
    "        bx[3,1,k+1] = ip(u3,pn1)\n",
    "        v3 = u3 - bx[3,1,k+1]*pn1\n",
    "        bx[3,3,k+1] = norm(v3)\n",
    "        rn1 = v3/bx[3,3,k+1]\n",
    "        bx[4,2,k+1] = ip(u4,qn1)\n",
    "        v4 = u4 - bx[4,2,k+1]*qn1\n",
    "        bx[4,4,k+1] = norm(v4)\n",
    "        sn1 = v4/bx[4,4,k+1]\n",
    "        by[1,2,k+1] = ip(u5,qn1)\n",
    "        by[1,4,k+1] = ip(u5,sn1)\n",
    "        by[2,1,k+1] = ip(u6,pn1)\n",
    "        by[2,3,k+1] = ip(u6,rn1)\n",
    "        by[3,2,k+1] = ip(u7,qn1)\n",
    "        by[3,4,k+1] = ip(u7,sn1)\n",
    "        by[4,1,k+1] = ip(u8,pn1)\n",
    "        by[4,3,k+1] = ip(u8,rn1)\n",
    "        po.=pn;qo.=qn;ro.=rn;so.=sn\n",
    "        pn.=pn1;qn.=qn1;rn.=rn1;sn.=sn1\n",
    "        s=svdvals([u1 u2 u3 u4 u5 u6 u7 u8])\n",
    "        sv5[k]=s[5];\n",
    "        sv4[k]=s[4];\n",
    "    end\n",
    "end"
   ]
  },
  {
   "cell_type": "markdown",
   "metadata": {},
   "source": [
    "Here is a plot of the fourth and fifth largest singular values of the matrix $[u_1\\: u_2\\: \\cdots\\: u_8]$ that should have rank 4; it shows the exponential instability of the Gram-Schmidt process:"
   ]
  },
  {
   "cell_type": "code",
   "execution_count": 19,
   "metadata": {},
   "outputs": [
    {
     "ename": "UndefVarError",
     "evalue": "UndefVarError: plot not defined",
     "output_type": "error",
     "traceback": [
      "UndefVarError: plot not defined",
      "",
      "Stacktrace:",
      " [1] top-level scope at In[19]:1"
     ]
    }
   ],
   "source": [
    "plot(sv4;yscale=:log10,label=\"4th largest\",xlabel=\"n\")\n",
    "plot!(sv5[15:end];label=\"5th largest\")"
   ]
  },
  {
   "cell_type": "code",
   "execution_count": 20,
   "metadata": {},
   "outputs": [
    {
     "ename": "UndefVarError",
     "evalue": "UndefVarError: scatter not defined",
     "output_type": "error",
     "traceback": [
      "UndefVarError: scatter not defined",
      "",
      "Stacktrace:",
      " [1] top-level scope at In[20]:1"
     ]
    }
   ],
   "source": [
    "# Plot the (1,1) entry of B_n^x:\n",
    "scatter(bx[1,1,:],legend=false)"
   ]
  },
  {
   "cell_type": "markdown",
   "metadata": {},
   "source": [
    "From this plot it appears the results are completely incorrect from the start even when the matrix $[u_1\\: u_2\\: \\cdots \\: u_8]$ has rank 4 to many digits, why?"
   ]
  }
 ],
 "metadata": {
  "@webio": {
   "lastCommId": null,
   "lastKernelId": null
  },
  "kernelspec": {
   "display_name": "Julia 1.3.1",
   "language": "julia",
   "name": "julia-1.3"
  },
  "language_info": {
   "file_extension": ".jl",
   "mimetype": "application/julia",
   "name": "julia",
   "version": "1.3.1"
  }
 },
 "nbformat": 4,
 "nbformat_minor": 2
}
