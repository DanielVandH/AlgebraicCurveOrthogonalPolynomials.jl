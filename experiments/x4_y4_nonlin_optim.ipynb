{
 "cells": [
  {
   "cell_type": "markdown",
   "metadata": {},
   "source": [
    "On the curve $x^4 + y^4 = 1$, use the inner product\n",
    "$$\n",
    "\\langle f, g \\rangle = \\int_{-1}^{1} \\left[ f(x,y)g(x,y) + f(x,-y)g(x,-y)\\right]\\mathrm{d}x, \\qquad y = \\sqrt[4]{1-x^4}.\n",
    "$$"
   ]
  },
  {
   "cell_type": "markdown",
   "metadata": {},
   "source": [
    "The orthonormal polynomials satisfy\n",
    "$$\n",
    "xQ_n = \\left( B_{n-1}^x \\right)^{\\intercal} Q_{n-1} + A_n^x Q_n + B_{n}^xQ_{n+1}, \\qquad Q_n = \\left(\\begin{array}{c} p_n(x,y) \\\\\n",
    "q_n(x,y) \\\\\n",
    "r_n(x,y) \\\\\n",
    "s_n(x,y)\n",
    "\\end{array}  \\right).\n",
    "$$\n",
    "Following the Gram-Schmidt procedure and using properties of the inner product reveal that $A_n^x$ and $A_n^y$ are zero and the entries of the $B$-matrices are:\n",
    "$$ B_n^x = \\left( \n",
    "\\begin{array}{c c c c}\n",
    "\\| u_1 \\| &             &   &     \\\\\n",
    "          & \\| u_2 \\|   &   &      \\\\\n",
    "\\langle u_3,p_{n+1} \\rangle &   & \\| v_3 \\| & \\\\\n",
    " & \\langle u_4, q_{n+1} \\rangle &  & \\|v_4 \\|\n",
    "\\end{array}\n",
    "\\right), \\qquad\n",
    "B_n^y = \\left( \n",
    "\\begin{array}{c c c c}\n",
    " & \\langle u_5, q_{n+1}\\rangle &    &  \\langle u_5, s_{n+1}\\rangle    \\\\\n",
    "\\langle u_6, p_{n+1}\\rangle &  & \\langle u_6, r_{n+1}\\rangle   &      \\\\\n",
    " & \\langle u_7, q_{n+1}\\rangle &    &  \\langle u_7, s_{n+1}\\rangle  \\\\\n",
    "\\langle u_8, p_{n+1}\\rangle &  & \\langle u_8, r_{n+1}\\rangle   &      \\\\\n",
    "\\end{array}\n",
    "\\right),\n",
    "$$\n",
    "where\n",
    "$$\n",
    "\\left(\n",
    "\\begin{array}{l}\n",
    "u_1   \\\\\n",
    "u_2  \\\\\n",
    "u_3   \\\\\n",
    "u_4 \n",
    "\\end{array}\n",
    "\\right) = xQ_n - \\left(B_{n-1}^x\\right)^{\\intercal}Q_{n-1}  = B_n^x Q_{n+1}= \\left(\n",
    "\\begin{array}{l}\n",
    "xp_n - b_{1,1}^{n-1,x} p_{n-1} - b_{3,1}^{n-1,x}r_{n-1}   \\\\\n",
    "xq_n - b_{2,2}^{n-1,x} q_{n-1} - b_{4,2}^{n-1,x} s_{n-1}   \\\\\n",
    "xr_n - b_{3,3}^{n-1,x} r_{n-1}                    \\\\\n",
    "xs_n - b_{4,4}^{n-1,x} s_{n-1}                 \n",
    "\\end{array}\n",
    "\\right),\n",
    "$$\n",
    "$$\n",
    "\\left(\n",
    "\\begin{array}{l}\n",
    "u_5  \\\\\n",
    "u_6   \\\\\n",
    "u_7  \\\\\n",
    "u_8 \n",
    "\\end{array}\n",
    "\\right) = yQ_{n} - \\left(B_{n-1}^y\\right)^{\\intercal}Q_{n-1}  = B_n^y Q_{n+1}= \\left(\n",
    "\\begin{array}{l}\n",
    "yp_n - b_{2,1}^{n-1,y} q_{n-1} - b_{4,1}^{n-1,y} s_{n-1}     \\\\\n",
    "yq_n - b_{1,2}^{n-1,y} p_{n-1} - b_{3,2}^{n-1,y}r_{n-1}   \\\\\n",
    "yr_n - b_{2,3}^{n-1,y} q_{n-1} - b_{4,3}^{n-1,y} s_{n-1}                  \\\\\n",
    "ys_n - b_{1,4}^{n-1,y} p_{n-1} - b_{3,4}^{n-1,y}r_{n-1}                \n",
    "\\end{array}\n",
    "\\right).\n",
    "$$"
   ]
  },
  {
   "cell_type": "markdown",
   "metadata": {},
   "source": [
    "Here are approximations to $B_{1000}^x$ and $B_{1000}^y$, obtained with Gauss-Legendre quadrature in 100,000 points:"
   ]
  },
  {
   "cell_type": "code",
   "execution_count": 1,
   "metadata": {},
   "outputs": [],
   "source": [
    "using Optim, LinearAlgebra"
   ]
  },
  {
   "cell_type": "code",
   "execution_count": 4,
   "metadata": {},
   "outputs": [
    {
     "data": {
      "text/plain": [
       "4×4 Array{Float64,2}:\n",
       "  0.500075     0.0        0.0       0.0    \n",
       "  0.0          0.5        0.0       0.0    \n",
       " -2.05454e-5   0.0        0.499951  0.0    \n",
       "  0.0         -0.0498327  0.0       0.99751"
      ]
     },
     "execution_count": 4,
     "metadata": {},
     "output_type": "execute_result"
    }
   ],
   "source": [
    "bx=zeros(4,4)\n",
    "bx[1,1]=0.5000754998732936;bx[2,2]=0.5000000000002628;bx[3,3]=0.49995057513142593;bx[4,4]=0.9975104173927817\n",
    "bx[3,1]=-2.05454176225822e-5; bx[4,2]=-0.049832678693653126\n",
    "bx"
   ]
  },
  {
   "cell_type": "code",
   "execution_count": 5,
   "metadata": {},
   "outputs": [
    {
     "data": {
      "text/plain": [
       "4×4 Array{Float64,2}:\n",
       "  0.0        0.621613   0.0         0.0159665\n",
       " -0.435532   0.0        0.0974805   0.0      \n",
       "  0.0        0.0222621  0.0         0.023519 \n",
       " -0.0460747  0.0        0.00500508  0.0      "
      ]
     },
     "execution_count": 5,
     "metadata": {},
     "output_type": "execute_result"
    }
   ],
   "source": [
    "by=zeros(4,4)\n",
    "by[1,2]=0.6216126011671426;by[1,4]=0.015966548139465582;by[2,1]=-0.435531582746482;by[2,3]=0.09748050098342892\n",
    "by[3,2]=0.022262136962950867;by[3,4]=0.023518966900343975;by[4,1]=-0.04607472705992894;by[4,3]=0.005005078678931155\n",
    "by"
   ]
  },
  {
   "cell_type": "markdown",
   "metadata": {},
   "source": [
    "Try to find $B_{\\infty}^x$ and $B_{\\infty}^y$ by nonlinear optimisation using $B_{1000}^x$ and $B_{1000}^y$ as first guesses:"
   ]
  },
  {
   "cell_type": "code",
   "execution_count": 8,
   "metadata": {},
   "outputs": [],
   "source": [
    "function unroll(XY_in)\n",
    "    XY = reshape(XY_in,8,4)\n",
    "    Bx = XY[1:4,:]; By = XY[5:8,:];\n",
    "    Bx, By\n",
    "end\n",
    "function eqns(XY_in)\n",
    "    Bx, By = unroll(XY_in)\n",
    "    symsumx = Bx'*Bx + Bx*Bx';\n",
    "    symsumy = By'*By + By*By';\n",
    "    # algebraic equation\n",
    "    norm(Bx^4 + By^4)^2 + \n",
    "    norm(symsumx*Bx^2 + Bx^2*symsumx + symsumy*By^2 + By^2*symsumy)^2 +\n",
    "    norm((Bx')^2*Bx^2 + symsumx^2 + Bx^2*(Bx')^2 + (By')^2*By^2 + symsumy^2 + By^2*(By')^2 - I )^2 + \n",
    "    # commute\n",
    "    norm(Bx*By - By*Bx)^2 +  norm(Bx'*By + Bx*By' - (By'*Bx + By*Bx'))^2 +\n",
    "    # z = 1\n",
    "    norm(Bx' + Bx - I)^2 + norm(By' + By)^2 +\n",
    "    # z = i\n",
    "    norm(-Bx' + Bx)^2 + norm(-By' + By - [0 0 0 -1;0 0 1 0;0 -1 0 0;1 0 0 0])^2\n",
    "end;"
   ]
  },
  {
   "cell_type": "code",
   "execution_count": 21,
   "metadata": {},
   "outputs": [
    {
     "data": {
      "text/plain": [
       " * Status: success\n",
       "\n",
       " * Candidate solution\n",
       "    Minimizer: [5.29e-01, 0.00e+00, 9.65e-12,  ...]\n",
       "    Minimum:   1.395549e-01\n",
       "\n",
       " * Found with\n",
       "    Algorithm:     BFGS\n",
       "    Initial Point: [5.00e-01, 0.00e+00, -2.05e-05,  ...]\n",
       "\n",
       " * Convergence measures\n",
       "    |x - x'|               = 4.49e-10 ≰ 0.0e+00\n",
       "    |x - x'|/|x'|          = 8.49e-10 ≰ 0.0e+00\n",
       "    |f(x) - f(x')|         = 2.78e-17 ≰ 0.0e+00\n",
       "    |f(x) - f(x')|/|f(x')| = 1.99e-16 ≰ 0.0e+00\n",
       "    |g(x)|                 = 3.60e-10 ≤ 1.0e-08\n",
       "\n",
       " * Work counters\n",
       "    Seconds run:   0  (vs limit Inf)\n",
       "    Iterations:    39\n",
       "    f(x) calls:    115\n",
       "    ∇f(x) calls:   115\n"
      ]
     },
     "execution_count": 21,
     "metadata": {},
     "output_type": "execute_result"
    }
   ],
   "source": [
    "guess = [bx;by]\n",
    "# result = optimize(eqns, Array(reshape(guess,32,1))) # fails\n",
    "# result = optimize(eqns, Array(reshape(guess,32,1)),Newton()) # fails\n",
    "# BFGS, ConjugateGradient and NGMRES converge to the same answer\n",
    "result = optimize(eqns, Array(reshape(guess,32,1)),BFGS())\n",
    "# result = optimize(eqns, Array(reshape(guess,32,1)),ConjugateGradient())\n",
    "# result = optimize(eqns, Array(reshape(guess,32,1)),NGMRES())"
   ]
  },
  {
   "cell_type": "code",
   "execution_count": 20,
   "metadata": {},
   "outputs": [
    {
     "data": {
      "text/plain": [
       "4×4 Array{Float64,2}:\n",
       "  0.529184     0.0          -6.29762e-11   0.0        \n",
       "  0.0          0.529184      0.0          -8.25664e-11\n",
       " -1.91225e-11  0.0           0.529184      0.0        \n",
       "  0.0          1.01559e-11   0.0           0.529184   "
      ]
     },
     "execution_count": 20,
     "metadata": {},
     "output_type": "execute_result"
    }
   ],
   "source": [
    "Bx, By = unroll(Optim.minimizer(result))\n",
    "Bx"
   ]
  },
  {
   "cell_type": "code",
   "execution_count": 18,
   "metadata": {},
   "outputs": [
    {
     "data": {
      "text/plain": [
       "4×4 Array{Float64,2}:\n",
       " 0.0           7.6762e-11  0.0          -0.529184   \n",
       " 4.70015e-11   0.0         0.529184      0.0        \n",
       " 0.0          -0.529184    0.0           9.11869e-11\n",
       " 0.529184      0.0         1.48927e-10   0.0        "
      ]
     },
     "execution_count": 18,
     "metadata": {},
     "output_type": "execute_result"
    }
   ],
   "source": [
    "By"
   ]
  },
  {
   "cell_type": "markdown",
   "metadata": {},
   "source": [
    "It is clear from the output of the optimiser that the minimum found is not a good one. We can confirm this:"
   ]
  },
  {
   "cell_type": "code",
   "execution_count": 23,
   "metadata": {},
   "outputs": [
    {
     "data": {
      "text/plain": [
       "2.567352479236712e-10"
      ]
     },
     "execution_count": 23,
     "metadata": {},
     "output_type": "execute_result"
    }
   ],
   "source": [
    "X=z->Bx'/z+Bx*z\n",
    "Y=z->By'/z+By*z;\n",
    "theta = pi/4;\n",
    "z = exp(im*theta)\n",
    "commute = norm(X(z)*Y(z) - Y(z)*X(z))"
   ]
  },
  {
   "cell_type": "code",
   "execution_count": 24,
   "metadata": {},
   "outputs": [
    {
     "data": {
      "text/plain": [
       "0.7452830368770653"
      ]
     },
     "execution_count": 24,
     "metadata": {},
     "output_type": "execute_result"
    }
   ],
   "source": [
    "algeq = norm(X(z)^4 + Y(z)^4 -I)"
   ]
  }
 ],
 "metadata": {
  "kernelspec": {
   "display_name": "Julia 1.2.0",
   "language": "julia",
   "name": "julia-1.2"
  },
  "language_info": {
   "file_extension": ".jl",
   "mimetype": "application/julia",
   "name": "julia",
   "version": "1.2.0"
  }
 },
 "nbformat": 4,
 "nbformat_minor": 2
}
