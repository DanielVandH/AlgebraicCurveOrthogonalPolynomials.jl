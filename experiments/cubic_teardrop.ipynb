{
 "cells": [
  {
   "cell_type": "code",
   "execution_count": 8,
   "metadata": {},
   "outputs": [],
   "source": [
    "using LinearAlgebra, ApproxFun, SemiclassicalOrthogonalPolynomials, Plots, Test"
   ]
  },
  {
   "cell_type": "markdown",
   "metadata": {},
   "source": [
    "On the teardrop curve\n",
    "\n",
    "$$\n",
    "\\gamma = \\left\\lbrace (x,y): y^2 = \\phi(x) := \\frac{1}{4}(1 - x)^2(1+x), \\: -1 \\leq x \\leq 1\\right\\rbrace,\n",
    "$$"
   ]
  },
  {
   "cell_type": "code",
   "execution_count": 9,
   "metadata": {},
   "outputs": [
    {
     "data": {
      "image/svg+xml": [
       "<?xml version=\"1.0\" encoding=\"utf-8\"?>\n",
       "<svg xmlns=\"http://www.w3.org/2000/svg\" xmlns:xlink=\"http://www.w3.org/1999/xlink\" width=\"600\" height=\"400\" viewBox=\"0 0 2400 1600\">\n",
       "<defs>\n",
       "  <clipPath id=\"clip000\">\n",
       "    <rect x=\"0\" y=\"0\" width=\"2400\" height=\"1600\"/>\n",
       "  </clipPath>\n",
       "</defs>\n",
       "<path clip-path=\"url(#clip000)\" d=\"\n",
       "M0 1600 L2400 1600 L2400 0 L0 0  Z\n",
       "  \" fill=\"#ffffff\" fill-rule=\"evenodd\" fill-opacity=\"1\"/>\n",
       "<defs>\n",
       "  <clipPath id=\"clip001\">\n",
       "    <rect x=\"480\" y=\"0\" width=\"1681\" height=\"1600\"/>\n",
       "  </clipPath>\n",
       "</defs>\n",
       "<path clip-path=\"url(#clip000)\" d=\"\n",
       "M163.936 1486.45 L2352.76 1486.45 L2352.76 47.2441 L163.936 47.2441  Z\n",
       "  \" fill=\"#ffffff\" fill-rule=\"evenodd\" fill-opacity=\"1\"/>\n",
       "<defs>\n",
       "  <clipPath id=\"clip002\">\n",
       "    <rect x=\"163\" y=\"47\" width=\"2190\" height=\"1440\"/>\n",
       "  </clipPath>\n",
       "</defs>\n",
       "<polyline clip-path=\"url(#clip002)\" style=\"stroke:#000000; stroke-width:2; stroke-opacity:0.1; fill:none\" points=\"\n",
       "  225.884,1486.45 225.884,47.2441 \n",
       "  \"/>\n",
       "<polyline clip-path=\"url(#clip002)\" style=\"stroke:#000000; stroke-width:2; stroke-opacity:0.1; fill:none\" points=\"\n",
       "  742.115,1486.45 742.115,47.2441 \n",
       "  \"/>\n",
       "<polyline clip-path=\"url(#clip002)\" style=\"stroke:#000000; stroke-width:2; stroke-opacity:0.1; fill:none\" points=\"\n",
       "  1258.35,1486.45 1258.35,47.2441 \n",
       "  \"/>\n",
       "<polyline clip-path=\"url(#clip002)\" style=\"stroke:#000000; stroke-width:2; stroke-opacity:0.1; fill:none\" points=\"\n",
       "  1774.58,1486.45 1774.58,47.2441 \n",
       "  \"/>\n",
       "<polyline clip-path=\"url(#clip002)\" style=\"stroke:#000000; stroke-width:2; stroke-opacity:0.1; fill:none\" points=\"\n",
       "  2290.81,1486.45 2290.81,47.2441 \n",
       "  \"/>\n",
       "<polyline clip-path=\"url(#clip002)\" style=\"stroke:#000000; stroke-width:2; stroke-opacity:0.1; fill:none\" points=\"\n",
       "  163.936,1265.94 2352.76,1265.94 \n",
       "  \"/>\n",
       "<polyline clip-path=\"url(#clip002)\" style=\"stroke:#000000; stroke-width:2; stroke-opacity:0.1; fill:none\" points=\"\n",
       "  163.936,1016.39 2352.76,1016.39 \n",
       "  \"/>\n",
       "<polyline clip-path=\"url(#clip002)\" style=\"stroke:#000000; stroke-width:2; stroke-opacity:0.1; fill:none\" points=\"\n",
       "  163.936,766.846 2352.76,766.846 \n",
       "  \"/>\n",
       "<polyline clip-path=\"url(#clip002)\" style=\"stroke:#000000; stroke-width:2; stroke-opacity:0.1; fill:none\" points=\"\n",
       "  163.936,517.298 2352.76,517.298 \n",
       "  \"/>\n",
       "<polyline clip-path=\"url(#clip002)\" style=\"stroke:#000000; stroke-width:2; stroke-opacity:0.1; fill:none\" points=\"\n",
       "  163.936,267.75 2352.76,267.75 \n",
       "  \"/>\n",
       "<polyline clip-path=\"url(#clip000)\" style=\"stroke:#000000; stroke-width:4; stroke-opacity:1; fill:none\" points=\"\n",
       "  163.936,1486.45 2352.76,1486.45 \n",
       "  \"/>\n",
       "<polyline clip-path=\"url(#clip000)\" style=\"stroke:#000000; stroke-width:4; stroke-opacity:1; fill:none\" points=\"\n",
       "  163.936,1486.45 163.936,47.2441 \n",
       "  \"/>\n",
       "<polyline clip-path=\"url(#clip000)\" style=\"stroke:#000000; stroke-width:4; stroke-opacity:1; fill:none\" points=\"\n",
       "  225.884,1486.45 225.884,1469.18 \n",
       "  \"/>\n",
       "<polyline clip-path=\"url(#clip000)\" style=\"stroke:#000000; stroke-width:4; stroke-opacity:1; fill:none\" points=\"\n",
       "  742.115,1486.45 742.115,1469.18 \n",
       "  \"/>\n",
       "<polyline clip-path=\"url(#clip000)\" style=\"stroke:#000000; stroke-width:4; stroke-opacity:1; fill:none\" points=\"\n",
       "  1258.35,1486.45 1258.35,1469.18 \n",
       "  \"/>\n",
       "<polyline clip-path=\"url(#clip000)\" style=\"stroke:#000000; stroke-width:4; stroke-opacity:1; fill:none\" points=\"\n",
       "  1774.58,1486.45 1774.58,1469.18 \n",
       "  \"/>\n",
       "<polyline clip-path=\"url(#clip000)\" style=\"stroke:#000000; stroke-width:4; stroke-opacity:1; fill:none\" points=\"\n",
       "  2290.81,1486.45 2290.81,1469.18 \n",
       "  \"/>\n",
       "<polyline clip-path=\"url(#clip000)\" style=\"stroke:#000000; stroke-width:4; stroke-opacity:1; fill:none\" points=\"\n",
       "  163.936,1265.94 190.202,1265.94 \n",
       "  \"/>\n",
       "<polyline clip-path=\"url(#clip000)\" style=\"stroke:#000000; stroke-width:4; stroke-opacity:1; fill:none\" points=\"\n",
       "  163.936,1016.39 190.202,1016.39 \n",
       "  \"/>\n",
       "<polyline clip-path=\"url(#clip000)\" style=\"stroke:#000000; stroke-width:4; stroke-opacity:1; fill:none\" points=\"\n",
       "  163.936,766.846 190.202,766.846 \n",
       "  \"/>\n",
       "<polyline clip-path=\"url(#clip000)\" style=\"stroke:#000000; stroke-width:4; stroke-opacity:1; fill:none\" points=\"\n",
       "  163.936,517.298 190.202,517.298 \n",
       "  \"/>\n",
       "<polyline clip-path=\"url(#clip000)\" style=\"stroke:#000000; stroke-width:4; stroke-opacity:1; fill:none\" points=\"\n",
       "  163.936,267.75 190.202,267.75 \n",
       "  \"/>\n",
       "<path clip-path=\"url(#clip000)\" d=\"M 0 0 M188.268 1525.04 L200.745 1525.04 L200.745 1528.83 L188.268 1528.83 L188.268 1525.04 Z\" fill=\"#000000\" fill-rule=\"evenodd\" fill-opacity=\"1\" /><path clip-path=\"url(#clip000)\" d=\"M 0 0 M206.625 1535.98 L214.264 1535.98 L214.264 1509.62 L205.953 1511.29 L205.953 1507.03 L214.217 1505.36 L218.893 1505.36 L218.893 1535.98 L226.532 1535.98 L226.532 1539.92 L206.625 1539.92 L206.625 1535.98 Z\" fill=\"#000000\" fill-rule=\"evenodd\" fill-opacity=\"1\" /><path clip-path=\"url(#clip000)\" d=\"M 0 0 M231.601 1534.04 L236.486 1534.04 L236.486 1539.92 L231.601 1539.92 L231.601 1534.04 Z\" fill=\"#000000\" fill-rule=\"evenodd\" fill-opacity=\"1\" /><path clip-path=\"url(#clip000)\" d=\"M 0 0 M251.555 1508.44 Q247.944 1508.44 246.115 1512 Q244.31 1515.55 244.31 1522.67 Q244.31 1529.78 246.115 1533.35 Q247.944 1536.89 251.555 1536.89 Q255.189 1536.89 256.995 1533.35 Q258.824 1529.78 258.824 1522.67 Q258.824 1515.55 256.995 1512 Q255.189 1508.44 251.555 1508.44 M251.555 1504.73 Q257.365 1504.73 260.421 1509.34 Q263.499 1513.92 263.499 1522.67 Q263.499 1531.4 260.421 1536.01 Q257.365 1540.59 251.555 1540.59 Q245.745 1540.59 242.666 1536.01 Q239.611 1531.4 239.611 1522.67 Q239.611 1513.92 242.666 1509.34 Q245.745 1504.73 251.555 1504.73 Z\" fill=\"#000000\" fill-rule=\"evenodd\" fill-opacity=\"1\" /><path clip-path=\"url(#clip000)\" d=\"M 0 0 M704.384 1525.04 L716.86 1525.04 L716.86 1528.83 L704.384 1528.83 L704.384 1525.04 Z\" fill=\"#000000\" fill-rule=\"evenodd\" fill-opacity=\"1\" /><path clip-path=\"url(#clip000)\" d=\"M 0 0 M731.93 1508.44 Q728.319 1508.44 726.49 1512 Q724.684 1515.55 724.684 1522.67 Q724.684 1529.78 726.49 1533.35 Q728.319 1536.89 731.93 1536.89 Q735.564 1536.89 737.37 1533.35 Q739.198 1529.78 739.198 1522.67 Q739.198 1515.55 737.37 1512 Q735.564 1508.44 731.93 1508.44 M731.93 1504.73 Q737.74 1504.73 740.796 1509.34 Q743.874 1513.92 743.874 1522.67 Q743.874 1531.4 740.796 1536.01 Q737.74 1540.59 731.93 1540.59 Q726.12 1540.59 723.041 1536.01 Q719.985 1531.4 719.985 1522.67 Q719.985 1513.92 723.041 1509.34 Q726.12 1504.73 731.93 1504.73 Z\" fill=\"#000000\" fill-rule=\"evenodd\" fill-opacity=\"1\" /><path clip-path=\"url(#clip000)\" d=\"M 0 0 M748.944 1534.04 L753.828 1534.04 L753.828 1539.92 L748.944 1539.92 L748.944 1534.04 Z\" fill=\"#000000\" fill-rule=\"evenodd\" fill-opacity=\"1\" /><path clip-path=\"url(#clip000)\" d=\"M 0 0 M758.944 1505.36 L777.3 1505.36 L777.3 1509.3 L763.226 1509.3 L763.226 1517.77 Q764.244 1517.42 765.263 1517.26 Q766.281 1517.07 767.3 1517.07 Q773.087 1517.07 776.467 1520.24 Q779.846 1523.42 779.846 1528.83 Q779.846 1534.41 776.374 1537.51 Q772.902 1540.59 766.582 1540.59 Q764.407 1540.59 762.138 1540.22 Q759.893 1539.85 757.485 1539.11 L757.485 1534.41 Q759.569 1535.54 761.791 1536.1 Q764.013 1536.66 766.49 1536.66 Q770.494 1536.66 772.832 1534.55 Q775.17 1532.44 775.17 1528.83 Q775.17 1525.22 772.832 1523.11 Q770.494 1521.01 766.49 1521.01 Q764.615 1521.01 762.74 1521.42 Q760.888 1521.84 758.944 1522.72 L758.944 1505.36 Z\" fill=\"#000000\" fill-rule=\"evenodd\" fill-opacity=\"1\" /><path clip-path=\"url(#clip000)\" d=\"M 0 0 M1239.86 1508.44 Q1236.25 1508.44 1234.42 1512 Q1232.62 1515.55 1232.62 1522.67 Q1232.62 1529.78 1234.42 1533.35 Q1236.25 1536.89 1239.86 1536.89 Q1243.5 1536.89 1245.3 1533.35 Q1247.13 1529.78 1247.13 1522.67 Q1247.13 1515.55 1245.3 1512 Q1243.5 1508.44 1239.86 1508.44 M1239.86 1504.73 Q1245.67 1504.73 1248.73 1509.34 Q1251.81 1513.92 1251.81 1522.67 Q1251.81 1531.4 1248.73 1536.01 Q1245.67 1540.59 1239.86 1540.59 Q1234.05 1540.59 1230.97 1536.01 Q1227.92 1531.4 1227.92 1522.67 Q1227.92 1513.92 1230.97 1509.34 Q1234.05 1504.73 1239.86 1504.73 Z\" fill=\"#000000\" fill-rule=\"evenodd\" fill-opacity=\"1\" /><path clip-path=\"url(#clip000)\" d=\"M 0 0 M1256.88 1534.04 L1261.76 1534.04 L1261.76 1539.92 L1256.88 1539.92 L1256.88 1534.04 Z\" fill=\"#000000\" fill-rule=\"evenodd\" fill-opacity=\"1\" /><path clip-path=\"url(#clip000)\" d=\"M 0 0 M1276.83 1508.44 Q1273.22 1508.44 1271.39 1512 Q1269.58 1515.55 1269.58 1522.67 Q1269.58 1529.78 1271.39 1533.35 Q1273.22 1536.89 1276.83 1536.89 Q1280.46 1536.89 1282.27 1533.35 Q1284.1 1529.78 1284.1 1522.67 Q1284.1 1515.55 1282.27 1512 Q1280.46 1508.44 1276.83 1508.44 M1276.83 1504.73 Q1282.64 1504.73 1285.7 1509.34 Q1288.77 1513.92 1288.77 1522.67 Q1288.77 1531.4 1285.7 1536.01 Q1282.64 1540.59 1276.83 1540.59 Q1271.02 1540.59 1267.94 1536.01 Q1264.89 1531.4 1264.89 1522.67 Q1264.89 1513.92 1267.94 1509.34 Q1271.02 1504.73 1276.83 1504.73 Z\" fill=\"#000000\" fill-rule=\"evenodd\" fill-opacity=\"1\" /><path clip-path=\"url(#clip000)\" d=\"M 0 0 M1756.59 1508.44 Q1752.98 1508.44 1751.15 1512 Q1749.35 1515.55 1749.35 1522.67 Q1749.35 1529.78 1751.15 1533.35 Q1752.98 1536.89 1756.59 1536.89 Q1760.23 1536.89 1762.03 1533.35 Q1763.86 1529.78 1763.86 1522.67 Q1763.86 1515.55 1762.03 1512 Q1760.23 1508.44 1756.59 1508.44 M1756.59 1504.73 Q1762.4 1504.73 1765.46 1509.34 Q1768.54 1513.92 1768.54 1522.67 Q1768.54 1531.4 1765.46 1536.01 Q1762.4 1540.59 1756.59 1540.59 Q1750.78 1540.59 1747.7 1536.01 Q1744.65 1531.4 1744.65 1522.67 Q1744.65 1513.92 1747.7 1509.34 Q1750.78 1504.73 1756.59 1504.73 Z\" fill=\"#000000\" fill-rule=\"evenodd\" fill-opacity=\"1\" /><path clip-path=\"url(#clip000)\" d=\"M 0 0 M1773.6 1534.04 L1778.49 1534.04 L1778.49 1539.92 L1773.6 1539.92 L1773.6 1534.04 Z\" fill=\"#000000\" fill-rule=\"evenodd\" fill-opacity=\"1\" /><path clip-path=\"url(#clip000)\" d=\"M 0 0 M1783.6 1505.36 L1801.96 1505.36 L1801.96 1509.3 L1787.89 1509.3 L1787.89 1517.77 Q1788.91 1517.42 1789.92 1517.26 Q1790.94 1517.07 1791.96 1517.07 Q1797.75 1517.07 1801.13 1520.24 Q1804.51 1523.42 1804.51 1528.83 Q1804.51 1534.41 1801.04 1537.51 Q1797.56 1540.59 1791.24 1540.59 Q1789.07 1540.59 1786.8 1540.22 Q1784.55 1539.85 1782.15 1539.11 L1782.15 1534.41 Q1784.23 1535.54 1786.45 1536.1 Q1788.67 1536.66 1791.15 1536.66 Q1795.16 1536.66 1797.49 1534.55 Q1799.83 1532.44 1799.83 1528.83 Q1799.83 1525.22 1797.49 1523.11 Q1795.16 1521.01 1791.15 1521.01 Q1789.28 1521.01 1787.4 1521.42 Q1785.55 1521.84 1783.6 1522.72 L1783.6 1505.36 Z\" fill=\"#000000\" fill-rule=\"evenodd\" fill-opacity=\"1\" /><path clip-path=\"url(#clip000)\" d=\"M 0 0 M2262.71 1535.98 L2270.35 1535.98 L2270.35 1509.62 L2262.04 1511.29 L2262.04 1507.03 L2270.3 1505.36 L2274.97 1505.36 L2274.97 1535.98 L2282.61 1535.98 L2282.61 1539.92 L2262.71 1539.92 L2262.71 1535.98 Z\" fill=\"#000000\" fill-rule=\"evenodd\" fill-opacity=\"1\" /><path clip-path=\"url(#clip000)\" d=\"M 0 0 M2287.68 1534.04 L2292.57 1534.04 L2292.57 1539.92 L2287.68 1539.92 L2287.68 1534.04 Z\" fill=\"#000000\" fill-rule=\"evenodd\" fill-opacity=\"1\" /><path clip-path=\"url(#clip000)\" d=\"M 0 0 M2307.64 1508.44 Q2304.03 1508.44 2302.2 1512 Q2300.39 1515.55 2300.39 1522.67 Q2300.39 1529.78 2302.2 1533.35 Q2304.03 1536.89 2307.64 1536.89 Q2311.27 1536.89 2313.08 1533.35 Q2314.91 1529.78 2314.91 1522.67 Q2314.91 1515.55 2313.08 1512 Q2311.27 1508.44 2307.64 1508.44 M2307.64 1504.73 Q2313.45 1504.73 2316.5 1509.34 Q2319.58 1513.92 2319.58 1522.67 Q2319.58 1531.4 2316.5 1536.01 Q2313.45 1540.59 2307.64 1540.59 Q2301.83 1540.59 2298.75 1536.01 Q2295.69 1531.4 2295.69 1522.67 Q2295.69 1513.92 2298.75 1509.34 Q2301.83 1504.73 2307.64 1504.73 Z\" fill=\"#000000\" fill-rule=\"evenodd\" fill-opacity=\"1\" /><path clip-path=\"url(#clip000)\" d=\"M 0 0 M62.9921 1268.34 L75.4689 1268.34 L75.4689 1272.13 L62.9921 1272.13 L62.9921 1268.34 Z\" fill=\"#000000\" fill-rule=\"evenodd\" fill-opacity=\"1\" /><path clip-path=\"url(#clip000)\" d=\"M 0 0 M90.5383 1251.74 Q86.9272 1251.74 85.0985 1255.31 Q83.2929 1258.85 83.2929 1265.98 Q83.2929 1273.08 85.0985 1276.65 Q86.9272 1280.19 90.5383 1280.19 Q94.1725 1280.19 95.9781 1276.65 Q97.8068 1273.08 97.8068 1265.98 Q97.8068 1258.85 95.9781 1255.31 Q94.1725 1251.74 90.5383 1251.74 M90.5383 1248.04 Q96.3484 1248.04 99.404 1252.64 Q102.483 1257.23 102.483 1265.98 Q102.483 1274.7 99.404 1279.31 Q96.3484 1283.89 90.5383 1283.89 Q84.7281 1283.89 81.6494 1279.31 Q78.5939 1274.7 78.5939 1265.98 Q78.5939 1257.23 81.6494 1252.64 Q84.7281 1248.04 90.5383 1248.04 Z\" fill=\"#000000\" fill-rule=\"evenodd\" fill-opacity=\"1\" /><path clip-path=\"url(#clip000)\" d=\"M 0 0 M107.552 1277.34 L112.436 1277.34 L112.436 1283.22 L107.552 1283.22 L107.552 1277.34 Z\" fill=\"#000000\" fill-rule=\"evenodd\" fill-opacity=\"1\" /><path clip-path=\"url(#clip000)\" d=\"M 0 0 M130.353 1252.74 L118.547 1271.19 L130.353 1271.19 L130.353 1252.74 M129.126 1248.66 L135.006 1248.66 L135.006 1271.19 L139.936 1271.19 L139.936 1275.07 L135.006 1275.07 L135.006 1283.22 L130.353 1283.22 L130.353 1275.07 L114.751 1275.07 L114.751 1270.56 L129.126 1248.66 Z\" fill=\"#000000\" fill-rule=\"evenodd\" fill-opacity=\"1\" /><path clip-path=\"url(#clip000)\" d=\"M 0 0 M65.0754 1018.79 L77.5522 1018.79 L77.5522 1022.59 L65.0754 1022.59 L65.0754 1018.79 Z\" fill=\"#000000\" fill-rule=\"evenodd\" fill-opacity=\"1\" /><path clip-path=\"url(#clip000)\" d=\"M 0 0 M92.6216 1002.19 Q89.0105 1002.19 87.1818 1005.76 Q85.3763 1009.3 85.3763 1016.43 Q85.3763 1023.54 87.1818 1027.1 Q89.0105 1030.64 92.6216 1030.64 Q96.2558 1030.64 98.0614 1027.1 Q99.8901 1023.54 99.8901 1016.43 Q99.8901 1009.3 98.0614 1005.76 Q96.2558 1002.19 92.6216 1002.19 M92.6216 998.489 Q98.4318 998.489 101.487 1003.1 Q104.566 1007.68 104.566 1016.43 Q104.566 1025.16 101.487 1029.76 Q98.4318 1034.35 92.6216 1034.35 Q86.8114 1034.35 83.7328 1029.76 Q80.6772 1025.16 80.6772 1016.43 Q80.6772 1007.68 83.7328 1003.1 Q86.8114 998.489 92.6216 998.489 Z\" fill=\"#000000\" fill-rule=\"evenodd\" fill-opacity=\"1\" /><path clip-path=\"url(#clip000)\" d=\"M 0 0 M109.635 1027.79 L114.52 1027.79 L114.52 1033.67 L109.635 1033.67 L109.635 1027.79 Z\" fill=\"#000000\" fill-rule=\"evenodd\" fill-opacity=\"1\" /><path clip-path=\"url(#clip000)\" d=\"M 0 0 M123.617 1029.74 L139.936 1029.74 L139.936 1033.67 L117.992 1033.67 L117.992 1029.74 Q120.654 1026.98 125.237 1022.35 Q129.844 1017.7 131.024 1016.36 Q133.27 1013.84 134.149 1012.1 Q135.052 1010.34 135.052 1008.65 Q135.052 1005.9 133.107 1004.16 Q131.186 1002.42 128.084 1002.42 Q125.885 1002.42 123.432 1003.19 Q121.001 1003.95 118.223 1005.5 L118.223 1000.78 Q121.047 999.647 123.501 999.068 Q125.955 998.489 127.992 998.489 Q133.362 998.489 136.557 1001.17 Q139.751 1003.86 139.751 1008.35 Q139.751 1010.48 138.941 1012.4 Q138.154 1014.3 136.047 1016.89 Q135.469 1017.56 132.367 1020.78 Q129.265 1023.98 123.617 1029.74 Z\" fill=\"#000000\" fill-rule=\"evenodd\" fill-opacity=\"1\" /><path clip-path=\"url(#clip000)\" d=\"M 0 0 M91.0244 752.645 Q87.4133 752.645 85.5846 756.209 Q83.7791 759.751 83.7791 766.881 Q83.7791 773.987 85.5846 777.552 Q87.4133 781.094 91.0244 781.094 Q94.6586 781.094 96.4642 777.552 Q98.2929 773.987 98.2929 766.881 Q98.2929 759.751 96.4642 756.209 Q94.6586 752.645 91.0244 752.645 M91.0244 748.941 Q96.8345 748.941 99.8901 753.547 Q102.969 758.131 102.969 766.881 Q102.969 775.608 99.8901 780.214 Q96.8345 784.797 91.0244 784.797 Q85.2142 784.797 82.1355 780.214 Q79.08 775.608 79.08 766.881 Q79.08 758.131 82.1355 753.547 Q85.2142 748.941 91.0244 748.941 Z\" fill=\"#000000\" fill-rule=\"evenodd\" fill-opacity=\"1\" /><path clip-path=\"url(#clip000)\" d=\"M 0 0 M108.038 778.246 L112.922 778.246 L112.922 784.126 L108.038 784.126 L108.038 778.246 Z\" fill=\"#000000\" fill-rule=\"evenodd\" fill-opacity=\"1\" /><path clip-path=\"url(#clip000)\" d=\"M 0 0 M127.992 752.645 Q124.381 752.645 122.552 756.209 Q120.746 759.751 120.746 766.881 Q120.746 773.987 122.552 777.552 Q124.381 781.094 127.992 781.094 Q131.626 781.094 133.432 777.552 Q135.26 773.987 135.26 766.881 Q135.26 759.751 133.432 756.209 Q131.626 752.645 127.992 752.645 M127.992 748.941 Q133.802 748.941 136.857 753.547 Q139.936 758.131 139.936 766.881 Q139.936 775.608 136.857 780.214 Q133.802 784.797 127.992 784.797 Q122.182 784.797 119.103 780.214 Q116.047 775.608 116.047 766.881 Q116.047 758.131 119.103 753.547 Q122.182 748.941 127.992 748.941 Z\" fill=\"#000000\" fill-rule=\"evenodd\" fill-opacity=\"1\" /><path clip-path=\"url(#clip000)\" d=\"M 0 0 M92.6216 503.096 Q89.0105 503.096 87.1818 506.661 Q85.3763 510.203 85.3763 517.332 Q85.3763 524.439 87.1818 528.004 Q89.0105 531.545 92.6216 531.545 Q96.2558 531.545 98.0614 528.004 Q99.8901 524.439 99.8901 517.332 Q99.8901 510.203 98.0614 506.661 Q96.2558 503.096 92.6216 503.096 M92.6216 499.393 Q98.4318 499.393 101.487 503.999 Q104.566 508.583 104.566 517.332 Q104.566 526.059 101.487 530.666 Q98.4318 535.249 92.6216 535.249 Q86.8114 535.249 83.7328 530.666 Q80.6772 526.059 80.6772 517.332 Q80.6772 508.583 83.7328 503.999 Q86.8114 499.393 92.6216 499.393 Z\" fill=\"#000000\" fill-rule=\"evenodd\" fill-opacity=\"1\" /><path clip-path=\"url(#clip000)\" d=\"M 0 0 M109.635 528.698 L114.52 528.698 L114.52 534.578 L109.635 534.578 L109.635 528.698 Z\" fill=\"#000000\" fill-rule=\"evenodd\" fill-opacity=\"1\" /><path clip-path=\"url(#clip000)\" d=\"M 0 0 M123.617 530.643 L139.936 530.643 L139.936 534.578 L117.992 534.578 L117.992 530.643 Q120.654 527.888 125.237 523.258 Q129.844 518.606 131.024 517.263 Q133.27 514.74 134.149 513.004 Q135.052 511.245 135.052 509.555 Q135.052 506.8 133.107 505.064 Q131.186 503.328 128.084 503.328 Q125.885 503.328 123.432 504.092 Q121.001 504.856 118.223 506.407 L118.223 501.684 Q121.047 500.55 123.501 499.971 Q125.955 499.393 127.992 499.393 Q133.362 499.393 136.557 502.078 Q139.751 504.763 139.751 509.254 Q139.751 511.383 138.941 513.305 Q138.154 515.203 136.047 517.795 Q135.469 518.467 132.367 521.684 Q129.265 524.879 123.617 530.643 Z\" fill=\"#000000\" fill-rule=\"evenodd\" fill-opacity=\"1\" /><path clip-path=\"url(#clip000)\" d=\"M 0 0 M90.5383 253.548 Q86.9272 253.548 85.0985 257.113 Q83.2929 260.655 83.2929 267.784 Q83.2929 274.891 85.0985 278.456 Q86.9272 281.997 90.5383 281.997 Q94.1725 281.997 95.9781 278.456 Q97.8068 274.891 97.8068 267.784 Q97.8068 260.655 95.9781 257.113 Q94.1725 253.548 90.5383 253.548 M90.5383 249.845 Q96.3484 249.845 99.404 254.451 Q102.483 259.034 102.483 267.784 Q102.483 276.511 99.404 281.118 Q96.3484 285.701 90.5383 285.701 Q84.7281 285.701 81.6494 281.118 Q78.5939 276.511 78.5939 267.784 Q78.5939 259.034 81.6494 254.451 Q84.7281 249.845 90.5383 249.845 Z\" fill=\"#000000\" fill-rule=\"evenodd\" fill-opacity=\"1\" /><path clip-path=\"url(#clip000)\" d=\"M 0 0 M107.552 279.15 L112.436 279.15 L112.436 285.03 L107.552 285.03 L107.552 279.15 Z\" fill=\"#000000\" fill-rule=\"evenodd\" fill-opacity=\"1\" /><path clip-path=\"url(#clip000)\" d=\"M 0 0 M130.353 254.544 L118.547 272.993 L130.353 272.993 L130.353 254.544 M129.126 250.47 L135.006 250.47 L135.006 272.993 L139.936 272.993 L139.936 276.881 L135.006 276.881 L135.006 285.03 L130.353 285.03 L130.353 276.881 L114.751 276.881 L114.751 272.368 L129.126 250.47 Z\" fill=\"#000000\" fill-rule=\"evenodd\" fill-opacity=\"1\" /><polyline clip-path=\"url(#clip002)\" style=\"stroke:#009af9; stroke-width:4; stroke-opacity:1; fill:none\" points=\"\n",
       "  2290.81,766.846 2290.4,766.499 2287.15,763.727 2280.67,758.204 2270.97,749.975 2258.08,739.103 2242.05,725.675 2222.92,709.796 2200.76,691.592 2175.63,671.207 \n",
       "  2147.62,648.803 2116.81,624.557 2083.29,598.662 2047.19,571.326 2008.6,542.767 1967.64,513.216 1924.46,482.912 1879.18,452.1 1831.95,421.032 1782.91,389.965 \n",
       "  1732.23,359.155 1680.05,328.86 1626.54,299.337 1571.88,270.836 1516.23,243.606 1459.77,217.884 1402.67,193.903 1345.13,171.882 1287.3,152.028 1229.39,134.536 \n",
       "  1171.57,119.585 1114.02,107.336 1056.92,97.9343 1000.46,91.5065 944.811,88.1585 890.148,87.9763 836.643,91.0245 784.465,97.3465 733.777,106.963 684.741,119.874 \n",
       "  637.509,136.055 592.23,155.461 549.048,178.025 508.097,203.659 469.506,232.252 433.398,263.676 399.885,297.781 369.073,334.4 341.06,373.348 315.932,414.426 \n",
       "  293.769,457.419 274.642,502.098 258.609,548.225 245.722,595.549 236.022,643.814 229.537,692.755 226.29,742.104 225.884,766.846 \n",
       "  \"/>\n",
       "<polyline clip-path=\"url(#clip002)\" style=\"stroke:#e26f46; stroke-width:4; stroke-opacity:1; fill:none\" points=\"\n",
       "  2290.81,766.846 2290.4,767.193 2287.15,769.965 2280.67,775.488 2270.97,783.717 2258.08,794.589 2242.05,808.017 2222.92,823.896 2200.76,842.1 2175.63,862.485 \n",
       "  2147.62,884.889 2116.81,909.135 2083.29,935.03 2047.19,962.366 2008.6,990.925 1967.64,1020.48 1924.46,1050.78 1879.18,1081.59 1831.95,1112.66 1782.91,1143.73 \n",
       "  1732.23,1174.54 1680.05,1204.83 1626.54,1234.36 1571.88,1262.86 1516.23,1290.09 1459.77,1315.81 1402.67,1339.79 1345.13,1361.81 1287.3,1381.66 1229.39,1399.16 \n",
       "  1171.57,1414.11 1114.02,1426.36 1056.92,1435.76 1000.46,1442.19 944.811,1445.53 890.148,1445.72 836.643,1442.67 784.465,1436.35 733.777,1426.73 684.741,1413.82 \n",
       "  637.509,1397.64 592.23,1378.23 549.048,1355.67 508.097,1330.03 469.506,1301.44 433.398,1270.02 399.885,1235.91 369.073,1199.29 341.06,1160.34 315.932,1119.27 \n",
       "  293.769,1076.27 274.642,1031.59 258.609,985.467 245.722,938.143 236.022,889.878 229.537,840.937 226.29,791.588 225.884,766.846 \n",
       "  \"/>\n",
       "</svg>\n"
      ]
     },
     "execution_count": 9,
     "metadata": {},
     "output_type": "execute_result"
    }
   ],
   "source": [
    "x = Fun(identity,-1..1)\n",
    "y=(1/2*(1-x))*sqrt(1+x)\n",
    "plot(y);plot!(-y;legend=false)"
   ]
  },
  {
   "cell_type": "markdown",
   "metadata": {},
   "source": [
    "we have the OP basis\n",
    "\n",
    "$$\n",
    "\\mathcal{B}_0 = \\lbrace 1 \\rbrace, \\qquad \\mathcal{B}_1 = \\left\\lbrace P_{1}^{(\\alpha, \\beta)}, y \\right\\rbrace,\n",
    "$$\n",
    "\n",
    "$$\n",
    "\\mathcal{B}_{2m} = \\left\\lbrace P^{(\\alpha, \\beta)}_{3m}, P^{(\\alpha, \\beta)}_{3m-1}, yP^{(\\alpha+2, \\beta+1)}_{3m-2}   \\right\\rbrace, \\qquad m \\geq 1,\n",
    "$$\n",
    "\n",
    "$$\n",
    "\\mathcal{B}_{2m+1} = \\left\\lbrace P^{(\\alpha, \\beta)}_{3m+1}, yP^{(\\alpha+2, \\beta+1)}_{3m}, yP^{(\\alpha+2, \\beta+1)}_{3m-2}   \\right\\rbrace, \\qquad m \\geq 1.\n",
    "$$\n",
    "\n",
    "The inner product on the curve is\n",
    "\n",
    "$$\n",
    "\\langle f,g \\rangle = \\int_{-1}^{1}\\left[fg\\left(x,\\sqrt{\\phi(x)}\\right) + fg\\left(x,-\\sqrt{\\phi(x)}\\right)   \\right]w_{\\alpha,\\beta}(x)\\mathrm{d}x, \\qquad w_{\\alpha,\\beta}(x) = (1-x)^{\\alpha}(1+x)^{\\beta}.\n",
    "$$\n",
    "\n",
    "Here we just consider $\\alpha = \\beta = -1/2$."
   ]
  },
  {
   "cell_type": "code",
   "execution_count": 10,
   "metadata": {},
   "outputs": [
    {
     "name": "stdout",
     "output_type": "stream",
     "text": [
      " 16.064090 seconds (314.46 k allocations: 5.188 GiB, 8.02% gc time)\n",
      " 11.679974 seconds (316.46 k allocations: 5.203 GiB, 7.94% gc time)\n"
     ]
    }
   ],
   "source": [
    "α = -1/2\n",
    "β = -1/2\n",
    "w = 2(1-x)^α*(1+x)^β\n",
    "w2 = 1/2*(1-x)^(α+2)*(1+x)^(β+1)\n",
    "ip(f,g) = sum(f*g*w)\n",
    "nor(f) = sqrt(ip(f,f))\n",
    "n = 1000\n",
    "P,~,~ = @time lanczos(w,n)\n",
    "P2,~,~ = @time lanczos(w2,n);"
   ]
  },
  {
   "cell_type": "markdown",
   "metadata": {},
   "source": [
    "Let the vectors of the orthonormal versions of $\\mathcal{B}_k$ be denoted by $Q_k$, then the matrix recurrence coefficients are\n",
    "\n",
    "$$\n",
    "x Q_n = B^{\\intercal}_{n-1,1}Q_{n-1} + A_{n,1}Q_n + B_{n,1}Q_{n+1},\n",
    "$$\n",
    "\n",
    "$$\n",
    "y Q_n = B^{\\intercal}_{n-1,2}Q_{n-1} + A_{n,2}Q_n + B_{n,2}Q_{n+1}.\n",
    "$$"
   ]
  },
  {
   "cell_type": "markdown",
   "metadata": {},
   "source": [
    "For $m \\geq1$,\n",
    "\n",
    "$$\n",
    "A_{2m,1} = \\langle xQ_{2m}, Q_{2m}^{\\intercal}\\rangle = \n",
    "\\left[ \n",
    "\\begin{array}{c c c}\n",
    "\\left\\langle x\\frac{P_{3m}^{(\\alpha,\\beta)}}{\\| P_{3m}^{(\\alpha,\\beta)} \\|},\\frac{P_{3m}^{(\\alpha,\\beta)}}{\\| P_{3m}^{(\\alpha,\\beta)} \\|}   \\right\\rangle & \\left\\langle x\\frac{P_{3m}^{(\\alpha,\\beta)}}{\\| P_{3m}^{(\\alpha,\\beta)} \\|},\\frac{P_{3m-1}^{(\\alpha,\\beta)}}{\\| P_{3m-1}^{(\\alpha,\\beta)} \\|}   \\right\\rangle & 0\\\\\n",
    "\\left\\langle x\\frac{P_{3m-1}^{(\\alpha,\\beta)}}{\\| P_{3m-1}^{(\\alpha,\\beta)} \\|},\\frac{P_{3m}^{(\\alpha,\\beta)}}{\\| P_{3m}^{(\\alpha,\\beta)} \\|}   \\right\\rangle & \\left\\langle x\\frac{P_{3m-1}^{(\\alpha,\\beta)}}{\\| P_{3m-1}^{(\\alpha,\\beta)} \\|},\\frac{P_{3m-1}^{(\\alpha,\\beta)}}{\\| P_{3m-1}^{(\\alpha,\\beta)} \\|}   \\right\\rangle & 0 \\\\\n",
    "  0   &  0    & \\left\\langle x\\frac{yP_{3m-2}^{(\\alpha+2,\\beta+1)}}{\\| y P_{3m-2}^{(\\alpha+2,\\beta+1)} \\|},\\frac{yP_{3m-2}^{(\\alpha+2,\\beta+1)}}{\\| yP_{3m-2}^{(\\alpha+2,\\beta+1)} \\|}   \\right\\rangle\n",
    "\\end{array}\n",
    "\\right], \n",
    "$$\n",
    "\n",
    "$$\n",
    "\\qquad A_{2m,2}= \\langle yQ_{2m}, Q_{2m}^{\\intercal}\\rangle = \\left[ \n",
    "\\begin{array}{c c c}\n",
    "0 & 0 & \\left\\langle y\\frac{P_{3m}^{(\\alpha,\\beta)}}{\\| P_{3m}^{(\\alpha,\\beta)} \\|},\\frac{yP_{3m-2}^{(\\alpha+2,\\beta+1)}}{\\| yP_{3m-2}^{(\\alpha+2,\\beta+1)} \\|}   \\right\\rangle \\\\\n",
    "0 & 0 & \\left\\langle y\\frac{P_{3m-1}^{(\\alpha,\\beta)}}{\\| P_{3m-1}^{(\\alpha,\\beta)} \\|},\\frac{yP_{3m-2}^{(\\alpha+2,\\beta+1)}}{\\| yP_{3m-2}^{(\\alpha+2,\\beta+1)} \\|}   \\right\\rangle \\\\\n",
    "\\left\\langle y\\frac{P_{3m}^{(\\alpha,\\beta)}}{\\| P_{3m}^{(\\alpha,\\beta)} \\|},\\frac{yP_{3m-2}^{(\\alpha+2,\\beta+1)}}{\\| yP_{3m-2}^{(\\alpha+2,\\beta+1)} \\|}   \\right\\rangle &  \\left\\langle y\\frac{P_{3m-1}^{(\\alpha,\\beta)}}{\\| P_{3m-1}^{(\\alpha,\\beta)} \\|},\\frac{yP_{3m-2}^{(\\alpha+2,\\beta+1)}}{\\| yP_{3m-2}^{(\\alpha+2,\\beta+1)} \\|}   \\right\\rangle & 0\n",
    "\\end{array}\n",
    "\\right].\n",
    "$$\n",
    "\n",
    "Here are $A_{600,1}$ and $A_{600,2}$:"
   ]
  },
  {
   "cell_type": "code",
   "execution_count": 12,
   "metadata": {},
   "outputs": [
    {
     "data": {
      "text/plain": [
       "3×3 Array{Float64,2}:\n",
       " -1.29682e-17   0.5           0.0\n",
       "  0.5          -8.33213e-18   0.0\n",
       "  0.0           0.0          -6.31957e-7"
      ]
     },
     "execution_count": 12,
     "metadata": {},
     "output_type": "execute_result"
    }
   ],
   "source": [
    "k = 300\n",
    "a11 = ip(x*P[1+3*k],P[1+3*k])\n",
    "a12 = ip(x*P[1+3*k],P[3*k])\n",
    "a22 = ip(x*P[3*k],P[3*k])\n",
    "a33 = ip(x*y*P2[3*k-1],y*P2[3*k-1])\n",
    "A2kx = [a11 a12 0;\n",
    "            a12 a22 0;\n",
    "             0 0   a33] "
   ]
  },
  {
   "cell_type": "code",
   "execution_count": 14,
   "metadata": {},
   "outputs": [
    {
     "data": {
      "text/plain": [
       "3×3 Array{Float64,2}:\n",
       "  0.0        0.0       -0.176875\n",
       "  0.0        0.0       -0.176678\n",
       " -0.176875  -0.176678   0.0"
      ]
     },
     "execution_count": 14,
     "metadata": {},
     "output_type": "execute_result"
    }
   ],
   "source": [
    "a13 = ip(y*P[3*k+1],y*P2[3*k-1])\n",
    "a23 = ip(y*P[3*k],y*P2[3*k-1])\n",
    "A2ky = [0 0 a13;\n",
    "            0 0 a23;\n",
    "        a13 a23 0]"
   ]
  },
  {
   "cell_type": "markdown",
   "metadata": {},
   "source": [
    "Let $A_{e,i}:= \\lim_{m \\to \\infty} A_{2m,i}, i =1,2$, then $A_{e,1}$ and $A_{e,2}$ are"
   ]
  },
  {
   "cell_type": "code",
   "execution_count": 15,
   "metadata": {},
   "outputs": [
    {
     "data": {
      "text/plain": [
       "3×3 Array{Float64,2}:\n",
       " 0.0  0.5  0.0\n",
       " 0.5  0.0  0.0\n",
       " 0.0  0.0  0.0"
      ]
     },
     "execution_count": 15,
     "metadata": {},
     "output_type": "execute_result"
    }
   ],
   "source": [
    "Ae1 = [0 1/2 0;1/2 0 0;0 0 0]"
   ]
  },
  {
   "cell_type": "code",
   "execution_count": 16,
   "metadata": {},
   "outputs": [
    {
     "data": {
      "text/plain": [
       "3×3 Array{Float64,2}:\n",
       "  0.0        0.0       -0.176777\n",
       "  0.0        0.0       -0.176777\n",
       " -0.176777  -0.176777   0.0"
      ]
     },
     "execution_count": 16,
     "metadata": {},
     "output_type": "execute_result"
    }
   ],
   "source": [
    "v = 1/(4*sqrt(2))\n",
    "Ae2 = [0 0 -v;0 0 -v;-v -v 0]"
   ]
  },
  {
   "cell_type": "markdown",
   "metadata": {},
   "source": [
    "$$\n",
    "\\qquad B_{2m,1}= \\langle xQ_{2m}, Q_{2m+1}^{\\intercal}\\rangle = \\left[ \n",
    "\\begin{array}{c c c}\n",
    "\\left\\langle x\\frac{P_{3m}^{(\\alpha,\\beta)}}{\\| P_{3m}^{(\\alpha,\\beta)} \\|},\\frac{P_{3m+1}^{(\\alpha,\\beta)}}{\\| P_{3m+1}^{(\\alpha,\\beta)} \\|}   \\right\\rangle & 0 & 0 \\\\\n",
    "0 & 0 & 0 \\\\\n",
    "0 &  0 & \\left\\langle x\\frac{yP_{3m-2}^{(\\alpha+2,\\beta+1)}}{\\|y P_{3m-2}^{(\\alpha+2,\\beta+1)} \\|},\\frac{yP_{3m-1}^{(\\alpha+2,\\beta+1)}}{\\| yP_{3m-1}^{(\\alpha+2,\\beta+1)} \\|}   \\right\\rangle\n",
    "\\end{array}\n",
    "\\right],\n",
    "$$\n",
    "\n",
    "$$\n",
    "\\qquad B_{2m,2}= \\langle yQ_{2m}, Q_{2m+1}^{\\intercal}\\rangle = \\left[ \n",
    "\\begin{array}{c c c}\n",
    "0 & \\left\\langle y\\frac{P_{3m}^{(\\alpha,\\beta)}}{\\| P_{3m}^{(\\alpha,\\beta)} \\|},\\frac{yP_{3m}^{(\\alpha+2,\\beta+1)}}{\\| yP_{3m}^{(\\alpha+2,\\beta+1)} \\|}   \\right\\rangle & \\left\\langle y\\frac{P_{3m}^{(\\alpha,\\beta)}}{\\| P_{3m}^{(\\alpha,\\beta)} \\|},\\frac{yP_{3m-1}^{(\\alpha+2,\\beta+1)}}{\\| yP_{3m-1}^{(\\alpha+2,\\beta+1)} \\|}   \\right\\rangle \\\\\n",
    "0 & 0 & \\left\\langle y\\frac{P_{3m-1}^{(\\alpha,\\beta)}}{\\| P_{3m-1}^{(\\alpha,\\beta)} \\|},\\frac{yP_{3m-1}^{(\\alpha+2,\\beta+1)}}{\\| yP_{3m-1}^{(\\alpha+2,\\beta+1)} \\|}   \\right\\rangle\\\\\n",
    "\\left\\langle y\\frac{yP_{3m-2}^{(\\alpha+2,\\beta+1)}}{\\|y P_{3m-2}^{(\\alpha+2,\\beta+1)} \\|},\\frac{P_{3m+1}^{(\\alpha,\\beta)}}{\\| P_{3m+1}^{(\\alpha,\\beta)} \\|}   \\right\\rangle &  0 & 0\n",
    "\\end{array}\n",
    "\\right],\n",
    "$$\n",
    "\n",
    "$B_{600,1}$ and $B_{600,2}$:"
   ]
  },
  {
   "cell_type": "code",
   "execution_count": 17,
   "metadata": {},
   "outputs": [
    {
     "data": {
      "text/plain": [
       "3×3 Array{Float64,2}:\n",
       " 0.5  0.0  0.0\n",
       " 0.0  0.0  0.0\n",
       " 0.0  0.0  0.5"
      ]
     },
     "execution_count": 17,
     "metadata": {},
     "output_type": "execute_result"
    }
   ],
   "source": [
    "    b11 = ip(x*P[1+3*k],P[2+3*k])\n",
    "    b33 = ip(x*y*P2[3*k-1],y*P2[3*k])\n",
    "    B2kx = [b11 0 0;\n",
    "            0 0 0;\n",
    "            0 0 b33] "
   ]
  },
  {
   "cell_type": "code",
   "execution_count": 18,
   "metadata": {},
   "outputs": [
    {
     "data": {
      "text/plain": [
       "3×3 Array{Float64,2}:\n",
       " 0.0       0.176875  -0.176679\n",
       " 0.0       0.0        0.176875\n",
       " 0.176678  0.0        0.0"
      ]
     },
     "execution_count": 18,
     "metadata": {},
     "output_type": "execute_result"
    }
   ],
   "source": [
    "    b12 = ip(y*P[3*k+1],y*P2[3*k+1])\n",
    "    b13 = ip(y*P[3*k+1],y*P2[3*k])\n",
    "    b23 = ip(y*P[3*k],  y*P2[3*k])\n",
    "    b31 = ip(y*y*P2[3*k-1],P[3*k+2])\n",
    "    B2ky = [0 b12 b13;\n",
    "            0  0  b23;\n",
    "            b31  0    0]"
   ]
  },
  {
   "cell_type": "markdown",
   "metadata": {},
   "source": [
    "Let $B_{e,i}:= \\lim_{m \\to \\infty} B_{2m,i}, i =1,2$, then $B_{e,1}$ and $B_{e,2}$ are"
   ]
  },
  {
   "cell_type": "code",
   "execution_count": 19,
   "metadata": {},
   "outputs": [
    {
     "data": {
      "text/plain": [
       "3×3 Array{Float64,2}:\n",
       " 0.5  0.0  0.0\n",
       " 0.0  0.0  0.0\n",
       " 0.0  0.0  0.5"
      ]
     },
     "execution_count": 19,
     "metadata": {},
     "output_type": "execute_result"
    }
   ],
   "source": [
    "Be1 = [1/2 0 0;0 0 0;0 0 1/2]"
   ]
  },
  {
   "cell_type": "code",
   "execution_count": 20,
   "metadata": {},
   "outputs": [
    {
     "data": {
      "text/plain": [
       "3×3 Array{Float64,2}:\n",
       " 0.0       0.176777  -0.176777\n",
       " 0.0       0.0        0.176777\n",
       " 0.176777  0.0        0.0"
      ]
     },
     "execution_count": 20,
     "metadata": {},
     "output_type": "execute_result"
    }
   ],
   "source": [
    "Be2 = [0 v -v;0 0 v;v 0 0]"
   ]
  },
  {
   "cell_type": "markdown",
   "metadata": {},
   "source": [
    "\n",
    "$$\n",
    "A_{2m+1,1} = \\langle xQ_{2m+1}, Q_{2m+1}^{\\intercal}\\rangle = \n",
    "\\left[ \n",
    "\\begin{array}{c c c}\n",
    "\\left\\langle x\\frac{P_{3m+1}^{(\\alpha,\\beta)}}{\\| P_{3m+1}^{(\\alpha,\\beta)} \\|},\\frac{P_{3m+1}^{(\\alpha,\\beta)}}{\\| P_{3m+1}^{(\\alpha,\\beta)} \\|}   \\right\\rangle & 0 & 0\\\\\n",
    "0 & \\left\\langle x\\frac{yP_{3m}^{(\\alpha+2,\\beta+1)}}{\\| yP_{3m}^{(\\alpha+2,\\beta+1)} \\|},\\frac{yP_{3m}^{(\\alpha+2,\\beta+1)}}{\\| yP_{3m}^{(\\alpha+2,\\beta+1)} \\|}   \\right\\rangle & \\left\\langle x\\frac{yP_{3m}^{(\\alpha+2,\\beta+1)}}{\\| yP_{3m}^{(\\alpha+2,\\beta+1)} \\|},\\frac{yP_{3m-1}^{(\\alpha+2,\\beta+1)}}{\\| yP_{3m-1}^{(\\alpha+2,\\beta+1)} \\|}   \\right\\rangle \\\\\n",
    "  0   &  \\left\\langle x\\frac{yP_{3m}^{(\\alpha+2,\\beta+1)}}{\\| yP_{3m}^{(\\alpha+2,\\beta+1)} \\|},\\frac{yP_{3m-1}^{(\\alpha+2,\\beta+1)}}{\\| yP_{3m-1}^{(\\alpha+2,\\beta+1)} \\|}   \\right\\rangle    & \\left\\langle x\\frac{yP_{3m-1}^{(\\alpha+2,\\beta+1)}}{\\| y P_{3m-1}^{(\\alpha+2,\\beta+1)} \\|},\\frac{yP_{3m-1}^{(\\alpha+2,\\beta+1)}}{\\| yP_{3m-1}^{(\\alpha+2,\\beta+1)} \\|}   \\right\\rangle\n",
    "\\end{array}\n",
    "\\right], \n",
    "$$\n",
    "\n",
    "$$\n",
    "\\qquad A_{2m+1,2}= \\langle yQ_{2m+1}, Q_{2m+1}^{\\intercal}\\rangle = \\left[ \n",
    "\\begin{array}{c c c}\n",
    "0 & \\left\\langle y\\frac{P_{3m+1}^{(\\alpha,\\beta)}}{\\| P_{3m+1}^{(\\alpha,\\beta)} \\|},\\frac{yP_{3m}^{(\\alpha+2,\\beta+1)}}{\\| yP_{3m}^{(\\alpha+2,\\beta+1)} \\|}   \\right\\rangle & \\left\\langle y\\frac{P_{3m+1}^{(\\alpha,\\beta)}}{\\| P_{3m+1}^{(\\alpha,\\beta)} \\|},\\frac{yP_{3m-1}^{(\\alpha+2,\\beta+1)}}{\\| yP_{3m-1}^{(\\alpha+2,\\beta+1)} \\|}   \\right\\rangle \\\\\n",
    "\\left\\langle y\\frac{P_{3m+1}^{(\\alpha,\\beta)}}{\\| P_{3m+1}^{(\\alpha,\\beta)} \\|},\\frac{yP_{3m}^{(\\alpha+2,\\beta+1)}}{\\| yP_{3m}^{(\\alpha+2,\\beta+1)} \\|}   \\right\\rangle & 0 & 0 \\\\\n",
    "\\left\\langle y\\frac{P_{3m+1}^{(\\alpha,\\beta)}}{\\| P_{3m+1}^{(\\alpha,\\beta)} \\|},\\frac{yP_{3m-1}^{(\\alpha+2,\\beta+1)}}{\\| yP_{3m-1}^{(\\alpha+2,\\beta+1)} \\|}   \\right\\rangle &  0 & 0\n",
    "\\end{array}\n",
    "\\right],\n",
    "$$\n",
    "\n",
    "$A_{601,1}$ and $A_{601,2}$:"
   ]
  },
  {
   "cell_type": "code",
   "execution_count": 21,
   "metadata": {},
   "outputs": [
    {
     "data": {
      "text/plain": [
       "3×3 Array{Float64,2}:\n",
       " -2.90011e-18   0.0          0.0\n",
       "  0.0          -6.02412e-7   0.5\n",
       "  0.0           0.5         -6.29729e-7"
      ]
     },
     "execution_count": 21,
     "metadata": {},
     "output_type": "execute_result"
    }
   ],
   "source": [
    "    a11 = ip(x*P[2+3*k],P[2+3*k])\n",
    "    a22 = ip(x*y*P2[1+3*k],y*P2[1+3*k])\n",
    "    a23 = ip(x*y*P2[1+3*k],y*P2[3*k])\n",
    "    a33 = ip(x*y*P2[3*k],y*P2[3*k])\n",
    "    A2k1x = [a11 0  0;\n",
    "            0  a22 a23;\n",
    "            0  a23 a33]"
   ]
  },
  {
   "cell_type": "code",
   "execution_count": 22,
   "metadata": {},
   "outputs": [
    {
     "data": {
      "text/plain": [
       "3×3 Array{Float64,2}:\n",
       "  0.0       -0.176679  -0.176875\n",
       " -0.176679   0.0        0.0\n",
       " -0.176875   0.0        0.0"
      ]
     },
     "execution_count": 22,
     "metadata": {},
     "output_type": "execute_result"
    }
   ],
   "source": [
    "    a12 = ip(y*P[3*k+2],y*P2[3*k+1])\n",
    "    a13 = ip(y*P[3*k+2],y*P2[3*k])\n",
    "    A2k1y = [0 a12 a13;\n",
    "             a12 0 0;\n",
    "             a13 0 0]"
   ]
  },
  {
   "cell_type": "markdown",
   "metadata": {},
   "source": [
    "Let $A_{o,i}:= \\lim_{m \\to \\infty} A_{2m+1,i}, i =1,2$, then $A_{o,1}$ and $A_{o,2}$ are"
   ]
  },
  {
   "cell_type": "code",
   "execution_count": 23,
   "metadata": {},
   "outputs": [
    {
     "data": {
      "text/plain": [
       "3×3 Array{Float64,2}:\n",
       " 0.0  0.0  0.0\n",
       " 0.0  0.0  0.5\n",
       " 0.0  0.5  0.0"
      ]
     },
     "execution_count": 23,
     "metadata": {},
     "output_type": "execute_result"
    }
   ],
   "source": [
    "Ao1 = [0 0 0;0 0 1/2;0 1/2 0]"
   ]
  },
  {
   "cell_type": "code",
   "execution_count": 24,
   "metadata": {},
   "outputs": [
    {
     "data": {
      "text/plain": [
       "3×3 Array{Float64,2}:\n",
       "  0.0       -0.176777  -0.176777\n",
       " -0.176777   0.0        0.0\n",
       " -0.176777   0.0        0.0"
      ]
     },
     "execution_count": 24,
     "metadata": {},
     "output_type": "execute_result"
    }
   ],
   "source": [
    "Ao2 = [0 -v -v;-v 0 0;-v 0 0]"
   ]
  },
  {
   "cell_type": "markdown",
   "metadata": {},
   "source": [
    "\n",
    "$$\n",
    "\\qquad B_{2m+1,1}= \\langle xQ_{2m+1}, Q_{2m+2}^{\\intercal}\\rangle = \\left[ \n",
    "\\begin{array}{c c c}\n",
    "0 & \\left\\langle x\\frac{P_{3m+1}^{(\\alpha,\\beta)}}{\\| P_{3m+1}^{(\\alpha,\\beta)} \\|},\\frac{P_{3m+2}^{(\\alpha,\\beta)}}{\\| P_{3m+2}^{(\\alpha,\\beta)} \\|}   \\right\\rangle  & 0 \\\\\n",
    "0 & 0 & \\left\\langle x\\frac{yP_{3m}^{(\\alpha+2,\\beta+1)}}{\\|y P_{3m}^{(\\alpha+2,\\beta+1)} \\|},\\frac{yP_{3m+1}^{(\\alpha+2,\\beta+1)}}{\\| yP_{3m+1}^{(\\alpha+2,\\beta+1)} \\|}   \\right\\rangle\\\\\n",
    "0 &  0 & 0\n",
    "\\end{array}\n",
    "\\right],\n",
    "$$\n",
    "\n",
    "$$\n",
    "\\qquad B_{2m+1,2}= \\langle yQ_{2m+1}, Q_{2m+2}^{\\intercal}\\rangle = \\left[ \n",
    "\\begin{array}{c c c}\n",
    "0 & 0 & \\left\\langle y\\frac{P_{3m+1}^{(\\alpha,\\beta)}}{\\| P_{3m+1}^{(\\alpha,\\beta)} \\|},\\frac{yP_{3m+1}^{(\\alpha+2,\\beta+1)}}{\\| yP_{3m+1}^{(\\alpha+2,\\beta+1)} \\|}   \\right\\rangle \\\\\n",
    "\\left\\langle y\\frac{yP_{3m}^{(\\alpha+2,\\beta+1)}}{\\| P_{3m}^{(\\alpha+2,\\beta+1)} \\|},\\frac{P_{3m+3}^{(\\alpha,\\beta)}}{\\| P_{3m+3}^{(\\alpha,\\beta)} \\|}   \\right\\rangle & \\left\\langle y\\frac{yP_{3m}^{(\\alpha+2,\\beta+1)}}{\\| yP_{3m}^{(\\alpha+2,\\beta+1)} \\|},\\frac{P_{3m+2}^{(\\alpha,\\beta)}}{\\| P_{3m+2}^{(\\alpha,\\beta)} \\|}   \\right\\rangle & 0\\\\\n",
    "0 &  \\left\\langle y\\frac{yP_{3m-1}^{(\\alpha+2,\\beta+1)}}{\\| yP_{3m-1}^{(\\alpha+2,\\beta+1)} \\|},\\frac{P_{3m+2}^{(\\alpha,\\beta)}}{\\| P_{3m+2}^{(\\alpha,\\beta)} \\|}   \\right\\rangle & 0\n",
    "\\end{array}\n",
    "\\right],\n",
    "$$\n",
    "\n",
    "$B_{601,1}$ and $B_{601,2}$:"
   ]
  },
  {
   "cell_type": "code",
   "execution_count": 25,
   "metadata": {},
   "outputs": [
    {
     "data": {
      "text/plain": [
       "3×3 Array{Float64,2}:\n",
       " 0.0  0.5  0.0\n",
       " 0.0  0.0  0.5\n",
       " 0.0  0.0  0.0"
      ]
     },
     "execution_count": 25,
     "metadata": {},
     "output_type": "execute_result"
    }
   ],
   "source": [
    "    b12 = ip(x*P[2+3*k],P[3+3*k])\n",
    "    b23 = ip(x*y*P2[3*k+1],y*P2[3*k+2])\n",
    "    B2k1x = [0 b12 0;\n",
    "            0 0 b23;\n",
    "            0 0 0] "
   ]
  },
  {
   "cell_type": "code",
   "execution_count": 26,
   "metadata": {},
   "outputs": [
    {
     "data": {
      "text/plain": [
       "3×3 Array{Float64,2}:\n",
       " 0.0        0.0       0.176875\n",
       " 0.176679  -0.176875  0.0\n",
       " 0.0        0.176679  0.0"
      ]
     },
     "execution_count": 26,
     "metadata": {},
     "output_type": "execute_result"
    }
   ],
   "source": [
    "b13 = ip(y*P[3*k+2],y*P2[3*k+2])\n",
    "    b21 = ip(y*y*P2[3*k+1],P[3*k+4])\n",
    "    b22 = ip(y*y*P2[3*k+1],P[3*k+3])\n",
    "    b32 = ip(y*y*P2[3*k],P[3*k+3])\n",
    "    B2k1y = [ 0   0 b13;\n",
    "            b21 b22 0;\n",
    "            0  b32    0]"
   ]
  },
  {
   "cell_type": "markdown",
   "metadata": {},
   "source": [
    "Let $B_{o,i}:= \\lim_{m \\to \\infty} B_{2m+1,i}, i =1,2$, then $B_{o,1}$ and $B_{o,2}$ are"
   ]
  },
  {
   "cell_type": "code",
   "execution_count": 27,
   "metadata": {},
   "outputs": [
    {
     "data": {
      "text/plain": [
       "3×3 Array{Float64,2}:\n",
       " 0.0  0.5  0.0\n",
       " 0.0  0.0  0.5\n",
       " 0.0  0.0  0.0"
      ]
     },
     "execution_count": 27,
     "metadata": {},
     "output_type": "execute_result"
    }
   ],
   "source": [
    "Bo1 = [0 1/2 0;0 0 1/2;0 0 0]"
   ]
  },
  {
   "cell_type": "code",
   "execution_count": 28,
   "metadata": {},
   "outputs": [
    {
     "data": {
      "text/plain": [
       "3×3 Array{Float64,2}:\n",
       " 0.0        0.0       0.176777\n",
       " 0.176777  -0.176777  0.0\n",
       " 0.0        0.176777  0.0"
      ]
     },
     "execution_count": 28,
     "metadata": {},
     "output_type": "execute_result"
    }
   ],
   "source": [
    "Bo2 = [0 0 v;v -v 0;0 v 0]"
   ]
  },
  {
   "cell_type": "markdown",
   "metadata": {},
   "source": [
    "Here are the matrices of the $6 \\times 6$ symbols:"
   ]
  },
  {
   "cell_type": "code",
   "execution_count": 30,
   "metadata": {},
   "outputs": [
    {
     "data": {
      "text/plain": [
       "6×6 Array{Float64,2}:\n",
       " 0.0  0.5  0.0  0.5  0.0  0.0\n",
       " 0.5  0.0  0.0  0.0  0.0  0.0\n",
       " 0.0  0.0  0.0  0.0  0.0  0.5\n",
       " 0.5  0.0  0.0  0.0  0.0  0.0\n",
       " 0.0  0.0  0.0  0.0  0.0  0.5\n",
       " 0.0  0.0  0.5  0.0  0.5  0.0"
      ]
     },
     "execution_count": 30,
     "metadata": {},
     "output_type": "execute_result"
    }
   ],
   "source": [
    "A66x = [Ae1 Be1;Be1' Ao1]"
   ]
  },
  {
   "cell_type": "code",
   "execution_count": 31,
   "metadata": {},
   "outputs": [
    {
     "data": {
      "text/plain": [
       "6×6 Array{Float64,2}:\n",
       " 0.0  0.0  0.0  0.0  0.0  0.0\n",
       " 0.0  0.0  0.0  0.0  0.0  0.0\n",
       " 0.0  0.0  0.0  0.0  0.0  0.0\n",
       " 0.0  0.5  0.0  0.0  0.0  0.0\n",
       " 0.0  0.0  0.5  0.0  0.0  0.0\n",
       " 0.0  0.0  0.0  0.0  0.0  0.0"
      ]
     },
     "execution_count": 31,
     "metadata": {},
     "output_type": "execute_result"
    }
   ],
   "source": [
    "B66x = zeros(6,6)\n",
    "B66x[4:6,1:3] = Bo1\n",
    "B66x"
   ]
  },
  {
   "cell_type": "code",
   "execution_count": 32,
   "metadata": {},
   "outputs": [
    {
     "data": {
      "text/plain": [
       "6×6 Array{Float64,2}:\n",
       "  0.0        0.0       -0.176777   0.0        0.176777  -0.176777\n",
       "  0.0        0.0       -0.176777   0.0        0.0        0.176777\n",
       " -0.176777  -0.176777   0.0        0.176777   0.0        0.0\n",
       "  0.0        0.0        0.176777   0.0       -0.176777  -0.176777\n",
       "  0.176777   0.0        0.0       -0.176777   0.0        0.0\n",
       " -0.176777   0.176777   0.0       -0.176777   0.0        0.0"
      ]
     },
     "execution_count": 32,
     "metadata": {},
     "output_type": "execute_result"
    }
   ],
   "source": [
    "A66y = [Ae2 Be2;Be2' Ao2]"
   ]
  },
  {
   "cell_type": "code",
   "execution_count": 33,
   "metadata": {},
   "outputs": [
    {
     "data": {
      "text/plain": [
       "6×6 Array{Float64,2}:\n",
       " 0.0        0.0       0.0       0.0  0.0  0.0\n",
       " 0.0        0.0       0.0       0.0  0.0  0.0\n",
       " 0.0        0.0       0.0       0.0  0.0  0.0\n",
       " 0.0        0.0       0.176777  0.0  0.0  0.0\n",
       " 0.176777  -0.176777  0.0       0.0  0.0  0.0\n",
       " 0.0        0.176777  0.0       0.0  0.0  0.0"
      ]
     },
     "execution_count": 33,
     "metadata": {},
     "output_type": "execute_result"
    }
   ],
   "source": [
    "B66y = zeros(6,6)\n",
    "B66y[4:6,1:3] = Bo2\n",
    "B66y"
   ]
  },
  {
   "cell_type": "code",
   "execution_count": 50,
   "metadata": {},
   "outputs": [
    {
     "name": "stdout",
     "output_type": "stream",
     "text": [
      "\u001b[37m\u001b[1mTest Summary: | \u001b[22m\u001b[39m\u001b[32m\u001b[1mPass  \u001b[22m\u001b[39m\u001b[36m\u001b[1mTotal\u001b[22m\u001b[39m\n",
      "commutativity | \u001b[32m   1  \u001b[39m\u001b[36m    1\u001b[39m\n"
     ]
    }
   ],
   "source": [
    "X(z) = B66x'/z + A66x + B66x*z\n",
    "Y(z) = B66y'/z + A66y + B66y*z\n",
    "z = exp(im*pi/2)\n",
    "@testset \"commutativity\" begin\n",
    "    @test X(z)*Y(z) ≈ Y(z)*X(z)\n",
    "end;"
   ]
  },
  {
   "cell_type": "code",
   "execution_count": 51,
   "metadata": {},
   "outputs": [
    {
     "name": "stdout",
     "output_type": "stream",
     "text": [
      "\u001b[37m\u001b[1mTest Summary:      | \u001b[22m\u001b[39m\u001b[32m\u001b[1mPass  \u001b[22m\u001b[39m\u001b[36m\u001b[1mTotal\u001b[22m\u001b[39m\n",
      "algebraic equation | \u001b[32m   1  \u001b[39m\u001b[36m    1\u001b[39m\n"
     ]
    }
   ],
   "source": [
    "@testset \"algebraic equation\" begin\n",
    "@test Y(z)^2 ≈ 1/4*(I - X(z))^2*(I + X(z))    \n",
    "end;"
   ]
  }
 ],
 "metadata": {
  "kernelspec": {
   "display_name": "Julia 1.4.2",
   "language": "julia",
   "name": "julia-1.4"
  },
  "language_info": {
   "file_extension": ".jl",
   "mimetype": "application/julia",
   "name": "julia",
   "version": "1.4.2"
  }
 },
 "nbformat": 4,
 "nbformat_minor": 4
}
