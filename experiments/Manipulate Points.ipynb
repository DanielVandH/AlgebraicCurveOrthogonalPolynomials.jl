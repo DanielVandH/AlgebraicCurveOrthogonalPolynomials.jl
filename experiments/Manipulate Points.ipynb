{
 "cells": [
  {
   "cell_type": "code",
   "execution_count": 1,
   "metadata": {},
   "outputs": [
    {
     "data": {
      "text/html": [
       "<script>\n",
       "// Immediately-invoked-function-expression to avoid global variables.\n",
       "(function() {\n",
       "    var warning_div = document.getElementById(\"webio-warning-13779237760753351541\");\n",
       "    var hide = function () {\n",
       "        var script = document.getElementById(\"webio-setup-1925763801079807733\");\n",
       "        var parent = script && script.parentElement;\n",
       "        var grandparent = parent && parent.parentElement;\n",
       "        if (grandparent) {\n",
       "            grandparent.style.display = \"none\";\n",
       "        }\n",
       "        warning_div.style.display = \"none\";\n",
       "    };\n",
       "    if (typeof Jupyter !== \"undefined\") {\n",
       "        console.log(\"WebIO detected Jupyter notebook environment.\");\n",
       "        // Jupyter notebook.\n",
       "        var extensions = (\n",
       "            Jupyter\n",
       "            && Jupyter.notebook.config.data\n",
       "            && Jupyter.notebook.config.data.load_extensions\n",
       "        );\n",
       "        if (extensions && extensions[\"webio-jupyter-notebook\"]) {\n",
       "            // Extension already loaded.\n",
       "            console.log(\"Jupyter WebIO nbextension detected; not loading ad-hoc.\");\n",
       "            hide();\n",
       "            return;\n",
       "        }\n",
       "    } else if (window.location.pathname.includes(\"/lab\")) {\n",
       "        // Guessing JupyterLa\n",
       "        console.log(\"Jupyter Lab detected; make sure the @webio/jupyter-lab-provider labextension is installed.\");\n",
       "        hide();\n",
       "        return;\n",
       "    }\n",
       "})();\n",
       "\n",
       "</script>\n",
       "<p\n",
       "    id=\"webio-warning-13779237760753351541\"\n",
       "    class=\"output_text output_stderr\"\n",
       "    style=\"padding: 1em; font-weight: bold;\"\n",
       ">\n",
       "    Unable to load WebIO. Please make sure WebIO works for your Jupyter client.\n",
       "    For troubleshooting, please see <a href=\"https://juliagizmos.github.io/WebIO.jl/latest/providers/ijulia/\">\n",
       "    the WebIO/IJulia documentation</a>.\n",
       "    <!-- TODO: link to installation docs. -->\n",
       "</p>\n"
      ],
      "text/plain": [
       "HTML{String}(\"<script>\\n// Immediately-invoked-function-expression to avoid global variables.\\n(function() {\\n    var warning_div = document.getElementById(\\\"webio-warning-13779237760753351541\\\");\\n    var hide = function () {\\n        var script = document.getElementById(\\\"webio-setup-1925763801079807733\\\");\\n        var parent = script && script.parentElement;\\n        var grandparent = parent && parent.parentElement;\\n        if (grandparent) {\\n            grandparent.style.display = \\\"none\\\";\\n        }\\n        warning_div.style.display = \\\"none\\\";\\n    };\\n    if (typeof Jupyter !== \\\"undefined\\\") {\\n        console.log(\\\"WebIO detected Jupyter notebook environment.\\\");\\n        // Jupyter notebook.\\n        var extensions = (\\n            Jupyter\\n            && Jupyter.notebook.config.data\\n            && Jupyter.notebook.config.data.load_extensions\\n        );\\n        if (extensions && extensions[\\\"webio-jupyter-notebook\\\"]) {\\n            // Extension already loaded.\\n            console.log(\\\"Jupyter WebIO nbextension detected; not loading ad-hoc.\\\");\\n            hide();\\n            return;\\n        }\\n    } else if (window.location.pathname.includes(\\\"/lab\\\")) {\\n        // Guessing JupyterLa\\n        console.log(\\\"Jupyter Lab detected; make sure the @webio/jupyter-lab-provider labextension is installed.\\\");\\n        hide();\\n        return;\\n    }\\n})();\\n\\n</script>\\n<p\\n    id=\\\"webio-warning-13779237760753351541\\\"\\n    class=\\\"output_text output_stderr\\\"\\n    style=\\\"padding: 1em; font-weight: bold;\\\"\\n>\\n    Unable to load WebIO. Please make sure WebIO works for your Jupyter client.\\n    For troubleshooting, please see <a href=\\\"https://juliagizmos.github.io/WebIO.jl/latest/providers/ijulia/\\\">\\n    the WebIO/IJulia documentation</a>.\\n    <!-- TODO: link to installation docs. -->\\n</p>\\n\")"
      ]
     },
     "metadata": {},
     "output_type": "display_data"
    }
   ],
   "source": [
    "using AlgebraicCurveOrthogonalPolynomials, Interact, Plots"
   ]
  },
  {
   "cell_type": "code",
   "execution_count": 5,
   "metadata": {},
   "outputs": [
    {
     "data": {
      "application/vnd.webio.node+json": {
       "children": [
        {
         "children": [
          {
           "children": [
            {
             "children": [
              {
               "children": [
                {
                 "children": [
                  "k"
                 ],
                 "instanceArgs": {
                  "namespace": "html",
                  "tag": "label"
                 },
                 "nodeType": "DOM",
                 "props": {
                  "className": "interact ",
                  "style": {
                   "padding": "5px 10px 0px 10px"
                  }
                 },
                 "type": "node"
                }
               ],
               "instanceArgs": {
                "namespace": "html",
                "tag": "div"
               },
               "nodeType": "DOM",
               "props": {
                "className": "interact-flex-row-left"
               },
               "type": "node"
              },
              {
               "children": [
                {
                 "children": [],
                 "instanceArgs": {
                  "namespace": "html",
                  "tag": "input"
                 },
                 "nodeType": "DOM",
                 "props": {
                  "attributes": {
                   "data-bind": "numericValue: index, valueUpdate: 'input', event: {change: function (){this.changes(this.changes()+1)}}",
                   "orient": "horizontal",
                   "type": "range"
                  },
                  "className": "slider slider is-fullwidth",
                  "max": 10,
                  "min": 1,
                  "step": 1,
                  "style": {}
                 },
                 "type": "node"
                }
               ],
               "instanceArgs": {
                "namespace": "html",
                "tag": "div"
               },
               "nodeType": "DOM",
               "props": {
                "className": "interact-flex-row-center"
               },
               "type": "node"
              },
              {
               "children": [
                {
                 "children": [],
                 "instanceArgs": {
                  "namespace": "html",
                  "tag": "p"
                 },
                 "nodeType": "DOM",
                 "props": {
                  "attributes": {
                   "data-bind": "text: formatted_val"
                  }
                 },
                 "type": "node"
                }
               ],
               "instanceArgs": {
                "namespace": "html",
                "tag": "div"
               },
               "nodeType": "DOM",
               "props": {
                "className": "interact-flex-row-right"
               },
               "type": "node"
              }
             ],
             "instanceArgs": {
              "namespace": "html",
              "tag": "div"
             },
             "nodeType": "DOM",
             "props": {
              "className": "interact-flex-row interact-widget"
             },
             "type": "node"
            }
           ],
           "instanceArgs": {
            "handlers": {
             "changes": [
              "(function (val){return (val!=this.model[\"changes\"]()) ? (this.valueFromJulia[\"changes\"]=true, this.model[\"changes\"](val)) : undefined})"
             ],
             "index": [
              "(function (val){return (val!=this.model[\"index\"]()) ? (this.valueFromJulia[\"index\"]=true, this.model[\"index\"](val)) : undefined})"
             ]
            },
            "id": "7957986870263617593",
            "imports": {
             "data": [
              {
               "name": "knockout",
               "type": "js",
               "url": "/assetserver/502f59c81f524b150503efcbb53ea0d68912880c-knockout.js"
              },
              {
               "name": "knockout_punches",
               "type": "js",
               "url": "/assetserver/3b75067736ba00af80f1795cf8d9cd404ea498dc-knockout_punches.js"
              },
              {
               "name": null,
               "type": "js",
               "url": "/assetserver/19621caba8a253aa824e0ab99f57d38cae2539fb-all.js"
              },
              {
               "name": null,
               "type": "css",
               "url": "/assetserver/e79d71cfbb69ba4797658564855743cde12dd61c-style.css"
              },
              {
               "name": null,
               "type": "css",
               "url": "/assetserver/72e38918ae26753c70e52787a35dbf85f0b6f3e4-bulma_confined.min.css"
              }
             ],
             "type": "async_block"
            },
            "mount_callbacks": [
             "function () {\n    var handler = (function (ko, koPunches) {\n    ko.punches.enableAll();\n    ko.bindingHandlers.numericValue = {\n        init: function(element, valueAccessor, allBindings, data, context) {\n            var stringified = ko.observable(ko.unwrap(valueAccessor()));\n            stringified.subscribe(function(value) {\n                var val = parseFloat(value);\n                if (!isNaN(val)) {\n                    valueAccessor()(val);\n                }\n            });\n            valueAccessor().subscribe(function(value) {\n                var str = JSON.stringify(value);\n                if ((str == \"0\") && ([\"-0\", \"-0.\"].indexOf(stringified()) >= 0))\n                     return;\n                 if ([\"null\", \"\"].indexOf(str) >= 0)\n                     return;\n                stringified(str);\n            });\n            ko.applyBindingsToNode(\n                element,\n                {\n                    value: stringified,\n                    valueUpdate: allBindings.get('valueUpdate'),\n                },\n                context,\n            );\n        }\n    };\n    var json_data = {\"formatted_vals\":[\"1\",\"2\",\"3\",\"4\",\"5\",\"6\",\"7\",\"8\",\"9\",\"10\"],\"changes\":WebIO.getval({\"name\":\"changes\",\"scope\":\"7957986870263617593\",\"id\":\"11874879074092600994\",\"type\":\"observable\"}),\"index\":WebIO.getval({\"name\":\"index\",\"scope\":\"7957986870263617593\",\"id\":\"10630003369218207635\",\"type\":\"observable\"})};\n    var self = this;\n    function AppViewModel() {\n        for (var key in json_data) {\n            var el = json_data[key];\n            this[key] = Array.isArray(el) ? ko.observableArray(el) : ko.observable(el);\n        }\n        \n        [this[\"formatted_val\"]=ko.computed(    function(){\n        return this.formatted_vals()[parseInt(this.index())-(1)];\n    }\n,this)]\n        [this[\"changes\"].subscribe((function (val){!(this.valueFromJulia[\"changes\"]) ? (WebIO.setval({\"name\":\"changes\",\"scope\":\"7957986870263617593\",\"id\":\"11874879074092600994\",\"type\":\"observable\"},val)) : undefined; return this.valueFromJulia[\"changes\"]=false}),self),this[\"index\"].subscribe((function (val){!(this.valueFromJulia[\"index\"]) ? (WebIO.setval({\"name\":\"index\",\"scope\":\"7957986870263617593\",\"id\":\"10630003369218207635\",\"type\":\"observable\"},val)) : undefined; return this.valueFromJulia[\"index\"]=false}),self)]\n        \n    }\n    self.model = new AppViewModel();\n    self.valueFromJulia = {};\n    for (var key in json_data) {\n        self.valueFromJulia[key] = false;\n    }\n    ko.applyBindings(self.model, self.dom);\n}\n);\n    (WebIO.importBlock({\"data\":[{\"name\":\"knockout\",\"type\":\"js\",\"url\":\"/assetserver/502f59c81f524b150503efcbb53ea0d68912880c-knockout.js\"},{\"name\":\"knockout_punches\",\"type\":\"js\",\"url\":\"/assetserver/3b75067736ba00af80f1795cf8d9cd404ea498dc-knockout_punches.js\"}],\"type\":\"async_block\"})).then((imports) => handler.apply(this, imports));\n}\n"
            ],
            "observables": {
             "changes": {
              "id": "11874879074092600994",
              "sync": false,
              "value": 0
             },
             "index": {
              "id": "10630003369218207635",
              "sync": true,
              "value": 5
             }
            },
            "systemjs_options": null
           },
           "nodeType": "Scope",
           "props": {},
           "type": "node"
          }
         ],
         "instanceArgs": {
          "namespace": "html",
          "tag": "div"
         },
         "nodeType": "DOM",
         "props": {
          "className": "field interact-widget"
         },
         "type": "node"
        },
        {
         "children": [
          {
           "children": [],
           "instanceArgs": {
            "id": "12668501402910884168",
            "name": "obs-node"
           },
           "nodeType": "ObservableNode",
           "props": {},
           "type": "node"
          }
         ],
         "instanceArgs": {
          "handlers": {},
          "id": "4163937908080059097",
          "imports": {
           "data": [],
           "type": "async_block"
          },
          "mount_callbacks": [],
          "observables": {
           "obs-node": {
            "id": "12668501402910884168",
            "sync": false,
            "value": {
             "children": [
              {
               "children": [],
               "instanceArgs": {
                "namespace": "html",
                "tag": "div"
               },
               "nodeType": "DOM",
               "props": {
                "setInnerHtml": "<?xml version=\"1.0\" encoding=\"utf-8\"?>\n<svg xmlns=\"http://www.w3.org/2000/svg\" xmlns:xlink=\"http://www.w3.org/1999/xlink\" width=\"600\" height=\"400\" viewBox=\"0 0 2400 1600\">\n<defs>\n  <clipPath id=\"clip420\">\n    <rect x=\"0\" y=\"0\" width=\"2400\" height=\"1600\"/>\n  </clipPath>\n</defs>\n<path clip-path=\"url(#clip420)\" d=\"\nM0 1600 L2400 1600 L2400 0 L0 0  Z\n  \" fill=\"#ffffff\" fill-rule=\"evenodd\" fill-opacity=\"1\"/>\n<defs>\n  <clipPath id=\"clip421\">\n    <rect x=\"480\" y=\"0\" width=\"1681\" height=\"1600\"/>\n  </clipPath>\n</defs>\n<path clip-path=\"url(#clip420)\" d=\"\nM135.95 1486.45 L2352.76 1486.45 L2352.76 47.2441 L135.95 47.2441  Z\n  \" fill=\"#ffffff\" fill-rule=\"evenodd\" fill-opacity=\"1\"/>\n<defs>\n  <clipPath id=\"clip422\">\n    <rect x=\"135\" y=\"47\" width=\"2218\" height=\"1440\"/>\n  </clipPath>\n</defs>\n<polyline clip-path=\"url(#clip422)\" style=\"stroke:#000000; stroke-width:2; stroke-opacity:0.1; fill:none\" points=\"\n  198.69,1486.45 198.69,47.2441 \n  \"/>\n<polyline clip-path=\"url(#clip422)\" style=\"stroke:#000000; stroke-width:2; stroke-opacity:0.1; fill:none\" points=\"\n  721.522,1486.45 721.522,47.2441 \n  \"/>\n<polyline clip-path=\"url(#clip422)\" style=\"stroke:#000000; stroke-width:2; stroke-opacity:0.1; fill:none\" points=\"\n  1244.35,1486.45 1244.35,47.2441 \n  \"/>\n<polyline clip-path=\"url(#clip422)\" style=\"stroke:#000000; stroke-width:2; stroke-opacity:0.1; fill:none\" points=\"\n  1767.18,1486.45 1767.18,47.2441 \n  \"/>\n<polyline clip-path=\"url(#clip422)\" style=\"stroke:#000000; stroke-width:2; stroke-opacity:0.1; fill:none\" points=\"\n  2290.02,1486.45 2290.02,47.2441 \n  \"/>\n<polyline clip-path=\"url(#clip422)\" style=\"stroke:#000000; stroke-width:2; stroke-opacity:0.1; fill:none\" points=\"\n  135.95,1445.72 2352.76,1445.72 \n  \"/>\n<polyline clip-path=\"url(#clip422)\" style=\"stroke:#000000; stroke-width:2; stroke-opacity:0.1; fill:none\" points=\"\n  135.95,1106.28 2352.76,1106.28 \n  \"/>\n<polyline clip-path=\"url(#clip422)\" style=\"stroke:#000000; stroke-width:2; stroke-opacity:0.1; fill:none\" points=\"\n  135.95,766.846 2352.76,766.846 \n  \"/>\n<polyline clip-path=\"url(#clip422)\" style=\"stroke:#000000; stroke-width:2; stroke-opacity:0.1; fill:none\" points=\"\n  135.95,427.411 2352.76,427.411 \n  \"/>\n<polyline clip-path=\"url(#clip422)\" style=\"stroke:#000000; stroke-width:2; stroke-opacity:0.1; fill:none\" points=\"\n  135.95,87.9763 2352.76,87.9763 \n  \"/>\n<polyline clip-path=\"url(#clip420)\" style=\"stroke:#000000; stroke-width:4; stroke-opacity:1; fill:none\" points=\"\n  135.95,1486.45 2352.76,1486.45 \n  \"/>\n<polyline clip-path=\"url(#clip420)\" style=\"stroke:#000000; stroke-width:4; stroke-opacity:1; fill:none\" points=\"\n  135.95,1486.45 135.95,47.2441 \n  \"/>\n<polyline clip-path=\"url(#clip420)\" style=\"stroke:#000000; stroke-width:4; stroke-opacity:1; fill:none\" points=\"\n  198.69,1486.45 198.69,1469.18 \n  \"/>\n<polyline clip-path=\"url(#clip420)\" style=\"stroke:#000000; stroke-width:4; stroke-opacity:1; fill:none\" points=\"\n  721.522,1486.45 721.522,1469.18 \n  \"/>\n<polyline clip-path=\"url(#clip420)\" style=\"stroke:#000000; stroke-width:4; stroke-opacity:1; fill:none\" points=\"\n  1244.35,1486.45 1244.35,1469.18 \n  \"/>\n<polyline clip-path=\"url(#clip420)\" style=\"stroke:#000000; stroke-width:4; stroke-opacity:1; fill:none\" points=\"\n  1767.18,1486.45 1767.18,1469.18 \n  \"/>\n<polyline clip-path=\"url(#clip420)\" style=\"stroke:#000000; stroke-width:4; stroke-opacity:1; fill:none\" points=\"\n  2290.02,1486.45 2290.02,1469.18 \n  \"/>\n<polyline clip-path=\"url(#clip420)\" style=\"stroke:#000000; stroke-width:4; stroke-opacity:1; fill:none\" points=\"\n  135.95,1445.72 162.552,1445.72 \n  \"/>\n<polyline clip-path=\"url(#clip420)\" style=\"stroke:#000000; stroke-width:4; stroke-opacity:1; fill:none\" points=\"\n  135.95,1106.28 162.552,1106.28 \n  \"/>\n<polyline clip-path=\"url(#clip420)\" style=\"stroke:#000000; stroke-width:4; stroke-opacity:1; fill:none\" points=\"\n  135.95,766.846 162.552,766.846 \n  \"/>\n<polyline clip-path=\"url(#clip420)\" style=\"stroke:#000000; stroke-width:4; stroke-opacity:1; fill:none\" points=\"\n  135.95,427.411 162.552,427.411 \n  \"/>\n<polyline clip-path=\"url(#clip420)\" style=\"stroke:#000000; stroke-width:4; stroke-opacity:1; fill:none\" points=\"\n  135.95,87.9763 162.552,87.9763 \n  \"/>\n<path clip-path=\"url(#clip420)\" d=\"M 0 0 M189.072 1535.98 L196.711 1535.98 L196.711 1509.62 L188.401 1511.29 L188.401 1507.03 L196.665 1505.36 L201.34 1505.36 L201.34 1535.98 L208.979 1535.98 L208.979 1539.92 L189.072 1539.92 L189.072 1535.98 Z\" fill=\"#000000\" fill-rule=\"evenodd\" fill-opacity=\"1\" /><path clip-path=\"url(#clip420)\" d=\"M 0 0 M716.174 1535.98 L732.494 1535.98 L732.494 1539.92 L710.549 1539.92 L710.549 1535.98 Q713.211 1533.23 717.795 1528.6 Q722.401 1523.95 723.582 1522.61 Q725.827 1520.08 726.707 1518.35 Q727.609 1516.59 727.609 1514.9 Q727.609 1512.14 725.665 1510.41 Q723.744 1508.67 720.642 1508.67 Q718.443 1508.67 715.989 1509.43 Q713.559 1510.2 710.781 1511.75 L710.781 1507.03 Q713.605 1505.89 716.059 1505.31 Q718.512 1504.73 720.549 1504.73 Q725.92 1504.73 729.114 1507.42 Q732.308 1510.11 732.308 1514.6 Q732.308 1516.73 731.498 1518.65 Q730.711 1520.54 728.605 1523.14 Q728.026 1523.81 724.924 1527.03 Q721.822 1530.22 716.174 1535.98 Z\" fill=\"#000000\" fill-rule=\"evenodd\" fill-opacity=\"1\" /><path clip-path=\"url(#clip420)\" d=\"M 0 0 M1248.6 1521.29 Q1251.96 1522 1253.83 1524.27 Q1255.73 1526.54 1255.73 1529.87 Q1255.73 1534.99 1252.21 1537.79 Q1248.69 1540.59 1242.21 1540.59 Q1240.04 1540.59 1237.72 1540.15 Q1235.43 1539.73 1232.98 1538.88 L1232.98 1534.36 Q1234.92 1535.5 1237.24 1536.08 Q1239.55 1536.66 1242.07 1536.66 Q1246.47 1536.66 1248.76 1534.92 Q1251.08 1533.18 1251.08 1529.87 Q1251.08 1526.82 1248.92 1525.11 Q1246.8 1523.37 1242.98 1523.37 L1238.95 1523.37 L1238.95 1519.53 L1243.16 1519.53 Q1246.61 1519.53 1248.44 1518.16 Q1250.27 1516.77 1250.27 1514.18 Q1250.27 1511.52 1248.37 1510.11 Q1246.49 1508.67 1242.98 1508.67 Q1241.05 1508.67 1238.86 1509.09 Q1236.66 1509.5 1234.02 1510.38 L1234.02 1506.22 Q1236.68 1505.48 1238.99 1505.11 Q1241.33 1504.73 1243.39 1504.73 Q1248.72 1504.73 1251.82 1507.17 Q1254.92 1509.57 1254.92 1513.69 Q1254.92 1516.56 1253.28 1518.55 Q1251.63 1520.52 1248.6 1521.29 Z\" fill=\"#000000\" fill-rule=\"evenodd\" fill-opacity=\"1\" /><path clip-path=\"url(#clip420)\" d=\"M 0 0 M1770.19 1509.43 L1758.39 1527.88 L1770.19 1527.88 L1770.19 1509.43 M1768.97 1505.36 L1774.85 1505.36 L1774.85 1527.88 L1779.78 1527.88 L1779.78 1531.77 L1774.85 1531.77 L1774.85 1539.92 L1770.19 1539.92 L1770.19 1531.77 L1754.59 1531.77 L1754.59 1527.26 L1768.97 1505.36 Z\" fill=\"#000000\" fill-rule=\"evenodd\" fill-opacity=\"1\" /><path clip-path=\"url(#clip420)\" d=\"M 0 0 M2280.29 1505.36 L2298.65 1505.36 L2298.65 1509.3 L2284.58 1509.3 L2284.58 1517.77 Q2285.59 1517.42 2286.61 1517.26 Q2287.63 1517.07 2288.65 1517.07 Q2294.44 1517.07 2297.82 1520.24 Q2301.2 1523.42 2301.2 1528.83 Q2301.2 1534.41 2297.72 1537.51 Q2294.25 1540.59 2287.93 1540.59 Q2285.76 1540.59 2283.49 1540.22 Q2281.24 1539.85 2278.84 1539.11 L2278.84 1534.41 Q2280.92 1535.54 2283.14 1536.1 Q2285.36 1536.66 2287.84 1536.66 Q2291.84 1536.66 2294.18 1534.55 Q2296.52 1532.44 2296.52 1528.83 Q2296.52 1525.22 2294.18 1523.11 Q2291.84 1521.01 2287.84 1521.01 Q2285.97 1521.01 2284.09 1521.42 Q2282.24 1521.84 2280.29 1522.72 L2280.29 1505.36 Z\" fill=\"#000000\" fill-rule=\"evenodd\" fill-opacity=\"1\" /><path clip-path=\"url(#clip420)\" d=\"M 0 0 M91.0475 1428.44 L109.404 1428.44 L109.404 1432.37 L95.3299 1432.37 L95.3299 1440.84 Q96.3484 1440.5 97.3669 1440.33 Q98.3855 1440.15 99.404 1440.15 Q105.191 1440.15 108.571 1443.32 Q111.95 1446.49 111.95 1451.91 Q111.95 1457.49 108.478 1460.59 Q105.006 1463.67 98.6864 1463.67 Q96.5105 1463.67 94.242 1463.3 Q91.9966 1462.93 89.5892 1462.19 L89.5892 1457.49 Q91.6725 1458.62 93.8947 1459.18 Q96.1169 1459.73 98.5938 1459.73 Q102.598 1459.73 104.936 1457.63 Q107.274 1455.52 107.274 1451.91 Q107.274 1448.3 104.936 1446.19 Q102.598 1444.08 98.5938 1444.08 Q96.7188 1444.08 94.8438 1444.5 Q92.992 1444.92 91.0475 1445.8 L91.0475 1428.44 Z\" fill=\"#000000\" fill-rule=\"evenodd\" fill-opacity=\"1\" /><path clip-path=\"url(#clip420)\" d=\"M 0 0 M65.0292 1119.63 L72.668 1119.63 L72.668 1093.26 L64.3579 1094.93 L64.3579 1090.67 L72.6217 1089 L77.2976 1089 L77.2976 1119.63 L84.9365 1119.63 L84.9365 1123.56 L65.0292 1123.56 L65.0292 1119.63 Z\" fill=\"#000000\" fill-rule=\"evenodd\" fill-opacity=\"1\" /><path clip-path=\"url(#clip420)\" d=\"M 0 0 M100.006 1092.08 Q96.3947 1092.08 94.566 1095.64 Q92.7605 1099.19 92.7605 1106.32 Q92.7605 1113.42 94.566 1116.99 Q96.3947 1120.53 100.006 1120.53 Q103.64 1120.53 105.446 1116.99 Q107.274 1113.42 107.274 1106.32 Q107.274 1099.19 105.446 1095.64 Q103.64 1092.08 100.006 1092.08 M100.006 1088.38 Q105.816 1088.38 108.872 1092.98 Q111.95 1097.57 111.95 1106.32 Q111.95 1115.04 108.872 1119.65 Q105.816 1124.23 100.006 1124.23 Q94.1957 1124.23 91.117 1119.65 Q88.0614 1115.04 88.0614 1106.32 Q88.0614 1097.57 91.117 1092.98 Q94.1957 1088.38 100.006 1088.38 Z\" fill=\"#000000\" fill-rule=\"evenodd\" fill-opacity=\"1\" /><path clip-path=\"url(#clip420)\" d=\"M 0 0 M66.0245 780.191 L73.6634 780.191 L73.6634 753.825 L65.3532 755.492 L65.3532 751.233 L73.6171 749.566 L78.293 749.566 L78.293 780.191 L85.9318 780.191 L85.9318 784.126 L66.0245 784.126 L66.0245 780.191 Z\" fill=\"#000000\" fill-rule=\"evenodd\" fill-opacity=\"1\" /><path clip-path=\"url(#clip420)\" d=\"M 0 0 M91.0475 749.566 L109.404 749.566 L109.404 753.501 L95.3299 753.501 L95.3299 761.973 Q96.3484 761.626 97.3669 761.464 Q98.3855 761.279 99.404 761.279 Q105.191 761.279 108.571 764.45 Q111.95 767.621 111.95 773.038 Q111.95 778.617 108.478 781.719 Q105.006 784.797 98.6864 784.797 Q96.5105 784.797 94.242 784.427 Q91.9966 784.057 89.5892 783.316 L89.5892 778.617 Q91.6725 779.751 93.8947 780.307 Q96.1169 780.862 98.5938 780.862 Q102.598 780.862 104.936 778.756 Q107.274 776.649 107.274 773.038 Q107.274 769.427 104.936 767.321 Q102.598 765.214 98.5938 765.214 Q96.7188 765.214 94.8438 765.631 Q92.992 766.047 91.0475 766.927 L91.0475 749.566 Z\" fill=\"#000000\" fill-rule=\"evenodd\" fill-opacity=\"1\" /><path clip-path=\"url(#clip420)\" d=\"M 0 0 M68.6171 440.756 L84.9365 440.756 L84.9365 444.691 L62.9921 444.691 L62.9921 440.756 Q65.6541 438.001 70.2375 433.372 Q74.8439 428.719 76.0245 427.376 Q78.2698 424.853 79.1494 423.117 Q80.0522 421.358 80.0522 419.668 Q80.0522 416.914 78.1078 415.177 Q76.1865 413.441 73.0847 413.441 Q70.8856 413.441 68.4319 414.205 Q66.0014 414.969 63.2236 416.52 L63.2236 411.798 Q66.0477 410.664 68.5014 410.085 Q70.955 409.506 72.9921 409.506 Q78.3624 409.506 81.5568 412.191 Q84.7513 414.876 84.7513 419.367 Q84.7513 421.497 83.9411 423.418 Q83.1541 425.316 81.0476 427.909 Q80.4689 428.58 77.367 431.798 Q74.2652 434.992 68.6171 440.756 Z\" fill=\"#000000\" fill-rule=\"evenodd\" fill-opacity=\"1\" /><path clip-path=\"url(#clip420)\" d=\"M 0 0 M100.006 413.21 Q96.3947 413.21 94.566 416.775 Q92.7605 420.316 92.7605 427.446 Q92.7605 434.552 94.566 438.117 Q96.3947 441.659 100.006 441.659 Q103.64 441.659 105.446 438.117 Q107.274 434.552 107.274 427.446 Q107.274 420.316 105.446 416.775 Q103.64 413.21 100.006 413.21 M100.006 409.506 Q105.816 409.506 108.872 414.113 Q111.95 418.696 111.95 427.446 Q111.95 436.173 108.872 440.779 Q105.816 445.362 100.006 445.362 Q94.1957 445.362 91.117 440.779 Q88.0614 436.173 88.0614 427.446 Q88.0614 418.696 91.117 414.113 Q94.1957 409.506 100.006 409.506 Z\" fill=\"#000000\" fill-rule=\"evenodd\" fill-opacity=\"1\" /><path clip-path=\"url(#clip420)\" d=\"M 0 0 M69.6125 101.321 L85.9318 101.321 L85.9318 105.256 L63.9875 105.256 L63.9875 101.321 Q66.6495 98.5665 71.2328 93.9369 Q75.8393 89.2841 77.0198 87.9416 Q79.2652 85.4184 80.1448 83.6823 Q81.0476 81.9231 81.0476 80.2333 Q81.0476 77.4786 79.1032 75.7425 Q77.1819 74.0064 74.08 74.0064 Q71.881 74.0064 69.4273 74.7703 Q66.9967 75.5342 64.219 77.0851 L64.219 72.3629 Q67.043 71.2287 69.4967 70.65 Q71.9504 70.0713 73.9874 70.0713 Q79.3578 70.0713 82.5522 72.7565 Q85.7466 75.4416 85.7466 79.9323 Q85.7466 82.062 84.9365 83.9832 Q84.1494 85.8814 82.0429 88.474 Q81.4642 89.1453 78.3624 92.3628 Q75.2606 95.5573 69.6125 101.321 Z\" fill=\"#000000\" fill-rule=\"evenodd\" fill-opacity=\"1\" /><path clip-path=\"url(#clip420)\" d=\"M 0 0 M91.0475 70.6963 L109.404 70.6963 L109.404 74.6314 L95.3299 74.6314 L95.3299 83.1036 Q96.3484 82.7564 97.3669 82.5944 Q98.3855 82.4092 99.404 82.4092 Q105.191 82.4092 108.571 85.5805 Q111.95 88.7517 111.95 94.1684 Q111.95 99.747 108.478 102.849 Q105.006 105.928 98.6864 105.928 Q96.5105 105.928 94.242 105.557 Q91.9966 105.187 89.5892 104.446 L89.5892 99.747 Q91.6725 100.881 93.8947 101.437 Q96.1169 101.992 98.5938 101.992 Q102.598 101.992 104.936 99.8859 Q107.274 97.7795 107.274 94.1684 Q107.274 90.5573 104.936 88.4508 Q102.598 86.3443 98.5938 86.3443 Q96.7188 86.3443 94.8438 86.761 Q92.992 87.1777 91.0475 88.0573 L91.0475 70.6963 Z\" fill=\"#000000\" fill-rule=\"evenodd\" fill-opacity=\"1\" /><polyline clip-path=\"url(#clip422)\" style=\"stroke:#009af9; stroke-width:4; stroke-opacity:1; fill:none\" points=\"\n  198.69,1445.72 721.522,1106.28 1244.35,766.846 1767.18,427.411 2290.02,87.9763 \n  \"/>\n<path clip-path=\"url(#clip420)\" d=\"\nM1981.53 216.178 L2278.86 216.178 L2278.86 95.2176 L1981.53 95.2176  Z\n  \" fill=\"#ffffff\" fill-rule=\"evenodd\" fill-opacity=\"1\"/>\n<polyline clip-path=\"url(#clip420)\" style=\"stroke:#000000; stroke-width:4; stroke-opacity:1; fill:none\" points=\"\n  1981.53,216.178 2278.86,216.178 2278.86,95.2176 1981.53,95.2176 1981.53,216.178 \n  \"/>\n<polyline clip-path=\"url(#clip420)\" style=\"stroke:#009af9; stroke-width:4; stroke-opacity:1; fill:none\" points=\"\n  2006.16,155.698 2153.95,155.698 \n  \"/>\n<path clip-path=\"url(#clip420)\" d=\"M 0 0 M2192.42 175.385 Q2190.62 180.015 2188.91 181.427 Q2187.19 182.839 2184.32 182.839 L2180.92 182.839 L2180.92 179.274 L2183.42 179.274 Q2185.18 179.274 2186.15 178.44 Q2187.12 177.607 2188.3 174.505 L2189.07 172.561 L2178.58 147.052 L2183.1 147.052 L2191.2 167.329 L2199.3 147.052 L2203.81 147.052 L2192.42 175.385 Z\" fill=\"#000000\" fill-rule=\"evenodd\" fill-opacity=\"1\" /><path clip-path=\"url(#clip420)\" d=\"M 0 0 M2209.69 169.042 L2217.33 169.042 L2217.33 142.677 L2209.02 144.343 L2209.02 140.084 L2217.29 138.418 L2221.96 138.418 L2221.96 169.042 L2229.6 169.042 L2229.6 172.978 L2209.69 172.978 L2209.69 169.042 Z\" fill=\"#000000\" fill-rule=\"evenodd\" fill-opacity=\"1\" /></svg>\n"
               },
               "type": "node"
              }
             ],
             "instanceArgs": {
              "namespace": "html",
              "tag": "div"
             },
             "nodeType": "DOM",
             "props": {
              "className": "interact-flex-row interact-widget"
             },
             "type": "node"
            }
           }
          },
          "systemjs_options": null
         },
         "nodeType": "Scope",
         "props": {},
         "type": "node"
        }
       ],
       "instanceArgs": {
        "namespace": "html",
        "tag": "div"
       },
       "nodeType": "DOM",
       "props": {},
       "type": "node"
      },
      "text/html": [
       "<div\n",
       "    class=\"webio-mountpoint\"\n",
       "    data-webio-mountpoint=\"1901357371326479840\"\n",
       ">\n",
       "    <script>\n",
       "    if (window.require && require.defined && require.defined(\"nbextensions/webio-jupyter-notebook\")) {\n",
       "        console.log(\"Jupyter WebIO extension detected, not mounting.\");\n",
       "    } else if (window.WebIO) {\n",
       "        WebIO.mount(\n",
       "            document.querySelector('[data-webio-mountpoint=\"1901357371326479840\"]'),\n",
       "            {\"props\":{},\"nodeType\":\"DOM\",\"type\":\"node\",\"instanceArgs\":{\"namespace\":\"html\",\"tag\":\"div\"},\"children\":[{\"props\":{\"className\":\"field interact-widget\"},\"nodeType\":\"DOM\",\"type\":\"node\",\"instanceArgs\":{\"namespace\":\"html\",\"tag\":\"div\"},\"children\":[{\"props\":{},\"nodeType\":\"Scope\",\"type\":\"node\",\"instanceArgs\":{\"imports\":{\"data\":[{\"name\":\"knockout\",\"type\":\"js\",\"url\":\"\\/assetserver\\/502f59c81f524b150503efcbb53ea0d68912880c-knockout.js\"},{\"name\":\"knockout_punches\",\"type\":\"js\",\"url\":\"\\/assetserver\\/3b75067736ba00af80f1795cf8d9cd404ea498dc-knockout_punches.js\"},{\"name\":null,\"type\":\"js\",\"url\":\"\\/assetserver\\/19621caba8a253aa824e0ab99f57d38cae2539fb-all.js\"},{\"name\":null,\"type\":\"css\",\"url\":\"\\/assetserver\\/e79d71cfbb69ba4797658564855743cde12dd61c-style.css\"},{\"name\":null,\"type\":\"css\",\"url\":\"\\/assetserver\\/72e38918ae26753c70e52787a35dbf85f0b6f3e4-bulma_confined.min.css\"}],\"type\":\"async_block\"},\"id\":\"7957986870263617593\",\"handlers\":{\"changes\":[\"(function (val){return (val!=this.model[\\\"changes\\\"]()) ? (this.valueFromJulia[\\\"changes\\\"]=true, this.model[\\\"changes\\\"](val)) : undefined})\"],\"index\":[\"(function (val){return (val!=this.model[\\\"index\\\"]()) ? (this.valueFromJulia[\\\"index\\\"]=true, this.model[\\\"index\\\"](val)) : undefined})\"]},\"systemjs_options\":null,\"mount_callbacks\":[\"function () {\\n    var handler = (function (ko, koPunches) {\\n    ko.punches.enableAll();\\n    ko.bindingHandlers.numericValue = {\\n        init: function(element, valueAccessor, allBindings, data, context) {\\n            var stringified = ko.observable(ko.unwrap(valueAccessor()));\\n            stringified.subscribe(function(value) {\\n                var val = parseFloat(value);\\n                if (!isNaN(val)) {\\n                    valueAccessor()(val);\\n                }\\n            });\\n            valueAccessor().subscribe(function(value) {\\n                var str = JSON.stringify(value);\\n                if ((str == \\\"0\\\") && ([\\\"-0\\\", \\\"-0.\\\"].indexOf(stringified()) >= 0))\\n                     return;\\n                 if ([\\\"null\\\", \\\"\\\"].indexOf(str) >= 0)\\n                     return;\\n                stringified(str);\\n            });\\n            ko.applyBindingsToNode(\\n                element,\\n                {\\n                    value: stringified,\\n                    valueUpdate: allBindings.get('valueUpdate'),\\n                },\\n                context,\\n            );\\n        }\\n    };\\n    var json_data = {\\\"formatted_vals\\\":[\\\"1\\\",\\\"2\\\",\\\"3\\\",\\\"4\\\",\\\"5\\\",\\\"6\\\",\\\"7\\\",\\\"8\\\",\\\"9\\\",\\\"10\\\"],\\\"changes\\\":WebIO.getval({\\\"name\\\":\\\"changes\\\",\\\"scope\\\":\\\"7957986870263617593\\\",\\\"id\\\":\\\"11874879074092600994\\\",\\\"type\\\":\\\"observable\\\"}),\\\"index\\\":WebIO.getval({\\\"name\\\":\\\"index\\\",\\\"scope\\\":\\\"7957986870263617593\\\",\\\"id\\\":\\\"10630003369218207635\\\",\\\"type\\\":\\\"observable\\\"})};\\n    var self = this;\\n    function AppViewModel() {\\n        for (var key in json_data) {\\n            var el = json_data[key];\\n            this[key] = Array.isArray(el) ? ko.observableArray(el) : ko.observable(el);\\n        }\\n        \\n        [this[\\\"formatted_val\\\"]=ko.computed(    function(){\\n        return this.formatted_vals()[parseInt(this.index())-(1)];\\n    }\\n,this)]\\n        [this[\\\"changes\\\"].subscribe((function (val){!(this.valueFromJulia[\\\"changes\\\"]) ? (WebIO.setval({\\\"name\\\":\\\"changes\\\",\\\"scope\\\":\\\"7957986870263617593\\\",\\\"id\\\":\\\"11874879074092600994\\\",\\\"type\\\":\\\"observable\\\"},val)) : undefined; return this.valueFromJulia[\\\"changes\\\"]=false}),self),this[\\\"index\\\"].subscribe((function (val){!(this.valueFromJulia[\\\"index\\\"]) ? (WebIO.setval({\\\"name\\\":\\\"index\\\",\\\"scope\\\":\\\"7957986870263617593\\\",\\\"id\\\":\\\"10630003369218207635\\\",\\\"type\\\":\\\"observable\\\"},val)) : undefined; return this.valueFromJulia[\\\"index\\\"]=false}),self)]\\n        \\n    }\\n    self.model = new AppViewModel();\\n    self.valueFromJulia = {};\\n    for (var key in json_data) {\\n        self.valueFromJulia[key] = false;\\n    }\\n    ko.applyBindings(self.model, self.dom);\\n}\\n);\\n    (WebIO.importBlock({\\\"data\\\":[{\\\"name\\\":\\\"knockout\\\",\\\"type\\\":\\\"js\\\",\\\"url\\\":\\\"\\/assetserver\\/502f59c81f524b150503efcbb53ea0d68912880c-knockout.js\\\"},{\\\"name\\\":\\\"knockout_punches\\\",\\\"type\\\":\\\"js\\\",\\\"url\\\":\\\"\\/assetserver\\/3b75067736ba00af80f1795cf8d9cd404ea498dc-knockout_punches.js\\\"}],\\\"type\\\":\\\"async_block\\\"})).then((imports) => handler.apply(this, imports));\\n}\\n\"],\"observables\":{\"changes\":{\"sync\":false,\"id\":\"11874879074092600994\",\"value\":0},\"index\":{\"sync\":true,\"id\":\"10630003369218207635\",\"value\":5}}},\"children\":[{\"props\":{\"className\":\"interact-flex-row interact-widget\"},\"nodeType\":\"DOM\",\"type\":\"node\",\"instanceArgs\":{\"namespace\":\"html\",\"tag\":\"div\"},\"children\":[{\"props\":{\"className\":\"interact-flex-row-left\"},\"nodeType\":\"DOM\",\"type\":\"node\",\"instanceArgs\":{\"namespace\":\"html\",\"tag\":\"div\"},\"children\":[{\"props\":{\"className\":\"interact \",\"style\":{\"padding\":\"5px 10px 0px 10px\"}},\"nodeType\":\"DOM\",\"type\":\"node\",\"instanceArgs\":{\"namespace\":\"html\",\"tag\":\"label\"},\"children\":[\"k\"]}]},{\"props\":{\"className\":\"interact-flex-row-center\"},\"nodeType\":\"DOM\",\"type\":\"node\",\"instanceArgs\":{\"namespace\":\"html\",\"tag\":\"div\"},\"children\":[{\"props\":{\"max\":10,\"min\":1,\"attributes\":{\"type\":\"range\",\"data-bind\":\"numericValue: index, valueUpdate: 'input', event: {change: function (){this.changes(this.changes()+1)}}\",\"orient\":\"horizontal\"},\"step\":1,\"className\":\"slider slider is-fullwidth\",\"style\":{}},\"nodeType\":\"DOM\",\"type\":\"node\",\"instanceArgs\":{\"namespace\":\"html\",\"tag\":\"input\"},\"children\":[]}]},{\"props\":{\"className\":\"interact-flex-row-right\"},\"nodeType\":\"DOM\",\"type\":\"node\",\"instanceArgs\":{\"namespace\":\"html\",\"tag\":\"div\"},\"children\":[{\"props\":{\"attributes\":{\"data-bind\":\"text: formatted_val\"}},\"nodeType\":\"DOM\",\"type\":\"node\",\"instanceArgs\":{\"namespace\":\"html\",\"tag\":\"p\"},\"children\":[]}]}]}]}]},{\"props\":{},\"nodeType\":\"Scope\",\"type\":\"node\",\"instanceArgs\":{\"imports\":{\"data\":[],\"type\":\"async_block\"},\"id\":\"8118428372441113623\",\"handlers\":{},\"systemjs_options\":null,\"mount_callbacks\":[],\"observables\":{\"obs-node\":{\"sync\":false,\"id\":\"10689634560143715691\",\"value\":{\"props\":{\"className\":\"interact-flex-row interact-widget\"},\"nodeType\":\"DOM\",\"type\":\"node\",\"instanceArgs\":{\"namespace\":\"html\",\"tag\":\"div\"},\"children\":[{\"props\":{\"setInnerHtml\":\"<?xml version=\\\"1.0\\\" encoding=\\\"utf-8\\\"?>\\n<svg xmlns=\\\"http:\\/\\/www.w3.org\\/2000\\/svg\\\" xmlns:xlink=\\\"http:\\/\\/www.w3.org\\/1999\\/xlink\\\" width=\\\"600\\\" height=\\\"400\\\" viewBox=\\\"0 0 2400 1600\\\">\\n<defs>\\n  <clipPath id=\\\"clip380\\\">\\n    <rect x=\\\"0\\\" y=\\\"0\\\" width=\\\"2400\\\" height=\\\"1600\\\"\\/>\\n  <\\/clipPath>\\n<\\/defs>\\n<path clip-path=\\\"url(#clip380)\\\" d=\\\"\\nM0 1600 L2400 1600 L2400 0 L0 0  Z\\n  \\\" fill=\\\"#ffffff\\\" fill-rule=\\\"evenodd\\\" fill-opacity=\\\"1\\\"\\/>\\n<defs>\\n  <clipPath id=\\\"clip381\\\">\\n    <rect x=\\\"480\\\" y=\\\"0\\\" width=\\\"1681\\\" height=\\\"1600\\\"\\/>\\n  <\\/clipPath>\\n<\\/defs>\\n<path clip-path=\\\"url(#clip380)\\\" d=\\\"\\nM135.95 1486.45 L2352.76 1486.45 L2352.76 47.2441 L135.95 47.2441  Z\\n  \\\" fill=\\\"#ffffff\\\" fill-rule=\\\"evenodd\\\" fill-opacity=\\\"1\\\"\\/>\\n<defs>\\n  <clipPath id=\\\"clip382\\\">\\n    <rect x=\\\"135\\\" y=\\\"47\\\" width=\\\"2218\\\" height=\\\"1440\\\"\\/>\\n  <\\/clipPath>\\n<\\/defs>\\n<polyline clip-path=\\\"url(#clip382)\\\" style=\\\"stroke:#000000; stroke-width:2; stroke-opacity:0.1; fill:none\\\" points=\\\"\\n  198.69,1486.45 198.69,47.2441 \\n  \\\"\\/>\\n<polyline clip-path=\\\"url(#clip382)\\\" style=\\\"stroke:#000000; stroke-width:2; stroke-opacity:0.1; fill:none\\\" points=\\\"\\n  721.522,1486.45 721.522,47.2441 \\n  \\\"\\/>\\n<polyline clip-path=\\\"url(#clip382)\\\" style=\\\"stroke:#000000; stroke-width:2; stroke-opacity:0.1; fill:none\\\" points=\\\"\\n  1244.35,1486.45 1244.35,47.2441 \\n  \\\"\\/>\\n<polyline clip-path=\\\"url(#clip382)\\\" style=\\\"stroke:#000000; stroke-width:2; stroke-opacity:0.1; fill:none\\\" points=\\\"\\n  1767.18,1486.45 1767.18,47.2441 \\n  \\\"\\/>\\n<polyline clip-path=\\\"url(#clip382)\\\" style=\\\"stroke:#000000; stroke-width:2; stroke-opacity:0.1; fill:none\\\" points=\\\"\\n  2290.02,1486.45 2290.02,47.2441 \\n  \\\"\\/>\\n<polyline clip-path=\\\"url(#clip382)\\\" style=\\\"stroke:#000000; stroke-width:2; stroke-opacity:0.1; fill:none\\\" points=\\\"\\n  135.95,1445.72 2352.76,1445.72 \\n  \\\"\\/>\\n<polyline clip-path=\\\"url(#clip382)\\\" style=\\\"stroke:#000000; stroke-width:2; stroke-opacity:0.1; fill:none\\\" points=\\\"\\n  135.95,1106.28 2352.76,1106.28 \\n  \\\"\\/>\\n<polyline clip-path=\\\"url(#clip382)\\\" style=\\\"stroke:#000000; stroke-width:2; stroke-opacity:0.1; fill:none\\\" points=\\\"\\n  135.95,766.846 2352.76,766.846 \\n  \\\"\\/>\\n<polyline clip-path=\\\"url(#clip382)\\\" style=\\\"stroke:#000000; stroke-width:2; stroke-opacity:0.1; fill:none\\\" points=\\\"\\n  135.95,427.411 2352.76,427.411 \\n  \\\"\\/>\\n<polyline clip-path=\\\"url(#clip382)\\\" style=\\\"stroke:#000000; stroke-width:2; stroke-opacity:0.1; fill:none\\\" points=\\\"\\n  135.95,87.9763 2352.76,87.9763 \\n  \\\"\\/>\\n<polyline clip-path=\\\"url(#clip380)\\\" style=\\\"stroke:#000000; stroke-width:4; stroke-opacity:1; fill:none\\\" points=\\\"\\n  135.95,1486.45 2352.76,1486.45 \\n  \\\"\\/>\\n<polyline clip-path=\\\"url(#clip380)\\\" style=\\\"stroke:#000000; stroke-width:4; stroke-opacity:1; fill:none\\\" points=\\\"\\n  135.95,1486.45 135.95,47.2441 \\n  \\\"\\/>\\n<polyline clip-path=\\\"url(#clip380)\\\" style=\\\"stroke:#000000; stroke-width:4; stroke-opacity:1; fill:none\\\" points=\\\"\\n  198.69,1486.45 198.69,1469.18 \\n  \\\"\\/>\\n<polyline clip-path=\\\"url(#clip380)\\\" style=\\\"stroke:#000000; stroke-width:4; stroke-opacity:1; fill:none\\\" points=\\\"\\n  721.522,1486.45 721.522,1469.18 \\n  \\\"\\/>\\n<polyline clip-path=\\\"url(#clip380)\\\" style=\\\"stroke:#000000; stroke-width:4; stroke-opacity:1; fill:none\\\" points=\\\"\\n  1244.35,1486.45 1244.35,1469.18 \\n  \\\"\\/>\\n<polyline clip-path=\\\"url(#clip380)\\\" style=\\\"stroke:#000000; stroke-width:4; stroke-opacity:1; fill:none\\\" points=\\\"\\n  1767.18,1486.45 1767.18,1469.18 \\n  \\\"\\/>\\n<polyline clip-path=\\\"url(#clip380)\\\" style=\\\"stroke:#000000; stroke-width:4; stroke-opacity:1; fill:none\\\" points=\\\"\\n  2290.02,1486.45 2290.02,1469.18 \\n  \\\"\\/>\\n<polyline clip-path=\\\"url(#clip380)\\\" style=\\\"stroke:#000000; stroke-width:4; stroke-opacity:1; fill:none\\\" points=\\\"\\n  135.95,1445.72 162.552,1445.72 \\n  \\\"\\/>\\n<polyline clip-path=\\\"url(#clip380)\\\" style=\\\"stroke:#000000; stroke-width:4; stroke-opacity:1; fill:none\\\" points=\\\"\\n  135.95,1106.28 162.552,1106.28 \\n  \\\"\\/>\\n<polyline clip-path=\\\"url(#clip380)\\\" style=\\\"stroke:#000000; stroke-width:4; stroke-opacity:1; fill:none\\\" points=\\\"\\n  135.95,766.846 162.552,766.846 \\n  \\\"\\/>\\n<polyline clip-path=\\\"url(#clip380)\\\" style=\\\"stroke:#000000; stroke-width:4; stroke-opacity:1; fill:none\\\" points=\\\"\\n  135.95,427.411 162.552,427.411 \\n  \\\"\\/>\\n<polyline clip-path=\\\"url(#clip380)\\\" style=\\\"stroke:#000000; stroke-width:4; stroke-opacity:1; fill:none\\\" points=\\\"\\n  135.95,87.9763 162.552,87.9763 \\n  \\\"\\/>\\n<path clip-path=\\\"url(#clip380)\\\" d=\\\"M 0 0 M189.072 1535.98 L196.711 1535.98 L196.711 1509.62 L188.401 1511.29 L188.401 1507.03 L196.665 1505.36 L201.34 1505.36 L201.34 1535.98 L208.979 1535.98 L208.979 1539.92 L189.072 1539.92 L189.072 1535.98 Z\\\" fill=\\\"#000000\\\" fill-rule=\\\"evenodd\\\" fill-opacity=\\\"1\\\" \\/><path clip-path=\\\"url(#clip380)\\\" d=\\\"M 0 0 M716.174 1535.98 L732.494 1535.98 L732.494 1539.92 L710.549 1539.92 L710.549 1535.98 Q713.211 1533.23 717.795 1528.6 Q722.401 1523.95 723.582 1522.61 Q725.827 1520.08 726.707 1518.35 Q727.609 1516.59 727.609 1514.9 Q727.609 1512.14 725.665 1510.41 Q723.744 1508.67 720.642 1508.67 Q718.443 1508.67 715.989 1509.43 Q713.559 1510.2 710.781 1511.75 L710.781 1507.03 Q713.605 1505.89 716.059 1505.31 Q718.512 1504.73 720.549 1504.73 Q725.92 1504.73 729.114 1507.42 Q732.308 1510.11 732.308 1514.6 Q732.308 1516.73 731.498 1518.65 Q730.711 1520.54 728.605 1523.14 Q728.026 1523.81 724.924 1527.03 Q721.822 1530.22 716.174 1535.98 Z\\\" fill=\\\"#000000\\\" fill-rule=\\\"evenodd\\\" fill-opacity=\\\"1\\\" \\/><path clip-path=\\\"url(#clip380)\\\" d=\\\"M 0 0 M1248.6 1521.29 Q1251.96 1522 1253.83 1524.27 Q1255.73 1526.54 1255.73 1529.87 Q1255.73 1534.99 1252.21 1537.79 Q1248.69 1540.59 1242.21 1540.59 Q1240.04 1540.59 1237.72 1540.15 Q1235.43 1539.73 1232.98 1538.88 L1232.98 1534.36 Q1234.92 1535.5 1237.24 1536.08 Q1239.55 1536.66 1242.07 1536.66 Q1246.47 1536.66 1248.76 1534.92 Q1251.08 1533.18 1251.08 1529.87 Q1251.08 1526.82 1248.92 1525.11 Q1246.8 1523.37 1242.98 1523.37 L1238.95 1523.37 L1238.95 1519.53 L1243.16 1519.53 Q1246.61 1519.53 1248.44 1518.16 Q1250.27 1516.77 1250.27 1514.18 Q1250.27 1511.52 1248.37 1510.11 Q1246.49 1508.67 1242.98 1508.67 Q1241.05 1508.67 1238.86 1509.09 Q1236.66 1509.5 1234.02 1510.38 L1234.02 1506.22 Q1236.68 1505.48 1238.99 1505.11 Q1241.33 1504.73 1243.39 1504.73 Q1248.72 1504.73 1251.82 1507.17 Q1254.92 1509.57 1254.92 1513.69 Q1254.92 1516.56 1253.28 1518.55 Q1251.63 1520.52 1248.6 1521.29 Z\\\" fill=\\\"#000000\\\" fill-rule=\\\"evenodd\\\" fill-opacity=\\\"1\\\" \\/><path clip-path=\\\"url(#clip380)\\\" d=\\\"M 0 0 M1770.19 1509.43 L1758.39 1527.88 L1770.19 1527.88 L1770.19 1509.43 M1768.97 1505.36 L1774.85 1505.36 L1774.85 1527.88 L1779.78 1527.88 L1779.78 1531.77 L1774.85 1531.77 L1774.85 1539.92 L1770.19 1539.92 L1770.19 1531.77 L1754.59 1531.77 L1754.59 1527.26 L1768.97 1505.36 Z\\\" fill=\\\"#000000\\\" fill-rule=\\\"evenodd\\\" fill-opacity=\\\"1\\\" \\/><path clip-path=\\\"url(#clip380)\\\" d=\\\"M 0 0 M2280.29 1505.36 L2298.65 1505.36 L2298.65 1509.3 L2284.58 1509.3 L2284.58 1517.77 Q2285.59 1517.42 2286.61 1517.26 Q2287.63 1517.07 2288.65 1517.07 Q2294.44 1517.07 2297.82 1520.24 Q2301.2 1523.42 2301.2 1528.83 Q2301.2 1534.41 2297.72 1537.51 Q2294.25 1540.59 2287.93 1540.59 Q2285.76 1540.59 2283.49 1540.22 Q2281.24 1539.85 2278.84 1539.11 L2278.84 1534.41 Q2280.92 1535.54 2283.14 1536.1 Q2285.36 1536.66 2287.84 1536.66 Q2291.84 1536.66 2294.18 1534.55 Q2296.52 1532.44 2296.52 1528.83 Q2296.52 1525.22 2294.18 1523.11 Q2291.84 1521.01 2287.84 1521.01 Q2285.97 1521.01 2284.09 1521.42 Q2282.24 1521.84 2280.29 1522.72 L2280.29 1505.36 Z\\\" fill=\\\"#000000\\\" fill-rule=\\\"evenodd\\\" fill-opacity=\\\"1\\\" \\/><path clip-path=\\\"url(#clip380)\\\" d=\\\"M 0 0 M91.0475 1428.44 L109.404 1428.44 L109.404 1432.37 L95.3299 1432.37 L95.3299 1440.84 Q96.3484 1440.5 97.3669 1440.33 Q98.3855 1440.15 99.404 1440.15 Q105.191 1440.15 108.571 1443.32 Q111.95 1446.49 111.95 1451.91 Q111.95 1457.49 108.478 1460.59 Q105.006 1463.67 98.6864 1463.67 Q96.5105 1463.67 94.242 1463.3 Q91.9966 1462.93 89.5892 1462.19 L89.5892 1457.49 Q91.6725 1458.62 93.8947 1459.18 Q96.1169 1459.73 98.5938 1459.73 Q102.598 1459.73 104.936 1457.63 Q107.274 1455.52 107.274 1451.91 Q107.274 1448.3 104.936 1446.19 Q102.598 1444.08 98.5938 1444.08 Q96.7188 1444.08 94.8438 1444.5 Q92.992 1444.92 91.0475 1445.8 L91.0475 1428.44 Z\\\" fill=\\\"#000000\\\" fill-rule=\\\"evenodd\\\" fill-opacity=\\\"1\\\" \\/><path clip-path=\\\"url(#clip380)\\\" d=\\\"M 0 0 M65.0292 1119.63 L72.668 1119.63 L72.668 1093.26 L64.3579 1094.93 L64.3579 1090.67 L72.6217 1089 L77.2976 1089 L77.2976 1119.63 L84.9365 1119.63 L84.9365 1123.56 L65.0292 1123.56 L65.0292 1119.63 Z\\\" fill=\\\"#000000\\\" fill-rule=\\\"evenodd\\\" fill-opacity=\\\"1\\\" \\/><path clip-path=\\\"url(#clip380)\\\" d=\\\"M 0 0 M100.006 1092.08 Q96.3947 1092.08 94.566 1095.64 Q92.7605 1099.19 92.7605 1106.32 Q92.7605 1113.42 94.566 1116.99 Q96.3947 1120.53 100.006 1120.53 Q103.64 1120.53 105.446 1116.99 Q107.274 1113.42 107.274 1106.32 Q107.274 1099.19 105.446 1095.64 Q103.64 1092.08 100.006 1092.08 M100.006 1088.38 Q105.816 1088.38 108.872 1092.98 Q111.95 1097.57 111.95 1106.32 Q111.95 1115.04 108.872 1119.65 Q105.816 1124.23 100.006 1124.23 Q94.1957 1124.23 91.117 1119.65 Q88.0614 1115.04 88.0614 1106.32 Q88.0614 1097.57 91.117 1092.98 Q94.1957 1088.38 100.006 1088.38 Z\\\" fill=\\\"#000000\\\" fill-rule=\\\"evenodd\\\" fill-opacity=\\\"1\\\" \\/><path clip-path=\\\"url(#clip380)\\\" d=\\\"M 0 0 M66.0245 780.191 L73.6634 780.191 L73.6634 753.825 L65.3532 755.492 L65.3532 751.233 L73.6171 749.566 L78.293 749.566 L78.293 780.191 L85.9318 780.191 L85.9318 784.126 L66.0245 784.126 L66.0245 780.191 Z\\\" fill=\\\"#000000\\\" fill-rule=\\\"evenodd\\\" fill-opacity=\\\"1\\\" \\/><path clip-path=\\\"url(#clip380)\\\" d=\\\"M 0 0 M91.0475 749.566 L109.404 749.566 L109.404 753.501 L95.3299 753.501 L95.3299 761.973 Q96.3484 761.626 97.3669 761.464 Q98.3855 761.279 99.404 761.279 Q105.191 761.279 108.571 764.45 Q111.95 767.621 111.95 773.038 Q111.95 778.617 108.478 781.719 Q105.006 784.797 98.6864 784.797 Q96.5105 784.797 94.242 784.427 Q91.9966 784.057 89.5892 783.316 L89.5892 778.617 Q91.6725 779.751 93.8947 780.307 Q96.1169 780.862 98.5938 780.862 Q102.598 780.862 104.936 778.756 Q107.274 776.649 107.274 773.038 Q107.274 769.427 104.936 767.321 Q102.598 765.214 98.5938 765.214 Q96.7188 765.214 94.8438 765.631 Q92.992 766.047 91.0475 766.927 L91.0475 749.566 Z\\\" fill=\\\"#000000\\\" fill-rule=\\\"evenodd\\\" fill-opacity=\\\"1\\\" \\/><path clip-path=\\\"url(#clip380)\\\" d=\\\"M 0 0 M68.6171 440.756 L84.9365 440.756 L84.9365 444.691 L62.9921 444.691 L62.9921 440.756 Q65.6541 438.001 70.2375 433.372 Q74.8439 428.719 76.0245 427.376 Q78.2698 424.853 79.1494 423.117 Q80.0522 421.358 80.0522 419.668 Q80.0522 416.914 78.1078 415.177 Q76.1865 413.441 73.0847 413.441 Q70.8856 413.441 68.4319 414.205 Q66.0014 414.969 63.2236 416.52 L63.2236 411.798 Q66.0477 410.664 68.5014 410.085 Q70.955 409.506 72.9921 409.506 Q78.3624 409.506 81.5568 412.191 Q84.7513 414.876 84.7513 419.367 Q84.7513 421.497 83.9411 423.418 Q83.1541 425.316 81.0476 427.909 Q80.4689 428.58 77.367 431.798 Q74.2652 434.992 68.6171 440.756 Z\\\" fill=\\\"#000000\\\" fill-rule=\\\"evenodd\\\" fill-opacity=\\\"1\\\" \\/><path clip-path=\\\"url(#clip380)\\\" d=\\\"M 0 0 M100.006 413.21 Q96.3947 413.21 94.566 416.775 Q92.7605 420.316 92.7605 427.446 Q92.7605 434.552 94.566 438.117 Q96.3947 441.659 100.006 441.659 Q103.64 441.659 105.446 438.117 Q107.274 434.552 107.274 427.446 Q107.274 420.316 105.446 416.775 Q103.64 413.21 100.006 413.21 M100.006 409.506 Q105.816 409.506 108.872 414.113 Q111.95 418.696 111.95 427.446 Q111.95 436.173 108.872 440.779 Q105.816 445.362 100.006 445.362 Q94.1957 445.362 91.117 440.779 Q88.0614 436.173 88.0614 427.446 Q88.0614 418.696 91.117 414.113 Q94.1957 409.506 100.006 409.506 Z\\\" fill=\\\"#000000\\\" fill-rule=\\\"evenodd\\\" fill-opacity=\\\"1\\\" \\/><path clip-path=\\\"url(#clip380)\\\" d=\\\"M 0 0 M69.6125 101.321 L85.9318 101.321 L85.9318 105.256 L63.9875 105.256 L63.9875 101.321 Q66.6495 98.5665 71.2328 93.9369 Q75.8393 89.2841 77.0198 87.9416 Q79.2652 85.4184 80.1448 83.6823 Q81.0476 81.9231 81.0476 80.2333 Q81.0476 77.4786 79.1032 75.7425 Q77.1819 74.0064 74.08 74.0064 Q71.881 74.0064 69.4273 74.7703 Q66.9967 75.5342 64.219 77.0851 L64.219 72.3629 Q67.043 71.2287 69.4967 70.65 Q71.9504 70.0713 73.9874 70.0713 Q79.3578 70.0713 82.5522 72.7565 Q85.7466 75.4416 85.7466 79.9323 Q85.7466 82.062 84.9365 83.9832 Q84.1494 85.8814 82.0429 88.474 Q81.4642 89.1453 78.3624 92.3628 Q75.2606 95.5573 69.6125 101.321 Z\\\" fill=\\\"#000000\\\" fill-rule=\\\"evenodd\\\" fill-opacity=\\\"1\\\" \\/><path clip-path=\\\"url(#clip380)\\\" d=\\\"M 0 0 M91.0475 70.6963 L109.404 70.6963 L109.404 74.6314 L95.3299 74.6314 L95.3299 83.1036 Q96.3484 82.7564 97.3669 82.5944 Q98.3855 82.4092 99.404 82.4092 Q105.191 82.4092 108.571 85.5805 Q111.95 88.7517 111.95 94.1684 Q111.95 99.747 108.478 102.849 Q105.006 105.928 98.6864 105.928 Q96.5105 105.928 94.242 105.557 Q91.9966 105.187 89.5892 104.446 L89.5892 99.747 Q91.6725 100.881 93.8947 101.437 Q96.1169 101.992 98.5938 101.992 Q102.598 101.992 104.936 99.8859 Q107.274 97.7795 107.274 94.1684 Q107.274 90.5573 104.936 88.4508 Q102.598 86.3443 98.5938 86.3443 Q96.7188 86.3443 94.8438 86.761 Q92.992 87.1777 91.0475 88.0573 L91.0475 70.6963 Z\\\" fill=\\\"#000000\\\" fill-rule=\\\"evenodd\\\" fill-opacity=\\\"1\\\" \\/><polyline clip-path=\\\"url(#clip382)\\\" style=\\\"stroke:#009af9; stroke-width:4; stroke-opacity:1; fill:none\\\" points=\\\"\\n  198.69,1445.72 721.522,1106.28 1244.35,766.846 1767.18,427.411 2290.02,87.9763 \\n  \\\"\\/>\\n<path clip-path=\\\"url(#clip380)\\\" d=\\\"\\nM1981.53 216.178 L2278.86 216.178 L2278.86 95.2176 L1981.53 95.2176  Z\\n  \\\" fill=\\\"#ffffff\\\" fill-rule=\\\"evenodd\\\" fill-opacity=\\\"1\\\"\\/>\\n<polyline clip-path=\\\"url(#clip380)\\\" style=\\\"stroke:#000000; stroke-width:4; stroke-opacity:1; fill:none\\\" points=\\\"\\n  1981.53,216.178 2278.86,216.178 2278.86,95.2176 1981.53,95.2176 1981.53,216.178 \\n  \\\"\\/>\\n<polyline clip-path=\\\"url(#clip380)\\\" style=\\\"stroke:#009af9; stroke-width:4; stroke-opacity:1; fill:none\\\" points=\\\"\\n  2006.16,155.698 2153.95,155.698 \\n  \\\"\\/>\\n<path clip-path=\\\"url(#clip380)\\\" d=\\\"M 0 0 M2192.42 175.385 Q2190.62 180.015 2188.91 181.427 Q2187.19 182.839 2184.32 182.839 L2180.92 182.839 L2180.92 179.274 L2183.42 179.274 Q2185.18 179.274 2186.15 178.44 Q2187.12 177.607 2188.3 174.505 L2189.07 172.561 L2178.58 147.052 L2183.1 147.052 L2191.2 167.329 L2199.3 147.052 L2203.81 147.052 L2192.42 175.385 Z\\\" fill=\\\"#000000\\\" fill-rule=\\\"evenodd\\\" fill-opacity=\\\"1\\\" \\/><path clip-path=\\\"url(#clip380)\\\" d=\\\"M 0 0 M2209.69 169.042 L2217.33 169.042 L2217.33 142.677 L2209.02 144.343 L2209.02 140.084 L2217.29 138.418 L2221.96 138.418 L2221.96 169.042 L2229.6 169.042 L2229.6 172.978 L2209.69 172.978 L2209.69 169.042 Z\\\" fill=\\\"#000000\\\" fill-rule=\\\"evenodd\\\" fill-opacity=\\\"1\\\" \\/><\\/svg>\\n\"},\"nodeType\":\"DOM\",\"type\":\"node\",\"instanceArgs\":{\"namespace\":\"html\",\"tag\":\"div\"},\"children\":[]}]}}}},\"children\":[{\"props\":{},\"nodeType\":\"ObservableNode\",\"type\":\"node\",\"instanceArgs\":{\"id\":\"10689634560143715691\",\"name\":\"obs-node\"},\"children\":[]}]}]},\n",
       "            window,\n",
       "        );\n",
       "    } else {\n",
       "        document\n",
       "            .querySelector('[data-webio-mountpoint=\"1901357371326479840\"]')\n",
       "            .innerHTML = (\n",
       "                '<div style=\"padding: 1em; background-color: #f8d6da; border: 1px solid #f5c6cb\">' +\n",
       "                '<p><strong>WebIO not detected.</strong></p>' +\n",
       "                '<p>Please read ' +\n",
       "                '<a href=\"https://juliagizmos.github.io/WebIO.jl/latest/troubleshooting/not-detected/\" target=\"_blank\">the troubleshooting guide</a> ' +\n",
       "                'for more information on how to resolve this issue.</p>' +\n",
       "                '<p><a href=\"https://juliagizmos.github.io/WebIO.jl/latest/troubleshooting/not-detected/\" target=\"_blank\">https://juliagizmos.github.io/WebIO.jl/latest/troubleshooting/not-detected/</a></p>' +\n",
       "                '</div>'\n",
       "            );\n",
       "    }\n",
       "    </script>\n",
       "</div>\n"
      ],
      "text/plain": [
       "Node{WebIO.DOM}(WebIO.DOM(:html, :div), Any[Node{WebIO.DOM}(WebIO.DOM(:html, :div), Any[Scope(Node{WebIO.DOM}(WebIO.DOM(:html, :div), Any[Node{WebIO.DOM}(WebIO.DOM(:html, :div), Any[Node{WebIO.DOM}(WebIO.DOM(:html, :label), Any[\"k\"], Dict{Symbol,Any}(:className => \"interact \",:style => Dict{Any,Any}(:padding => \"5px 10px 0px 10px\")))], Dict{Symbol,Any}(:className => \"interact-flex-row-left\")), Node{WebIO.DOM}(WebIO.DOM(:html, :div), Any[Node{WebIO.DOM}(WebIO.DOM(:html, :input), Any[], Dict{Symbol,Any}(:max => 10,:min => 1,:attributes => Dict{Any,Any}(:type => \"range\",Symbol(\"data-bind\") => \"numericValue: index, valueUpdate: 'input', event: {change: function (){this.changes(this.changes()+1)}}\",\"orient\" => \"horizontal\"),:step => 1,:className => \"slider slider is-fullwidth\",:style => Dict{Any,Any}()))], Dict{Symbol,Any}(:className => \"interact-flex-row-center\")), Node{WebIO.DOM}(WebIO.DOM(:html, :div), Any[Node{WebIO.DOM}(WebIO.DOM(:html, :p), Any[], Dict{Symbol,Any}(:attributes => Dict(\"data-bind\" => \"text: formatted_val\")))], Dict{Symbol,Any}(:className => \"interact-flex-row-right\"))], Dict{Symbol,Any}(:className => \"interact-flex-row interact-widget\")), Dict{String,Tuple{Observables.AbstractObservable,Union{Nothing, Bool}}}(\"changes\" => (Observable{Int64} with 1 listeners. Value:\n",
       "0, nothing),\"index\" => (Observable{Int64} with 2 listeners. Value:\n",
       "5, nothing)), Set{String}(), nothing, Asset[Asset(\"js\", \"knockout\", \"/Users/sheehanolver/.julia/packages/Knockout/IP1uR/src/../assets/knockout.js\"), Asset(\"js\", \"knockout_punches\", \"/Users/sheehanolver/.julia/packages/Knockout/IP1uR/src/../assets/knockout_punches.js\"), Asset(\"js\", nothing, \"/Users/sheehanolver/.julia/packages/InteractBase/sOe2Z/src/../assets/all.js\"), Asset(\"css\", nothing, \"/Users/sheehanolver/.julia/packages/InteractBase/sOe2Z/src/../assets/style.css\"), Asset(\"css\", nothing, \"/Users/sheehanolver/.julia/packages/Interact/SbgIk/src/../assets/bulma_confined.min.css\")], Dict{Any,Any}(\"changes\" => Any[WebIO.JSString(\"(function (val){return (val!=this.model[\\\"changes\\\"]()) ? (this.valueFromJulia[\\\"changes\\\"]=true, this.model[\\\"changes\\\"](val)) : undefined})\")],\"index\" => Any[WebIO.JSString(\"(function (val){return (val!=this.model[\\\"index\\\"]()) ? (this.valueFromJulia[\\\"index\\\"]=true, this.model[\\\"index\\\"](val)) : undefined})\")]), WebIO.ConnectionPool(Channel{Any}(sz_max:32,sz_curr:0), Set{AbstractConnection}(), Base.GenericCondition{Base.AlwaysLockedST}(Base.InvasiveLinkedList{Task}(Task (runnable) @0x0000000122b1cfd0, Task (runnable) @0x0000000122b1cfd0), Base.AlwaysLockedST(1))), WebIO.JSString[WebIO.JSString(\"function () {\\n    var handler = (function (ko, koPunches) {\\n    ko.punches.enableAll();\\n    ko.bindingHandlers.numericValue = {\\n        init: function(element, valueAccessor, allBindings, data, context) {\\n            var stringified = ko.observable(ko.unwrap(valueAccessor()));\\n            stringified.subscribe(function(value) {\\n                var val = parseFloat(value);\\n                if (!isNaN(val)) {\\n                    valueAccessor()(val);\\n                }\\n            });\\n            valueAccessor().subscribe(function(value) {\\n                var str = JSON.stringify(value);\\n                if ((str == \\\"0\\\") && ([\\\"-0\\\", \\\"-0.\\\"].indexOf(stringified()) >= 0))\\n                     return;\\n                 if ([\\\"null\\\", \\\"\\\"].indexOf(str) >= 0)\\n                     return;\\n                stringified(str);\\n            });\\n            ko.applyBindingsToNode(\\n                element,\\n                {\\n                    value: stringified,\\n                    valueUpdate: allBindings.get('valueUpdate'),\\n                },\\n                context,\\n            );\\n        }\\n    };\\n    var json_data = {\\\"formatted_vals\\\":[\\\"1\\\",\\\"2\\\",\\\"3\\\",\\\"4\\\",\\\"5\\\",\\\"6\\\",\\\"7\\\",\\\"8\\\",\\\"9\\\",\\\"10\\\"],\\\"changes\\\":WebIO.getval({\\\"name\\\":\\\"changes\\\",\\\"scope\\\":\\\"7957986870263617593\\\",\\\"id\\\":\\\"11874879074092600994\\\",\\\"type\\\":\\\"observable\\\"}),\\\"index\\\":WebIO.getval({\\\"name\\\":\\\"index\\\",\\\"scope\\\":\\\"7957986870263617593\\\",\\\"id\\\":\\\"10630003369218207635\\\",\\\"type\\\":\\\"observable\\\"})};\\n    var self = this;\\n    function AppViewModel() {\\n        for (var key in json_data) {\\n            var el = json_data[key];\\n            this[key] = Array.isArray(el) ? ko.observableArray(el) : ko.observable(el);\\n        }\\n        \\n        [this[\\\"formatted_val\\\"]=ko.computed(    function(){\\n        return this.formatted_vals()[parseInt(this.index())-(1)];\\n    }\\n,this)]\\n        [this[\\\"changes\\\"].subscribe((function (val){!(this.valueFromJulia[\\\"changes\\\"]) ? (WebIO.setval({\\\"name\\\":\\\"changes\\\",\\\"scope\\\":\\\"7957986870263617593\\\",\\\"id\\\":\\\"11874879074092600994\\\",\\\"type\\\":\\\"observable\\\"},val)) : undefined; return this.valueFromJulia[\\\"changes\\\"]=false}),self),this[\\\"index\\\"].subscribe((function (val){!(this.valueFromJulia[\\\"index\\\"]) ? (WebIO.setval({\\\"name\\\":\\\"index\\\",\\\"scope\\\":\\\"7957986870263617593\\\",\\\"id\\\":\\\"10630003369218207635\\\",\\\"type\\\":\\\"observable\\\"},val)) : undefined; return this.valueFromJulia[\\\"index\\\"]=false}),self)]\\n        \\n    }\\n    self.model = new AppViewModel();\\n    self.valueFromJulia = {};\\n    for (var key in json_data) {\\n        self.valueFromJulia[key] = false;\\n    }\\n    ko.applyBindings(self.model, self.dom);\\n}\\n);\\n    (WebIO.importBlock({\\\"data\\\":[{\\\"name\\\":\\\"knockout\\\",\\\"type\\\":\\\"js\\\",\\\"url\\\":\\\"/assetserver/502f59c81f524b150503efcbb53ea0d68912880c-knockout.js\\\"},{\\\"name\\\":\\\"knockout_punches\\\",\\\"type\\\":\\\"js\\\",\\\"url\\\":\\\"/assetserver/3b75067736ba00af80f1795cf8d9cd404ea498dc-knockout_punches.js\\\"}],\\\"type\\\":\\\"async_block\\\"})).then((imports) => handler.apply(this, imports));\\n}\\n\")])], Dict{Symbol,Any}(:className => \"field interact-widget\")), Observable{Any} with 0 listeners. Value:\n",
       "Node{WebIO.DOM}(WebIO.DOM(:html, :div), Any[Plot{Plots.GRBackend() n=1}], Dict{Symbol,Any}(:className => \"interact-flex-row interact-widget\"))], Dict{Symbol,Any}())"
      ]
     },
     "execution_count": 5,
     "metadata": {
      "application/vnd.webio.node+json": {
       "kernelId": "851e9f88-7c19-4dfe-b2b2-f50886ddb7a4"
      }
     },
     "output_type": "execute_result"
    }
   ],
   "source": [
    "@manipulate for k=1:10\n",
    "    plot(k*(1:5))\n",
    "end"
   ]
  },
  {
   "cell_type": "code",
   "execution_count": 3,
   "metadata": {},
   "outputs": [
    {
     "data": {
      "text/plain": [
       "2"
      ]
     },
     "execution_count": 3,
     "metadata": {},
     "output_type": "execute_result"
    }
   ],
   "source": [
    "2"
   ]
  },
  {
   "cell_type": "code",
   "execution_count": null,
   "metadata": {},
   "outputs": [],
   "source": []
  }
 ],
 "metadata": {
  "@webio": {
   "lastCommId": "36ad119a84fa4722acc275e788504f7a",
   "lastKernelId": "5f6511e1-cc51-4e4b-8449-7ea0df6204a3"
  },
  "kernelspec": {
   "display_name": "Julia 1.5.1",
   "language": "julia",
   "name": "julia-1.5"
  },
  "language_info": {
   "file_extension": ".jl",
   "mimetype": "application/julia",
   "name": "julia",
   "version": "1.5.1"
  }
 },
 "nbformat": 4,
 "nbformat_minor": 2
}
