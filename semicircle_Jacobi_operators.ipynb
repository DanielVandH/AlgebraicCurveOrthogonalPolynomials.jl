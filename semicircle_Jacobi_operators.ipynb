{
 "cells": [
  {
   "cell_type": "code",
   "execution_count": 1,
   "metadata": {},
   "outputs": [],
   "source": [
    "using BandedMatrices"
   ]
  },
  {
   "cell_type": "code",
   "execution_count": 2,
   "metadata": {},
   "outputs": [
    {
     "data": {
      "text/plain": [
       "100×100 BandedMatrix{Float64,Array{Float64,2},Base.OneTo{Int64}}:\n",
       " -0.707107  0.0   -0.653281   ⋅     ⋅    …   ⋅      ⋅         ⋅      ⋅      \n",
       "  0.0       0.5    0.0       0.25   ⋅        ⋅      ⋅         ⋅      ⋅      \n",
       " -0.653281  0.0    0.5       0.0   0.25      ⋅      ⋅         ⋅      ⋅      \n",
       "   ⋅        0.25   0.0       0.5   0.0       ⋅      ⋅         ⋅      ⋅      \n",
       "   ⋅         ⋅     0.25      0.0   0.5       ⋅      ⋅         ⋅      ⋅      \n",
       "   ⋅         ⋅      ⋅        0.25  0.0   …   ⋅      ⋅         ⋅      ⋅      \n",
       "   ⋅         ⋅      ⋅         ⋅    0.25      ⋅      ⋅         ⋅      ⋅      \n",
       "   ⋅         ⋅      ⋅         ⋅     ⋅        ⋅      ⋅         ⋅      ⋅      \n",
       "   ⋅         ⋅      ⋅         ⋅     ⋅        ⋅      ⋅         ⋅      ⋅      \n",
       "   ⋅         ⋅      ⋅         ⋅     ⋅        ⋅      ⋅         ⋅      ⋅      \n",
       "   ⋅         ⋅      ⋅         ⋅     ⋅    …   ⋅      ⋅         ⋅      ⋅      \n",
       "   ⋅         ⋅      ⋅         ⋅     ⋅        ⋅      ⋅         ⋅      ⋅      \n",
       "   ⋅         ⋅      ⋅         ⋅     ⋅        ⋅      ⋅         ⋅      ⋅      \n",
       "  ⋮                                      ⋱                                  \n",
       "   ⋅         ⋅      ⋅         ⋅     ⋅        ⋅      ⋅         ⋅      ⋅      \n",
       "   ⋅         ⋅      ⋅         ⋅     ⋅        ⋅      ⋅         ⋅      ⋅      \n",
       "   ⋅         ⋅      ⋅         ⋅     ⋅    …   ⋅      ⋅         ⋅      ⋅      \n",
       "   ⋅         ⋅      ⋅         ⋅     ⋅        ⋅      ⋅         ⋅      ⋅      \n",
       "   ⋅         ⋅      ⋅         ⋅     ⋅        ⋅      ⋅         ⋅      ⋅      \n",
       "   ⋅         ⋅      ⋅         ⋅     ⋅        ⋅      ⋅         ⋅      ⋅      \n",
       "   ⋅         ⋅      ⋅         ⋅     ⋅       0.25    ⋅         ⋅      ⋅      \n",
       "   ⋅         ⋅      ⋅         ⋅     ⋅    …  0.0    0.25       ⋅      ⋅      \n",
       "   ⋅         ⋅      ⋅         ⋅     ⋅       0.5    0.0       0.25    ⋅      \n",
       "   ⋅         ⋅      ⋅         ⋅     ⋅       0.0    0.5       0.0   -0.653281\n",
       "   ⋅         ⋅      ⋅         ⋅     ⋅       0.25   0.0       0.5    0.0     \n",
       "   ⋅         ⋅      ⋅         ⋅     ⋅        ⋅    -0.653281  0.0   -0.707107"
      ]
     },
     "execution_count": 2,
     "metadata": {},
     "output_type": "execute_result"
    }
   ],
   "source": [
    "x₂=-(1/4)*sqrt(4+2*sqrt(2))\n",
    "x₀=-1/sqrt(2)\n",
    "dim = 100;\n",
    "X = BandedMatrix{Float64}(undef, (dim,dim), (2,2))\n",
    "X[band(0)] = [x₀ 1/2*ones(1,dim-2) x₀]\n",
    "X[band(1)] .= X[band(-1)] .= 0;\n",
    "X[band(2)] = X[band(-2)] = [x₂ 1/4*ones(1,dim-4) x₂]\n",
    "X"
   ]
  },
  {
   "cell_type": "code",
   "execution_count": 3,
   "metadata": {},
   "outputs": [
    {
     "data": {
      "text/plain": [
       "100×100 BandedMatrix{Float64,Array{Float64,2},Base.OneTo{Int64}}:\n",
       " 0.0        0.270598   0.0        0.0       …    ⋅          ⋅         ⋅      \n",
       " 0.270598   0.0       -0.5        0.0            ⋅          ⋅         ⋅      \n",
       " 0.0       -0.5        0.0       -0.103553       ⋅          ⋅         ⋅      \n",
       " 0.0        0.0       -0.103553   0.0            ⋅          ⋅         ⋅      \n",
       "  ⋅         0.603553   0.0       -0.5            ⋅          ⋅         ⋅      \n",
       "  ⋅          ⋅         0.0        0.0       …    ⋅          ⋅         ⋅      \n",
       "  ⋅          ⋅          ⋅         0.603553       ⋅          ⋅         ⋅      \n",
       "  ⋅          ⋅          ⋅          ⋅             ⋅          ⋅         ⋅      \n",
       "  ⋅          ⋅          ⋅          ⋅             ⋅          ⋅         ⋅      \n",
       "  ⋅          ⋅          ⋅          ⋅             ⋅          ⋅         ⋅      \n",
       "  ⋅          ⋅          ⋅          ⋅        …    ⋅          ⋅         ⋅      \n",
       "  ⋅          ⋅          ⋅          ⋅             ⋅          ⋅         ⋅      \n",
       "  ⋅          ⋅          ⋅          ⋅             ⋅          ⋅         ⋅      \n",
       " ⋮                                          ⋱                                \n",
       "  ⋅          ⋅          ⋅          ⋅             ⋅          ⋅         ⋅      \n",
       "  ⋅          ⋅          ⋅          ⋅             ⋅          ⋅         ⋅      \n",
       "  ⋅          ⋅          ⋅          ⋅        …    ⋅          ⋅         ⋅      \n",
       "  ⋅          ⋅          ⋅          ⋅             ⋅          ⋅         ⋅      \n",
       "  ⋅          ⋅          ⋅          ⋅             ⋅          ⋅         ⋅      \n",
       "  ⋅          ⋅          ⋅          ⋅             ⋅          ⋅         ⋅      \n",
       "  ⋅          ⋅          ⋅          ⋅            0.0         ⋅         ⋅      \n",
       "  ⋅          ⋅          ⋅          ⋅        …   0.0        0.603553   ⋅      \n",
       "  ⋅          ⋅          ⋅          ⋅           -0.103553   0.0       0.0     \n",
       "  ⋅          ⋅          ⋅          ⋅            0.0       -0.5       0.0     \n",
       "  ⋅          ⋅          ⋅          ⋅           -0.5        0.0       0.270598\n",
       "  ⋅          ⋅          ⋅          ⋅            0.0        0.270598  0.0     "
      ]
     },
     "execution_count": 3,
     "metadata": {},
     "output_type": "execute_result"
    }
   ],
   "source": [
    "a₁₂ = (1 + sqrt(2))/4\n",
    "a₂₁ = (1 - sqrt(2))/4\n",
    "y₁=(1/4)*sqrt(4-2*sqrt(2))\n",
    "Y = BandedMatrix{Float64}(undef, (dim,dim), (3,3))\n",
    "Y[band(0)].=0\n",
    "Y[band(2)].=Y[band(-2)].=0\n",
    "d1 = [y₁ repeat([-1/2 a₂₁],1,Int64(round(dim/2))-1)]\n",
    "d1[dim-1]=y₁\n",
    "d3 = repeat([0 a₁₂],1,Int64(round(dim/2)))\n",
    "Y[band(1)] = Y[band(-1)] = d1[1:dim-1] \n",
    "Y[band(3)] = Y[band(-3)] = d3[1:dim-3]\n",
    "Y"
   ]
  },
  {
   "cell_type": "code",
   "execution_count": 4,
   "metadata": {},
   "outputs": [
    {
     "data": {
      "text/plain": [
       "100×100 BandedMatrix{Float64,Array{Float64,2},Base.OneTo{Int64}}:\n",
       "  0.0          8.32667e-17  0.0  …   ⋅    ⋅             ⋅         \n",
       " -8.32667e-17  0.0          0.0      ⋅    ⋅             ⋅         \n",
       "  0.0          0.0          0.0      ⋅    ⋅             ⋅         \n",
       " -2.77556e-17  0.0          0.0      ⋅    ⋅             ⋅         \n",
       "  0.0          0.0          0.0      ⋅    ⋅             ⋅         \n",
       "  0.0          0.0          0.0  …   ⋅    ⋅             ⋅         \n",
       "   ⋅           0.0          0.0      ⋅    ⋅             ⋅         \n",
       "   ⋅            ⋅           0.0      ⋅    ⋅             ⋅         \n",
       "   ⋅            ⋅            ⋅       ⋅    ⋅             ⋅         \n",
       "   ⋅            ⋅            ⋅       ⋅    ⋅             ⋅         \n",
       "   ⋅            ⋅            ⋅   …   ⋅    ⋅             ⋅         \n",
       "   ⋅            ⋅            ⋅       ⋅    ⋅             ⋅         \n",
       "   ⋅            ⋅            ⋅       ⋅    ⋅             ⋅         \n",
       "  ⋮                              ⋱                                \n",
       "   ⋅            ⋅            ⋅       ⋅    ⋅             ⋅         \n",
       "   ⋅            ⋅            ⋅       ⋅    ⋅             ⋅         \n",
       "   ⋅            ⋅            ⋅   …   ⋅    ⋅             ⋅         \n",
       "   ⋅            ⋅            ⋅       ⋅    ⋅             ⋅         \n",
       "   ⋅            ⋅            ⋅      0.0   ⋅             ⋅         \n",
       "   ⋅            ⋅            ⋅      0.0  0.0            ⋅         \n",
       "   ⋅            ⋅            ⋅      0.0  0.0           0.0        \n",
       "   ⋅            ⋅            ⋅   …  0.0  0.0           0.0        \n",
       "   ⋅            ⋅            ⋅      0.0  0.0          -2.77556e-17\n",
       "   ⋅            ⋅            ⋅      0.0  0.0           0.0        \n",
       "   ⋅            ⋅            ⋅      0.0  0.0          -8.32667e-17\n",
       "   ⋅            ⋅            ⋅      0.0  8.32667e-17   0.0        "
      ]
     },
     "execution_count": 4,
     "metadata": {},
     "output_type": "execute_result"
    }
   ],
   "source": [
    "X*Y - Y*X"
   ]
  },
  {
   "cell_type": "code",
   "execution_count": 5,
   "metadata": {},
   "outputs": [
    {
     "data": {
      "text/plain": [
       "100×100 BandedMatrix{Float64,Array{Float64,2},Base.OneTo{Int64}}:\n",
       " -1.11022e-16   0.0           0.0          …    ⋅             ⋅         \n",
       "  0.0           0.0           0.0               ⋅             ⋅         \n",
       "  0.0           0.0           0.0               ⋅             ⋅         \n",
       "  0.0           2.77556e-17   0.0               ⋅             ⋅         \n",
       " -2.77556e-17   0.0           2.77556e-17       ⋅             ⋅         \n",
       "  0.0          -1.38778e-17   0.0          …    ⋅             ⋅         \n",
       "  0.0           0.0          -1.38778e-17       ⋅             ⋅         \n",
       "   ⋅            0.0           0.0               ⋅             ⋅         \n",
       "   ⋅             ⋅            0.0               ⋅             ⋅         \n",
       "   ⋅             ⋅             ⋅                ⋅             ⋅         \n",
       "   ⋅             ⋅             ⋅           …    ⋅             ⋅         \n",
       "   ⋅             ⋅             ⋅                ⋅             ⋅         \n",
       "   ⋅             ⋅             ⋅                ⋅             ⋅         \n",
       "  ⋮                                        ⋱                            \n",
       "   ⋅             ⋅             ⋅                ⋅             ⋅         \n",
       "   ⋅             ⋅             ⋅                ⋅             ⋅         \n",
       "   ⋅             ⋅             ⋅           …    ⋅             ⋅         \n",
       "   ⋅             ⋅             ⋅                ⋅             ⋅         \n",
       "   ⋅             ⋅             ⋅               0.0            ⋅         \n",
       "   ⋅             ⋅             ⋅               0.0           0.0        \n",
       "   ⋅             ⋅             ⋅              -1.38778e-17   0.0        \n",
       "   ⋅             ⋅             ⋅           …   0.0          -2.77556e-17\n",
       "   ⋅             ⋅             ⋅               2.77556e-17   0.0        \n",
       "   ⋅             ⋅             ⋅               0.0           0.0        \n",
       "   ⋅             ⋅             ⋅               0.0           0.0        \n",
       "   ⋅             ⋅             ⋅               0.0          -1.11022e-16"
      ]
     },
     "execution_count": 5,
     "metadata": {},
     "output_type": "execute_result"
    }
   ],
   "source": [
    "X^2 + Y^2 - BandedMatrix(Eye(dim))"
   ]
  },
  {
   "cell_type": "code",
   "execution_count": null,
   "metadata": {},
   "outputs": [],
   "source": []
  }
 ],
 "metadata": {
  "kernelspec": {
   "display_name": "Julia 1.2.0",
   "language": "julia",
   "name": "julia-1.2"
  },
  "language_info": {
   "file_extension": ".jl",
   "mimetype": "application/julia",
   "name": "julia",
   "version": "1.2.0"
  }
 },
 "nbformat": 4,
 "nbformat_minor": 2
}
